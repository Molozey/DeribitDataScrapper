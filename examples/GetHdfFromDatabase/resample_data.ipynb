{
 "cells": [
  {
   "cell_type": "code",
   "execution_count": null,
   "metadata": {},
   "outputs": [],
   "source": [
    "from enum import Enum\n",
    "import pandas as pd\n",
    "import numpy as np\n",
    "from tqdm.auto import tqdm\n",
    " \n",
    "from get_processed_books import process_books"
   ]
  },
  {
   "cell_type": "code",
   "execution_count": 2,
   "metadata": {},
   "outputs": [],
   "source": [
    "FILE_PATH = 'DATA/books_processed/books{:0004d}.hdf'\n",
    "N_FILES = 2148"
   ]
  },
  {
   "cell_type": "code",
   "execution_count": 3,
   "metadata": {},
   "outputs": [
    {
     "name": "stderr",
     "output_type": "stream",
     "text": [
      "100%|██████████| 2148/2148 [36:25<00:00,  1.02s/it]\n"
     ]
    }
   ],
   "source": [
    "# Here all timestamps are in ms.\n",
    "\n",
    "freq_ms = round(pd.to_timedelta('15 minutes').total_seconds()*1000)\n",
    "\n",
    "samples = []\n",
    "sample = {}\n",
    "sample_idx = 1\n",
    "\n",
    "for table_idx in tqdm(range(1, N_FILES+1)):\n",
    "    books = pd.read_hdf(FILE_PATH.format(table_idx))\n",
    "\n",
    "    # TODO: pass to function names of the columns\n",
    "    instr_id = books['instrument_id'].to_numpy()\n",
    "    strike = books['strike'].to_numpy()\n",
    "    maturity = books['maturity'].to_numpy() * 1000  # convert to ms\n",
    "    instr_type = books['instrument_type'].to_numpy()\n",
    "    ts = books['timestamp'].to_numpy() # in ms\n",
    "\n",
    "    if table_idx == 1:\n",
    "        start_ts = ts[0]\n",
    "        end_ts = start_ts + freq_ms\n",
    "\n",
    "    for row in range(len(ts)):\n",
    "        if ts[row] <= end_ts:\n",
    "            key = (instr_id[row], strike[row], maturity[row], instr_type[row])\n",
    "            if maturity[row] < 0 or maturity[row] > end_ts:\n",
    "                sample[key] = (sample_idx, table_idx, row)\n",
    "        else:\n",
    "            samples += list(sample.values())\n",
    "            start_ts = ts[row]\n",
    "            end_ts = start_ts + freq_ms\n",
    "            sample = {} \n",
    "            sample_idx += 1"
   ]
  },
  {
   "cell_type": "code",
   "execution_count": 4,
   "metadata": {},
   "outputs": [
    {
     "name": "stderr",
     "output_type": "stream",
     "text": [
      "100%|██████████| 2148/2148 [16:09<00:00,  2.22it/s]\n"
     ]
    }
   ],
   "source": [
    "samples_data = np.array(samples, dtype=int)\n",
    "# sort by table_idx so that we can iterate tables sequentially\n",
    "samples_data = samples_data[samples_data[:, 1].argsort(kind='stable')]\n",
    "\n",
    "for table_idx in tqdm(range(1, N_FILES+1)):\n",
    "    books = pd.read_hdf(FILE_PATH.format(table_idx))\n",
    "\n",
    "    if table_idx == 1:\n",
    "        books_resampled = books.drop(books.index)\n",
    "        books_resampled.insert(0, 'sample_idx', -1)\n",
    "\n",
    "    curr_table_mask = (samples_data[:, 1] == table_idx)\n",
    "    rows = samples_data[curr_table_mask][:, 2]\n",
    "    books_curr_table = books.iloc[rows].copy()\n",
    "    books_curr_table['sample_idx'] = samples_data[curr_table_mask][:, 0]\n",
    "    books_resampled = pd.concat((books_resampled, books_curr_table), ignore_index=True)\n",
    "\n",
    "books_resampled.sort_values('sample_idx', kind='stable', ignore_index=True, inplace=True)"
   ]
  },
  {
   "cell_type": "code",
   "execution_count": 7,
   "metadata": {},
   "outputs": [],
   "source": [
    "FILE_PATH_RESAMPLED = 'DATA/books_processed/books_resampled_15min.hdf'\n",
    "books_resampled.to_hdf(FILE_PATH_RESAMPLED, key='books_processed', complevel=3)"
   ]
  }
 ],
 "metadata": {
  "kernelspec": {
   "display_name": "noa",
   "language": "python",
   "name": "python3"
  },
  "language_info": {
   "codemirror_mode": {
    "name": "ipython",
    "version": 3
   },
   "file_extension": ".py",
   "mimetype": "text/x-python",
   "name": "python",
   "nbconvert_exporter": "python",
   "pygments_lexer": "ipython3",
   "version": "3.11.8"
  }
 },
 "nbformat": 4,
 "nbformat_minor": 2
}
