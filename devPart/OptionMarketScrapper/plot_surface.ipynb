{
 "cells": [
  {
   "cell_type": "code",
   "execution_count": 1,
   "metadata": {
    "collapsed": true
   },
   "outputs": [],
   "source": [
    "import pandas as pd\n",
    "import matplotlib.pylab as plt\n",
    "import numpy as np\n",
    "import plotly.graph_objects as go"
   ]
  },
  {
   "cell_type": "code",
   "execution_count": 9,
   "outputs": [
    {
     "data": {
      "text/plain": "          2022-11-02  2022-11-03  2022-11-04  2022-11-11  2022-11-18  \\\n5000.0           NaN         NaN         NaN         NaN         NaN   \n8000.0           NaN         NaN         NaN         NaN         NaN   \n10000.0          NaN         NaN         NaN         NaN         NaN   \n11000.0          NaN         NaN         NaN         NaN         NaN   \n12000.0          NaN         NaN         NaN         NaN         NaN   \n13000.0          NaN         NaN         NaN         NaN         NaN   \n14000.0          NaN         NaN         NaN         NaN         NaN   \n15000.0          NaN         NaN      0.2300      0.2300         NaN   \n16000.0          NaN         NaN         NaN         NaN         NaN   \n16500.0          NaN         NaN         NaN         NaN         NaN   \n17000.0          NaN         NaN         NaN         NaN         NaN   \n17500.0          NaN         NaN         NaN         NaN         NaN   \n18000.0          NaN         NaN      0.1285      0.1440         NaN   \n18500.0          NaN         NaN      0.1160      0.1175         NaN   \n19000.0          NaN         NaN      0.0865      0.0859      0.0928   \n19500.0          NaN         NaN      0.0600      0.0790      0.0675   \n19750.0       0.0375         NaN         NaN         NaN         NaN   \n20000.0          NaN         NaN      0.0315      0.0475      0.0555   \n20250.0       0.0105      0.0240         NaN         NaN         NaN   \n20500.0       0.0065      0.0165      0.0185      0.0365      0.0455   \n20750.0       0.0025      0.0110         NaN         NaN         NaN   \n21000.0       0.0010      0.0075      0.0105      0.0240      0.0370   \n21250.0       0.0005      0.0045         NaN         NaN         NaN   \n21500.0       0.0005      0.0035      0.0050      0.0180      0.0270   \n22000.0       0.0005      0.0015      0.0025      0.0110      0.0210   \n22500.0       0.0005      0.0005         NaN         NaN         NaN   \n23000.0          NaN      0.0005      0.0010      0.0055      0.0115   \n24000.0          NaN      0.0005      0.0005      0.0025      0.0070   \n25000.0          NaN         NaN      0.0005      0.0010      0.0035   \n26000.0          NaN         NaN      0.0005      0.0010      0.0022   \n27000.0          NaN         NaN      0.0005      0.0005      0.0020   \n28000.0          NaN         NaN      0.0005      0.0005      0.0010   \n29000.0          NaN         NaN      0.0005      0.0005      0.0005   \n30000.0          NaN         NaN         NaN      0.0005      0.0005   \n31000.0          NaN         NaN         NaN      0.0005      0.0005   \n32000.0          NaN         NaN         NaN         NaN         NaN   \n33000.0          NaN         NaN         NaN         NaN         NaN   \n34000.0          NaN         NaN         NaN         NaN         NaN   \n35000.0          NaN         NaN         NaN         NaN         NaN   \n36000.0          NaN         NaN         NaN         NaN         NaN   \n38000.0          NaN         NaN         NaN         NaN         NaN   \n40000.0          NaN         NaN         NaN         NaN         NaN   \n42000.0          NaN         NaN         NaN         NaN         NaN   \n45000.0          NaN         NaN         NaN         NaN         NaN   \n50000.0          NaN         NaN         NaN         NaN         NaN   \n55000.0          NaN         NaN         NaN         NaN         NaN   \n60000.0          NaN         NaN         NaN         NaN         NaN   \n65000.0          NaN         NaN         NaN         NaN         NaN   \n70000.0          NaN         NaN         NaN         NaN         NaN   \n80000.0          NaN         NaN         NaN         NaN         NaN   \n90000.0          NaN         NaN         NaN         NaN         NaN   \n100000.0         NaN         NaN         NaN         NaN         NaN   \n120000.0         NaN         NaN         NaN         NaN         NaN   \n140000.0         NaN         NaN         NaN         NaN         NaN   \n150000.0         NaN         NaN         NaN         NaN         NaN   \n200000.0         NaN         NaN         NaN         NaN         NaN   \n250000.0         NaN         NaN         NaN         NaN         NaN   \n300000.0         NaN         NaN         NaN         NaN         NaN   \n\n          2022-11-25  2022-12-30  2023-01-27  2023-03-31  2023-06-30  \\\n5000.0           NaN      0.7530         NaN      0.7390         NaN   \n8000.0           NaN         NaN         NaN         NaN         NaN   \n10000.0          NaN      0.5045         NaN      0.5360      0.5330   \n11000.0          NaN         NaN         NaN      0.4920         NaN   \n12000.0          NaN      0.3850         NaN         NaN         NaN   \n13000.0          NaN         NaN         NaN      0.5095      0.4120   \n14000.0          NaN      0.3110         NaN      0.3610      0.3885   \n15000.0          NaN      0.2940         NaN      0.3100      0.3670   \n16000.0          NaN      0.2400         NaN      0.2677      0.3250   \n16500.0          NaN         NaN         NaN         NaN         NaN   \n17000.0       0.1435      0.2010         NaN      0.2400      0.3680   \n17500.0          NaN         NaN         NaN         NaN         NaN   \n18000.0       0.1245      0.1652         NaN      0.2015      0.2700   \n18500.0          NaN         NaN         NaN         NaN         NaN   \n19000.0       0.1087      0.1340      0.1545      0.1950      0.2300   \n19500.0          NaN         NaN         NaN         NaN         NaN   \n19750.0          NaN         NaN         NaN         NaN         NaN   \n20000.0       0.0635      0.1025      0.1370      0.1730      0.2315   \n20250.0          NaN         NaN         NaN         NaN         NaN   \n20500.0          NaN         NaN         NaN         NaN         NaN   \n20750.0          NaN         NaN         NaN         NaN         NaN   \n21000.0       0.0445      0.0800      0.1055      0.1560      0.2073   \n21250.0          NaN         NaN         NaN         NaN         NaN   \n21500.0          NaN         NaN         NaN         NaN         NaN   \n22000.0       0.0260      0.0627      0.0854      0.1291      0.1805   \n22500.0          NaN         NaN         NaN         NaN         NaN   \n23000.0       0.0160      0.0470      0.0690      0.1045      0.1740   \n24000.0       0.0095      0.0360      0.0655      0.1000      0.1573   \n25000.0       0.0065      0.0266      0.0455      0.0910      0.1330   \n26000.0       0.0040      0.0210      0.0381      0.0750      0.1260   \n27000.0          NaN      0.0160         NaN      0.0590      0.1150   \n28000.0       0.0020      0.0130      0.0250      0.0580      0.1120   \n29000.0          NaN         NaN         NaN      0.0575      0.1000   \n30000.0       0.0010      0.0075      0.0185      0.0445      0.0885   \n31000.0          NaN         NaN         NaN         NaN         NaN   \n32000.0       0.0005      0.0055      0.0125      0.0380         NaN   \n33000.0          NaN         NaN         NaN         NaN         NaN   \n34000.0       0.0005      0.0050      0.0090      0.0280         NaN   \n35000.0       0.0005      0.0030      0.0075      0.0250      0.0595   \n36000.0       0.0005      0.0025         NaN      0.0235         NaN   \n38000.0          NaN      0.0015         NaN      0.0185         NaN   \n40000.0       0.0005      0.0015      0.0035      0.0150      0.0395   \n42000.0          NaN         NaN         NaN      0.0125         NaN   \n45000.0       0.0005      0.0010      0.0025      0.0095      0.0300   \n50000.0          NaN      0.0005         NaN      0.0080      0.0235   \n55000.0          NaN      0.0005         NaN      0.0050         NaN   \n60000.0          NaN      0.0005         NaN      0.0035      0.0145   \n65000.0          NaN         NaN         NaN      0.0025         NaN   \n70000.0          NaN      0.0005         NaN      0.0025         NaN   \n80000.0          NaN      0.0005         NaN      0.0015      0.0065   \n90000.0          NaN      0.0005         NaN         NaN         NaN   \n100000.0         NaN      0.0005         NaN      0.0005      0.0055   \n120000.0         NaN      0.0005         NaN      0.0005         NaN   \n140000.0         NaN         NaN         NaN      0.0005         NaN   \n150000.0         NaN      0.0005         NaN      0.0005         NaN   \n200000.0         NaN      0.0005         NaN      0.0005         NaN   \n250000.0         NaN      0.0005         NaN      0.0005         NaN   \n300000.0         NaN      0.0005         NaN      0.0005         NaN   \n\n          2023-09-29  \n5000.0        0.7710  \n8000.0           NaN  \n10000.0          NaN  \n11000.0          NaN  \n12000.0          NaN  \n13000.0       0.4315  \n14000.0       0.4150  \n15000.0       0.3910  \n16000.0       0.3650  \n16500.0          NaN  \n17000.0       0.3117  \n17500.0          NaN  \n18000.0          NaN  \n18500.0          NaN  \n19000.0       0.2585  \n19500.0          NaN  \n19750.0          NaN  \n20000.0       0.2710  \n20250.0          NaN  \n20500.0          NaN  \n20750.0          NaN  \n21000.0       0.2425  \n21250.0          NaN  \n21500.0          NaN  \n22000.0       0.2345  \n22500.0          NaN  \n23000.0       0.2090  \n24000.0       0.1900  \n25000.0       0.1900  \n26000.0          NaN  \n27000.0          NaN  \n28000.0          NaN  \n29000.0          NaN  \n30000.0       0.1235  \n31000.0          NaN  \n32000.0          NaN  \n33000.0          NaN  \n34000.0          NaN  \n35000.0       0.0895  \n36000.0          NaN  \n38000.0          NaN  \n40000.0       0.0665  \n42000.0          NaN  \n45000.0       0.0500  \n50000.0          NaN  \n55000.0          NaN  \n60000.0       0.0270  \n65000.0          NaN  \n70000.0          NaN  \n80000.0       0.0150  \n90000.0          NaN  \n100000.0         NaN  \n120000.0         NaN  \n140000.0         NaN  \n150000.0         NaN  \n200000.0         NaN  \n250000.0         NaN  \n300000.0         NaN  ",
      "text/html": "<div>\n<style scoped>\n    .dataframe tbody tr th:only-of-type {\n        vertical-align: middle;\n    }\n\n    .dataframe tbody tr th {\n        vertical-align: top;\n    }\n\n    .dataframe thead th {\n        text-align: right;\n    }\n</style>\n<table border=\"1\" class=\"dataframe\">\n  <thead>\n    <tr style=\"text-align: right;\">\n      <th></th>\n      <th>2022-11-02</th>\n      <th>2022-11-03</th>\n      <th>2022-11-04</th>\n      <th>2022-11-11</th>\n      <th>2022-11-18</th>\n      <th>2022-11-25</th>\n      <th>2022-12-30</th>\n      <th>2023-01-27</th>\n      <th>2023-03-31</th>\n      <th>2023-06-30</th>\n      <th>2023-09-29</th>\n    </tr>\n  </thead>\n  <tbody>\n    <tr>\n      <th>5000.0</th>\n      <td>NaN</td>\n      <td>NaN</td>\n      <td>NaN</td>\n      <td>NaN</td>\n      <td>NaN</td>\n      <td>NaN</td>\n      <td>0.7530</td>\n      <td>NaN</td>\n      <td>0.7390</td>\n      <td>NaN</td>\n      <td>0.7710</td>\n    </tr>\n    <tr>\n      <th>8000.0</th>\n      <td>NaN</td>\n      <td>NaN</td>\n      <td>NaN</td>\n      <td>NaN</td>\n      <td>NaN</td>\n      <td>NaN</td>\n      <td>NaN</td>\n      <td>NaN</td>\n      <td>NaN</td>\n      <td>NaN</td>\n      <td>NaN</td>\n    </tr>\n    <tr>\n      <th>10000.0</th>\n      <td>NaN</td>\n      <td>NaN</td>\n      <td>NaN</td>\n      <td>NaN</td>\n      <td>NaN</td>\n      <td>NaN</td>\n      <td>0.5045</td>\n      <td>NaN</td>\n      <td>0.5360</td>\n      <td>0.5330</td>\n      <td>NaN</td>\n    </tr>\n    <tr>\n      <th>11000.0</th>\n      <td>NaN</td>\n      <td>NaN</td>\n      <td>NaN</td>\n      <td>NaN</td>\n      <td>NaN</td>\n      <td>NaN</td>\n      <td>NaN</td>\n      <td>NaN</td>\n      <td>0.4920</td>\n      <td>NaN</td>\n      <td>NaN</td>\n    </tr>\n    <tr>\n      <th>12000.0</th>\n      <td>NaN</td>\n      <td>NaN</td>\n      <td>NaN</td>\n      <td>NaN</td>\n      <td>NaN</td>\n      <td>NaN</td>\n      <td>0.3850</td>\n      <td>NaN</td>\n      <td>NaN</td>\n      <td>NaN</td>\n      <td>NaN</td>\n    </tr>\n    <tr>\n      <th>13000.0</th>\n      <td>NaN</td>\n      <td>NaN</td>\n      <td>NaN</td>\n      <td>NaN</td>\n      <td>NaN</td>\n      <td>NaN</td>\n      <td>NaN</td>\n      <td>NaN</td>\n      <td>0.5095</td>\n      <td>0.4120</td>\n      <td>0.4315</td>\n    </tr>\n    <tr>\n      <th>14000.0</th>\n      <td>NaN</td>\n      <td>NaN</td>\n      <td>NaN</td>\n      <td>NaN</td>\n      <td>NaN</td>\n      <td>NaN</td>\n      <td>0.3110</td>\n      <td>NaN</td>\n      <td>0.3610</td>\n      <td>0.3885</td>\n      <td>0.4150</td>\n    </tr>\n    <tr>\n      <th>15000.0</th>\n      <td>NaN</td>\n      <td>NaN</td>\n      <td>0.2300</td>\n      <td>0.2300</td>\n      <td>NaN</td>\n      <td>NaN</td>\n      <td>0.2940</td>\n      <td>NaN</td>\n      <td>0.3100</td>\n      <td>0.3670</td>\n      <td>0.3910</td>\n    </tr>\n    <tr>\n      <th>16000.0</th>\n      <td>NaN</td>\n      <td>NaN</td>\n      <td>NaN</td>\n      <td>NaN</td>\n      <td>NaN</td>\n      <td>NaN</td>\n      <td>0.2400</td>\n      <td>NaN</td>\n      <td>0.2677</td>\n      <td>0.3250</td>\n      <td>0.3650</td>\n    </tr>\n    <tr>\n      <th>16500.0</th>\n      <td>NaN</td>\n      <td>NaN</td>\n      <td>NaN</td>\n      <td>NaN</td>\n      <td>NaN</td>\n      <td>NaN</td>\n      <td>NaN</td>\n      <td>NaN</td>\n      <td>NaN</td>\n      <td>NaN</td>\n      <td>NaN</td>\n    </tr>\n    <tr>\n      <th>17000.0</th>\n      <td>NaN</td>\n      <td>NaN</td>\n      <td>NaN</td>\n      <td>NaN</td>\n      <td>NaN</td>\n      <td>0.1435</td>\n      <td>0.2010</td>\n      <td>NaN</td>\n      <td>0.2400</td>\n      <td>0.3680</td>\n      <td>0.3117</td>\n    </tr>\n    <tr>\n      <th>17500.0</th>\n      <td>NaN</td>\n      <td>NaN</td>\n      <td>NaN</td>\n      <td>NaN</td>\n      <td>NaN</td>\n      <td>NaN</td>\n      <td>NaN</td>\n      <td>NaN</td>\n      <td>NaN</td>\n      <td>NaN</td>\n      <td>NaN</td>\n    </tr>\n    <tr>\n      <th>18000.0</th>\n      <td>NaN</td>\n      <td>NaN</td>\n      <td>0.1285</td>\n      <td>0.1440</td>\n      <td>NaN</td>\n      <td>0.1245</td>\n      <td>0.1652</td>\n      <td>NaN</td>\n      <td>0.2015</td>\n      <td>0.2700</td>\n      <td>NaN</td>\n    </tr>\n    <tr>\n      <th>18500.0</th>\n      <td>NaN</td>\n      <td>NaN</td>\n      <td>0.1160</td>\n      <td>0.1175</td>\n      <td>NaN</td>\n      <td>NaN</td>\n      <td>NaN</td>\n      <td>NaN</td>\n      <td>NaN</td>\n      <td>NaN</td>\n      <td>NaN</td>\n    </tr>\n    <tr>\n      <th>19000.0</th>\n      <td>NaN</td>\n      <td>NaN</td>\n      <td>0.0865</td>\n      <td>0.0859</td>\n      <td>0.0928</td>\n      <td>0.1087</td>\n      <td>0.1340</td>\n      <td>0.1545</td>\n      <td>0.1950</td>\n      <td>0.2300</td>\n      <td>0.2585</td>\n    </tr>\n    <tr>\n      <th>19500.0</th>\n      <td>NaN</td>\n      <td>NaN</td>\n      <td>0.0600</td>\n      <td>0.0790</td>\n      <td>0.0675</td>\n      <td>NaN</td>\n      <td>NaN</td>\n      <td>NaN</td>\n      <td>NaN</td>\n      <td>NaN</td>\n      <td>NaN</td>\n    </tr>\n    <tr>\n      <th>19750.0</th>\n      <td>0.0375</td>\n      <td>NaN</td>\n      <td>NaN</td>\n      <td>NaN</td>\n      <td>NaN</td>\n      <td>NaN</td>\n      <td>NaN</td>\n      <td>NaN</td>\n      <td>NaN</td>\n      <td>NaN</td>\n      <td>NaN</td>\n    </tr>\n    <tr>\n      <th>20000.0</th>\n      <td>NaN</td>\n      <td>NaN</td>\n      <td>0.0315</td>\n      <td>0.0475</td>\n      <td>0.0555</td>\n      <td>0.0635</td>\n      <td>0.1025</td>\n      <td>0.1370</td>\n      <td>0.1730</td>\n      <td>0.2315</td>\n      <td>0.2710</td>\n    </tr>\n    <tr>\n      <th>20250.0</th>\n      <td>0.0105</td>\n      <td>0.0240</td>\n      <td>NaN</td>\n      <td>NaN</td>\n      <td>NaN</td>\n      <td>NaN</td>\n      <td>NaN</td>\n      <td>NaN</td>\n      <td>NaN</td>\n      <td>NaN</td>\n      <td>NaN</td>\n    </tr>\n    <tr>\n      <th>20500.0</th>\n      <td>0.0065</td>\n      <td>0.0165</td>\n      <td>0.0185</td>\n      <td>0.0365</td>\n      <td>0.0455</td>\n      <td>NaN</td>\n      <td>NaN</td>\n      <td>NaN</td>\n      <td>NaN</td>\n      <td>NaN</td>\n      <td>NaN</td>\n    </tr>\n    <tr>\n      <th>20750.0</th>\n      <td>0.0025</td>\n      <td>0.0110</td>\n      <td>NaN</td>\n      <td>NaN</td>\n      <td>NaN</td>\n      <td>NaN</td>\n      <td>NaN</td>\n      <td>NaN</td>\n      <td>NaN</td>\n      <td>NaN</td>\n      <td>NaN</td>\n    </tr>\n    <tr>\n      <th>21000.0</th>\n      <td>0.0010</td>\n      <td>0.0075</td>\n      <td>0.0105</td>\n      <td>0.0240</td>\n      <td>0.0370</td>\n      <td>0.0445</td>\n      <td>0.0800</td>\n      <td>0.1055</td>\n      <td>0.1560</td>\n      <td>0.2073</td>\n      <td>0.2425</td>\n    </tr>\n    <tr>\n      <th>21250.0</th>\n      <td>0.0005</td>\n      <td>0.0045</td>\n      <td>NaN</td>\n      <td>NaN</td>\n      <td>NaN</td>\n      <td>NaN</td>\n      <td>NaN</td>\n      <td>NaN</td>\n      <td>NaN</td>\n      <td>NaN</td>\n      <td>NaN</td>\n    </tr>\n    <tr>\n      <th>21500.0</th>\n      <td>0.0005</td>\n      <td>0.0035</td>\n      <td>0.0050</td>\n      <td>0.0180</td>\n      <td>0.0270</td>\n      <td>NaN</td>\n      <td>NaN</td>\n      <td>NaN</td>\n      <td>NaN</td>\n      <td>NaN</td>\n      <td>NaN</td>\n    </tr>\n    <tr>\n      <th>22000.0</th>\n      <td>0.0005</td>\n      <td>0.0015</td>\n      <td>0.0025</td>\n      <td>0.0110</td>\n      <td>0.0210</td>\n      <td>0.0260</td>\n      <td>0.0627</td>\n      <td>0.0854</td>\n      <td>0.1291</td>\n      <td>0.1805</td>\n      <td>0.2345</td>\n    </tr>\n    <tr>\n      <th>22500.0</th>\n      <td>0.0005</td>\n      <td>0.0005</td>\n      <td>NaN</td>\n      <td>NaN</td>\n      <td>NaN</td>\n      <td>NaN</td>\n      <td>NaN</td>\n      <td>NaN</td>\n      <td>NaN</td>\n      <td>NaN</td>\n      <td>NaN</td>\n    </tr>\n    <tr>\n      <th>23000.0</th>\n      <td>NaN</td>\n      <td>0.0005</td>\n      <td>0.0010</td>\n      <td>0.0055</td>\n      <td>0.0115</td>\n      <td>0.0160</td>\n      <td>0.0470</td>\n      <td>0.0690</td>\n      <td>0.1045</td>\n      <td>0.1740</td>\n      <td>0.2090</td>\n    </tr>\n    <tr>\n      <th>24000.0</th>\n      <td>NaN</td>\n      <td>0.0005</td>\n      <td>0.0005</td>\n      <td>0.0025</td>\n      <td>0.0070</td>\n      <td>0.0095</td>\n      <td>0.0360</td>\n      <td>0.0655</td>\n      <td>0.1000</td>\n      <td>0.1573</td>\n      <td>0.1900</td>\n    </tr>\n    <tr>\n      <th>25000.0</th>\n      <td>NaN</td>\n      <td>NaN</td>\n      <td>0.0005</td>\n      <td>0.0010</td>\n      <td>0.0035</td>\n      <td>0.0065</td>\n      <td>0.0266</td>\n      <td>0.0455</td>\n      <td>0.0910</td>\n      <td>0.1330</td>\n      <td>0.1900</td>\n    </tr>\n    <tr>\n      <th>26000.0</th>\n      <td>NaN</td>\n      <td>NaN</td>\n      <td>0.0005</td>\n      <td>0.0010</td>\n      <td>0.0022</td>\n      <td>0.0040</td>\n      <td>0.0210</td>\n      <td>0.0381</td>\n      <td>0.0750</td>\n      <td>0.1260</td>\n      <td>NaN</td>\n    </tr>\n    <tr>\n      <th>27000.0</th>\n      <td>NaN</td>\n      <td>NaN</td>\n      <td>0.0005</td>\n      <td>0.0005</td>\n      <td>0.0020</td>\n      <td>NaN</td>\n      <td>0.0160</td>\n      <td>NaN</td>\n      <td>0.0590</td>\n      <td>0.1150</td>\n      <td>NaN</td>\n    </tr>\n    <tr>\n      <th>28000.0</th>\n      <td>NaN</td>\n      <td>NaN</td>\n      <td>0.0005</td>\n      <td>0.0005</td>\n      <td>0.0010</td>\n      <td>0.0020</td>\n      <td>0.0130</td>\n      <td>0.0250</td>\n      <td>0.0580</td>\n      <td>0.1120</td>\n      <td>NaN</td>\n    </tr>\n    <tr>\n      <th>29000.0</th>\n      <td>NaN</td>\n      <td>NaN</td>\n      <td>0.0005</td>\n      <td>0.0005</td>\n      <td>0.0005</td>\n      <td>NaN</td>\n      <td>NaN</td>\n      <td>NaN</td>\n      <td>0.0575</td>\n      <td>0.1000</td>\n      <td>NaN</td>\n    </tr>\n    <tr>\n      <th>30000.0</th>\n      <td>NaN</td>\n      <td>NaN</td>\n      <td>NaN</td>\n      <td>0.0005</td>\n      <td>0.0005</td>\n      <td>0.0010</td>\n      <td>0.0075</td>\n      <td>0.0185</td>\n      <td>0.0445</td>\n      <td>0.0885</td>\n      <td>0.1235</td>\n    </tr>\n    <tr>\n      <th>31000.0</th>\n      <td>NaN</td>\n      <td>NaN</td>\n      <td>NaN</td>\n      <td>0.0005</td>\n      <td>0.0005</td>\n      <td>NaN</td>\n      <td>NaN</td>\n      <td>NaN</td>\n      <td>NaN</td>\n      <td>NaN</td>\n      <td>NaN</td>\n    </tr>\n    <tr>\n      <th>32000.0</th>\n      <td>NaN</td>\n      <td>NaN</td>\n      <td>NaN</td>\n      <td>NaN</td>\n      <td>NaN</td>\n      <td>0.0005</td>\n      <td>0.0055</td>\n      <td>0.0125</td>\n      <td>0.0380</td>\n      <td>NaN</td>\n      <td>NaN</td>\n    </tr>\n    <tr>\n      <th>33000.0</th>\n      <td>NaN</td>\n      <td>NaN</td>\n      <td>NaN</td>\n      <td>NaN</td>\n      <td>NaN</td>\n      <td>NaN</td>\n      <td>NaN</td>\n      <td>NaN</td>\n      <td>NaN</td>\n      <td>NaN</td>\n      <td>NaN</td>\n    </tr>\n    <tr>\n      <th>34000.0</th>\n      <td>NaN</td>\n      <td>NaN</td>\n      <td>NaN</td>\n      <td>NaN</td>\n      <td>NaN</td>\n      <td>0.0005</td>\n      <td>0.0050</td>\n      <td>0.0090</td>\n      <td>0.0280</td>\n      <td>NaN</td>\n      <td>NaN</td>\n    </tr>\n    <tr>\n      <th>35000.0</th>\n      <td>NaN</td>\n      <td>NaN</td>\n      <td>NaN</td>\n      <td>NaN</td>\n      <td>NaN</td>\n      <td>0.0005</td>\n      <td>0.0030</td>\n      <td>0.0075</td>\n      <td>0.0250</td>\n      <td>0.0595</td>\n      <td>0.0895</td>\n    </tr>\n    <tr>\n      <th>36000.0</th>\n      <td>NaN</td>\n      <td>NaN</td>\n      <td>NaN</td>\n      <td>NaN</td>\n      <td>NaN</td>\n      <td>0.0005</td>\n      <td>0.0025</td>\n      <td>NaN</td>\n      <td>0.0235</td>\n      <td>NaN</td>\n      <td>NaN</td>\n    </tr>\n    <tr>\n      <th>38000.0</th>\n      <td>NaN</td>\n      <td>NaN</td>\n      <td>NaN</td>\n      <td>NaN</td>\n      <td>NaN</td>\n      <td>NaN</td>\n      <td>0.0015</td>\n      <td>NaN</td>\n      <td>0.0185</td>\n      <td>NaN</td>\n      <td>NaN</td>\n    </tr>\n    <tr>\n      <th>40000.0</th>\n      <td>NaN</td>\n      <td>NaN</td>\n      <td>NaN</td>\n      <td>NaN</td>\n      <td>NaN</td>\n      <td>0.0005</td>\n      <td>0.0015</td>\n      <td>0.0035</td>\n      <td>0.0150</td>\n      <td>0.0395</td>\n      <td>0.0665</td>\n    </tr>\n    <tr>\n      <th>42000.0</th>\n      <td>NaN</td>\n      <td>NaN</td>\n      <td>NaN</td>\n      <td>NaN</td>\n      <td>NaN</td>\n      <td>NaN</td>\n      <td>NaN</td>\n      <td>NaN</td>\n      <td>0.0125</td>\n      <td>NaN</td>\n      <td>NaN</td>\n    </tr>\n    <tr>\n      <th>45000.0</th>\n      <td>NaN</td>\n      <td>NaN</td>\n      <td>NaN</td>\n      <td>NaN</td>\n      <td>NaN</td>\n      <td>0.0005</td>\n      <td>0.0010</td>\n      <td>0.0025</td>\n      <td>0.0095</td>\n      <td>0.0300</td>\n      <td>0.0500</td>\n    </tr>\n    <tr>\n      <th>50000.0</th>\n      <td>NaN</td>\n      <td>NaN</td>\n      <td>NaN</td>\n      <td>NaN</td>\n      <td>NaN</td>\n      <td>NaN</td>\n      <td>0.0005</td>\n      <td>NaN</td>\n      <td>0.0080</td>\n      <td>0.0235</td>\n      <td>NaN</td>\n    </tr>\n    <tr>\n      <th>55000.0</th>\n      <td>NaN</td>\n      <td>NaN</td>\n      <td>NaN</td>\n      <td>NaN</td>\n      <td>NaN</td>\n      <td>NaN</td>\n      <td>0.0005</td>\n      <td>NaN</td>\n      <td>0.0050</td>\n      <td>NaN</td>\n      <td>NaN</td>\n    </tr>\n    <tr>\n      <th>60000.0</th>\n      <td>NaN</td>\n      <td>NaN</td>\n      <td>NaN</td>\n      <td>NaN</td>\n      <td>NaN</td>\n      <td>NaN</td>\n      <td>0.0005</td>\n      <td>NaN</td>\n      <td>0.0035</td>\n      <td>0.0145</td>\n      <td>0.0270</td>\n    </tr>\n    <tr>\n      <th>65000.0</th>\n      <td>NaN</td>\n      <td>NaN</td>\n      <td>NaN</td>\n      <td>NaN</td>\n      <td>NaN</td>\n      <td>NaN</td>\n      <td>NaN</td>\n      <td>NaN</td>\n      <td>0.0025</td>\n      <td>NaN</td>\n      <td>NaN</td>\n    </tr>\n    <tr>\n      <th>70000.0</th>\n      <td>NaN</td>\n      <td>NaN</td>\n      <td>NaN</td>\n      <td>NaN</td>\n      <td>NaN</td>\n      <td>NaN</td>\n      <td>0.0005</td>\n      <td>NaN</td>\n      <td>0.0025</td>\n      <td>NaN</td>\n      <td>NaN</td>\n    </tr>\n    <tr>\n      <th>80000.0</th>\n      <td>NaN</td>\n      <td>NaN</td>\n      <td>NaN</td>\n      <td>NaN</td>\n      <td>NaN</td>\n      <td>NaN</td>\n      <td>0.0005</td>\n      <td>NaN</td>\n      <td>0.0015</td>\n      <td>0.0065</td>\n      <td>0.0150</td>\n    </tr>\n    <tr>\n      <th>90000.0</th>\n      <td>NaN</td>\n      <td>NaN</td>\n      <td>NaN</td>\n      <td>NaN</td>\n      <td>NaN</td>\n      <td>NaN</td>\n      <td>0.0005</td>\n      <td>NaN</td>\n      <td>NaN</td>\n      <td>NaN</td>\n      <td>NaN</td>\n    </tr>\n    <tr>\n      <th>100000.0</th>\n      <td>NaN</td>\n      <td>NaN</td>\n      <td>NaN</td>\n      <td>NaN</td>\n      <td>NaN</td>\n      <td>NaN</td>\n      <td>0.0005</td>\n      <td>NaN</td>\n      <td>0.0005</td>\n      <td>0.0055</td>\n      <td>NaN</td>\n    </tr>\n    <tr>\n      <th>120000.0</th>\n      <td>NaN</td>\n      <td>NaN</td>\n      <td>NaN</td>\n      <td>NaN</td>\n      <td>NaN</td>\n      <td>NaN</td>\n      <td>0.0005</td>\n      <td>NaN</td>\n      <td>0.0005</td>\n      <td>NaN</td>\n      <td>NaN</td>\n    </tr>\n    <tr>\n      <th>140000.0</th>\n      <td>NaN</td>\n      <td>NaN</td>\n      <td>NaN</td>\n      <td>NaN</td>\n      <td>NaN</td>\n      <td>NaN</td>\n      <td>NaN</td>\n      <td>NaN</td>\n      <td>0.0005</td>\n      <td>NaN</td>\n      <td>NaN</td>\n    </tr>\n    <tr>\n      <th>150000.0</th>\n      <td>NaN</td>\n      <td>NaN</td>\n      <td>NaN</td>\n      <td>NaN</td>\n      <td>NaN</td>\n      <td>NaN</td>\n      <td>0.0005</td>\n      <td>NaN</td>\n      <td>0.0005</td>\n      <td>NaN</td>\n      <td>NaN</td>\n    </tr>\n    <tr>\n      <th>200000.0</th>\n      <td>NaN</td>\n      <td>NaN</td>\n      <td>NaN</td>\n      <td>NaN</td>\n      <td>NaN</td>\n      <td>NaN</td>\n      <td>0.0005</td>\n      <td>NaN</td>\n      <td>0.0005</td>\n      <td>NaN</td>\n      <td>NaN</td>\n    </tr>\n    <tr>\n      <th>250000.0</th>\n      <td>NaN</td>\n      <td>NaN</td>\n      <td>NaN</td>\n      <td>NaN</td>\n      <td>NaN</td>\n      <td>NaN</td>\n      <td>0.0005</td>\n      <td>NaN</td>\n      <td>0.0005</td>\n      <td>NaN</td>\n      <td>NaN</td>\n    </tr>\n    <tr>\n      <th>300000.0</th>\n      <td>NaN</td>\n      <td>NaN</td>\n      <td>NaN</td>\n      <td>NaN</td>\n      <td>NaN</td>\n      <td>NaN</td>\n      <td>0.0005</td>\n      <td>NaN</td>\n      <td>0.0005</td>\n      <td>NaN</td>\n      <td>NaN</td>\n    </tr>\n  </tbody>\n</table>\n</div>"
     },
     "execution_count": 9,
     "metadata": {},
     "output_type": "execute_result"
    }
   ],
   "source": [
    "surface = pd.read_csv(\"saveStorage/optionMap_2022-11-01.csv\", index_col=0).astype(float)\n",
    "surface.columns = pd.to_datetime(surface.columns, format='%d%b%y')\n",
    "surface = surface.T.sort_index().T\n",
    "surface"
   ],
   "metadata": {
    "collapsed": false,
    "pycharm": {
     "name": "#%%\n"
    }
   }
  },
  {
   "cell_type": "code",
   "execution_count": 10,
   "outputs": [
    {
     "data": {
      "application/vnd.plotly.v1+json": {
       "data": [
        {
         "x": [
          5000.0,
          8000.0,
          10000.0,
          11000.0,
          12000.0,
          13000.0,
          14000.0,
          15000.0,
          16000.0,
          16500.0,
          17000.0,
          17500.0,
          18000.0,
          18500.0,
          19000.0,
          19500.0,
          19750.0,
          20000.0,
          20250.0,
          20500.0,
          20750.0,
          21000.0,
          21250.0,
          21500.0,
          22000.0,
          22500.0,
          23000.0,
          24000.0,
          25000.0,
          26000.0,
          27000.0,
          28000.0,
          29000.0,
          30000.0,
          31000.0,
          32000.0,
          33000.0,
          34000.0,
          35000.0,
          36000.0,
          38000.0,
          40000.0,
          42000.0,
          45000.0,
          50000.0,
          55000.0,
          60000.0,
          65000.0,
          70000.0,
          80000.0,
          90000.0,
          100000.0,
          120000.0,
          140000.0,
          150000.0,
          200000.0,
          250000.0,
          300000.0
         ],
         "y": [
          "2022-11-02T00:00:00",
          "2022-11-03T00:00:00",
          "2022-11-04T00:00:00",
          "2022-11-11T00:00:00",
          "2022-11-18T00:00:00",
          "2022-11-25T00:00:00",
          "2022-12-30T00:00:00",
          "2023-01-27T00:00:00",
          "2023-03-31T00:00:00",
          "2023-06-30T00:00:00",
          "2023-09-29T00:00:00"
         ],
         "z": [
          [
           null,
           null,
           null,
           null,
           null,
           null,
           0.753,
           null,
           0.739,
           null,
           0.771
          ],
          [
           null,
           null,
           null,
           null,
           null,
           null,
           null,
           null,
           null,
           null,
           null
          ],
          [
           null,
           null,
           null,
           null,
           null,
           null,
           0.5045,
           null,
           0.536,
           0.533,
           null
          ],
          [
           null,
           null,
           null,
           null,
           null,
           null,
           null,
           null,
           0.492,
           null,
           null
          ],
          [
           null,
           null,
           null,
           null,
           null,
           null,
           0.385,
           null,
           null,
           null,
           null
          ],
          [
           null,
           null,
           null,
           null,
           null,
           null,
           null,
           null,
           0.5095,
           0.412,
           0.4315
          ],
          [
           null,
           null,
           null,
           null,
           null,
           null,
           0.311,
           null,
           0.361,
           0.3885,
           0.415
          ],
          [
           null,
           null,
           0.23,
           0.23,
           null,
           null,
           0.294,
           null,
           0.31,
           0.367,
           0.391
          ],
          [
           null,
           null,
           null,
           null,
           null,
           null,
           0.24,
           null,
           0.2677,
           0.325,
           0.365
          ],
          [
           null,
           null,
           null,
           null,
           null,
           null,
           null,
           null,
           null,
           null,
           null
          ],
          [
           null,
           null,
           null,
           null,
           null,
           0.1435,
           0.201,
           null,
           0.24,
           0.368,
           0.3117
          ],
          [
           null,
           null,
           null,
           null,
           null,
           null,
           null,
           null,
           null,
           null,
           null
          ],
          [
           null,
           null,
           0.1285,
           0.144,
           null,
           0.1245,
           0.1652,
           null,
           0.2015,
           0.27,
           null
          ],
          [
           null,
           null,
           0.116,
           0.1175,
           null,
           null,
           null,
           null,
           null,
           null,
           null
          ],
          [
           null,
           null,
           0.0865,
           0.0859,
           0.0928,
           0.1087,
           0.134,
           0.1545,
           0.195,
           0.23,
           0.2585
          ],
          [
           null,
           null,
           0.06,
           0.079,
           0.0675,
           null,
           null,
           null,
           null,
           null,
           null
          ],
          [
           0.0375,
           null,
           null,
           null,
           null,
           null,
           null,
           null,
           null,
           null,
           null
          ],
          [
           null,
           null,
           0.0315,
           0.0475,
           0.0555,
           0.0635,
           0.1025,
           0.137,
           0.173,
           0.2315,
           0.271
          ],
          [
           0.0105,
           0.024,
           null,
           null,
           null,
           null,
           null,
           null,
           null,
           null,
           null
          ],
          [
           0.0065,
           0.0165,
           0.0185,
           0.0365,
           0.0455,
           null,
           null,
           null,
           null,
           null,
           null
          ],
          [
           0.0025,
           0.011,
           null,
           null,
           null,
           null,
           null,
           null,
           null,
           null,
           null
          ],
          [
           0.001,
           0.0075,
           0.0105,
           0.024,
           0.037,
           0.0445,
           0.08,
           0.1055,
           0.156,
           0.2073,
           0.2425
          ],
          [
           5.0E-4,
           0.0045,
           null,
           null,
           null,
           null,
           null,
           null,
           null,
           null,
           null
          ],
          [
           5.0E-4,
           0.0035,
           0.005,
           0.018,
           0.027,
           null,
           null,
           null,
           null,
           null,
           null
          ],
          [
           5.0E-4,
           0.0015,
           0.0025,
           0.011,
           0.021,
           0.026,
           0.0627,
           0.0854,
           0.1291,
           0.1805,
           0.2345
          ],
          [
           5.0E-4,
           5.0E-4,
           null,
           null,
           null,
           null,
           null,
           null,
           null,
           null,
           null
          ],
          [
           null,
           5.0E-4,
           0.001,
           0.0055,
           0.0115,
           0.016,
           0.047,
           0.069,
           0.1045,
           0.174,
           0.209
          ],
          [
           null,
           5.0E-4,
           5.0E-4,
           0.0025,
           0.007,
           0.0095,
           0.036,
           0.0655,
           0.1,
           0.1573,
           0.19
          ],
          [
           null,
           null,
           5.0E-4,
           0.001,
           0.0035,
           0.0065,
           0.0266,
           0.0455,
           0.091,
           0.133,
           0.19
          ],
          [
           null,
           null,
           5.0E-4,
           0.001,
           0.0022,
           0.004,
           0.021,
           0.0381,
           0.075,
           0.126,
           null
          ],
          [
           null,
           null,
           5.0E-4,
           5.0E-4,
           0.002,
           null,
           0.016,
           null,
           0.059,
           0.115,
           null
          ],
          [
           null,
           null,
           5.0E-4,
           5.0E-4,
           0.001,
           0.002,
           0.013,
           0.025,
           0.058,
           0.112,
           null
          ],
          [
           null,
           null,
           5.0E-4,
           5.0E-4,
           5.0E-4,
           null,
           null,
           null,
           0.0575,
           0.1,
           null
          ],
          [
           null,
           null,
           null,
           5.0E-4,
           5.0E-4,
           0.001,
           0.0075,
           0.0185,
           0.0445,
           0.0885,
           0.1235
          ],
          [
           null,
           null,
           null,
           5.0E-4,
           5.0E-4,
           null,
           null,
           null,
           null,
           null,
           null
          ],
          [
           null,
           null,
           null,
           null,
           null,
           5.0E-4,
           0.0055,
           0.0125,
           0.038,
           null,
           null
          ],
          [
           null,
           null,
           null,
           null,
           null,
           null,
           null,
           null,
           null,
           null,
           null
          ],
          [
           null,
           null,
           null,
           null,
           null,
           5.0E-4,
           0.005,
           0.009,
           0.028,
           null,
           null
          ],
          [
           null,
           null,
           null,
           null,
           null,
           5.0E-4,
           0.003,
           0.0075,
           0.025,
           0.0595,
           0.0895
          ],
          [
           null,
           null,
           null,
           null,
           null,
           5.0E-4,
           0.0025,
           null,
           0.0235,
           null,
           null
          ],
          [
           null,
           null,
           null,
           null,
           null,
           null,
           0.0015,
           null,
           0.0185,
           null,
           null
          ],
          [
           null,
           null,
           null,
           null,
           null,
           5.0E-4,
           0.0015,
           0.0035,
           0.015,
           0.0395,
           0.0665
          ],
          [
           null,
           null,
           null,
           null,
           null,
           null,
           null,
           null,
           0.0125,
           null,
           null
          ],
          [
           null,
           null,
           null,
           null,
           null,
           5.0E-4,
           0.001,
           0.0025,
           0.0095,
           0.03,
           0.05
          ],
          [
           null,
           null,
           null,
           null,
           null,
           null,
           5.0E-4,
           null,
           0.008,
           0.0235,
           null
          ],
          [
           null,
           null,
           null,
           null,
           null,
           null,
           5.0E-4,
           null,
           0.005,
           null,
           null
          ],
          [
           null,
           null,
           null,
           null,
           null,
           null,
           5.0E-4,
           null,
           0.0035,
           0.0145,
           0.027
          ],
          [
           null,
           null,
           null,
           null,
           null,
           null,
           null,
           null,
           0.0025,
           null,
           null
          ],
          [
           null,
           null,
           null,
           null,
           null,
           null,
           5.0E-4,
           null,
           0.0025,
           null,
           null
          ],
          [
           null,
           null,
           null,
           null,
           null,
           null,
           5.0E-4,
           null,
           0.0015,
           0.0065,
           0.015
          ],
          [
           null,
           null,
           null,
           null,
           null,
           null,
           5.0E-4,
           null,
           null,
           null,
           null
          ],
          [
           null,
           null,
           null,
           null,
           null,
           null,
           5.0E-4,
           null,
           5.0E-4,
           0.0055,
           null
          ],
          [
           null,
           null,
           null,
           null,
           null,
           null,
           5.0E-4,
           null,
           5.0E-4,
           null,
           null
          ],
          [
           null,
           null,
           null,
           null,
           null,
           null,
           null,
           null,
           5.0E-4,
           null,
           null
          ],
          [
           null,
           null,
           null,
           null,
           null,
           null,
           5.0E-4,
           null,
           5.0E-4,
           null,
           null
          ],
          [
           null,
           null,
           null,
           null,
           null,
           null,
           5.0E-4,
           null,
           5.0E-4,
           null,
           null
          ],
          [
           null,
           null,
           null,
           null,
           null,
           null,
           5.0E-4,
           null,
           5.0E-4,
           null,
           null
          ],
          [
           null,
           null,
           null,
           null,
           null,
           null,
           5.0E-4,
           null,
           5.0E-4,
           null,
           null
          ]
         ],
         "type": "surface"
        }
       ],
       "layout": {
        "template": {
         "data": {
          "histogram2dcontour": [
           {
            "type": "histogram2dcontour",
            "colorbar": {
             "outlinewidth": 0,
             "ticks": ""
            },
            "colorscale": [
             [
              0.0,
              "#0d0887"
             ],
             [
              0.1111111111111111,
              "#46039f"
             ],
             [
              0.2222222222222222,
              "#7201a8"
             ],
             [
              0.3333333333333333,
              "#9c179e"
             ],
             [
              0.4444444444444444,
              "#bd3786"
             ],
             [
              0.5555555555555556,
              "#d8576b"
             ],
             [
              0.6666666666666666,
              "#ed7953"
             ],
             [
              0.7777777777777778,
              "#fb9f3a"
             ],
             [
              0.8888888888888888,
              "#fdca26"
             ],
             [
              1.0,
              "#f0f921"
             ]
            ]
           }
          ],
          "choropleth": [
           {
            "type": "choropleth",
            "colorbar": {
             "outlinewidth": 0,
             "ticks": ""
            }
           }
          ],
          "histogram2d": [
           {
            "type": "histogram2d",
            "colorbar": {
             "outlinewidth": 0,
             "ticks": ""
            },
            "colorscale": [
             [
              0.0,
              "#0d0887"
             ],
             [
              0.1111111111111111,
              "#46039f"
             ],
             [
              0.2222222222222222,
              "#7201a8"
             ],
             [
              0.3333333333333333,
              "#9c179e"
             ],
             [
              0.4444444444444444,
              "#bd3786"
             ],
             [
              0.5555555555555556,
              "#d8576b"
             ],
             [
              0.6666666666666666,
              "#ed7953"
             ],
             [
              0.7777777777777778,
              "#fb9f3a"
             ],
             [
              0.8888888888888888,
              "#fdca26"
             ],
             [
              1.0,
              "#f0f921"
             ]
            ]
           }
          ],
          "heatmap": [
           {
            "type": "heatmap",
            "colorbar": {
             "outlinewidth": 0,
             "ticks": ""
            },
            "colorscale": [
             [
              0.0,
              "#0d0887"
             ],
             [
              0.1111111111111111,
              "#46039f"
             ],
             [
              0.2222222222222222,
              "#7201a8"
             ],
             [
              0.3333333333333333,
              "#9c179e"
             ],
             [
              0.4444444444444444,
              "#bd3786"
             ],
             [
              0.5555555555555556,
              "#d8576b"
             ],
             [
              0.6666666666666666,
              "#ed7953"
             ],
             [
              0.7777777777777778,
              "#fb9f3a"
             ],
             [
              0.8888888888888888,
              "#fdca26"
             ],
             [
              1.0,
              "#f0f921"
             ]
            ]
           }
          ],
          "heatmapgl": [
           {
            "type": "heatmapgl",
            "colorbar": {
             "outlinewidth": 0,
             "ticks": ""
            },
            "colorscale": [
             [
              0.0,
              "#0d0887"
             ],
             [
              0.1111111111111111,
              "#46039f"
             ],
             [
              0.2222222222222222,
              "#7201a8"
             ],
             [
              0.3333333333333333,
              "#9c179e"
             ],
             [
              0.4444444444444444,
              "#bd3786"
             ],
             [
              0.5555555555555556,
              "#d8576b"
             ],
             [
              0.6666666666666666,
              "#ed7953"
             ],
             [
              0.7777777777777778,
              "#fb9f3a"
             ],
             [
              0.8888888888888888,
              "#fdca26"
             ],
             [
              1.0,
              "#f0f921"
             ]
            ]
           }
          ],
          "contourcarpet": [
           {
            "type": "contourcarpet",
            "colorbar": {
             "outlinewidth": 0,
             "ticks": ""
            }
           }
          ],
          "contour": [
           {
            "type": "contour",
            "colorbar": {
             "outlinewidth": 0,
             "ticks": ""
            },
            "colorscale": [
             [
              0.0,
              "#0d0887"
             ],
             [
              0.1111111111111111,
              "#46039f"
             ],
             [
              0.2222222222222222,
              "#7201a8"
             ],
             [
              0.3333333333333333,
              "#9c179e"
             ],
             [
              0.4444444444444444,
              "#bd3786"
             ],
             [
              0.5555555555555556,
              "#d8576b"
             ],
             [
              0.6666666666666666,
              "#ed7953"
             ],
             [
              0.7777777777777778,
              "#fb9f3a"
             ],
             [
              0.8888888888888888,
              "#fdca26"
             ],
             [
              1.0,
              "#f0f921"
             ]
            ]
           }
          ],
          "surface": [
           {
            "type": "surface",
            "colorbar": {
             "outlinewidth": 0,
             "ticks": ""
            },
            "colorscale": [
             [
              0.0,
              "#0d0887"
             ],
             [
              0.1111111111111111,
              "#46039f"
             ],
             [
              0.2222222222222222,
              "#7201a8"
             ],
             [
              0.3333333333333333,
              "#9c179e"
             ],
             [
              0.4444444444444444,
              "#bd3786"
             ],
             [
              0.5555555555555556,
              "#d8576b"
             ],
             [
              0.6666666666666666,
              "#ed7953"
             ],
             [
              0.7777777777777778,
              "#fb9f3a"
             ],
             [
              0.8888888888888888,
              "#fdca26"
             ],
             [
              1.0,
              "#f0f921"
             ]
            ]
           }
          ],
          "mesh3d": [
           {
            "type": "mesh3d",
            "colorbar": {
             "outlinewidth": 0,
             "ticks": ""
            }
           }
          ],
          "scatter": [
           {
            "fillpattern": {
             "fillmode": "overlay",
             "size": 10,
             "solidity": 0.2
            },
            "type": "scatter"
           }
          ],
          "parcoords": [
           {
            "type": "parcoords",
            "line": {
             "colorbar": {
              "outlinewidth": 0,
              "ticks": ""
             }
            }
           }
          ],
          "scatterpolargl": [
           {
            "type": "scatterpolargl",
            "marker": {
             "colorbar": {
              "outlinewidth": 0,
              "ticks": ""
             }
            }
           }
          ],
          "bar": [
           {
            "error_x": {
             "color": "#2a3f5f"
            },
            "error_y": {
             "color": "#2a3f5f"
            },
            "marker": {
             "line": {
              "color": "#E5ECF6",
              "width": 0.5
             },
             "pattern": {
              "fillmode": "overlay",
              "size": 10,
              "solidity": 0.2
             }
            },
            "type": "bar"
           }
          ],
          "scattergeo": [
           {
            "type": "scattergeo",
            "marker": {
             "colorbar": {
              "outlinewidth": 0,
              "ticks": ""
             }
            }
           }
          ],
          "scatterpolar": [
           {
            "type": "scatterpolar",
            "marker": {
             "colorbar": {
              "outlinewidth": 0,
              "ticks": ""
             }
            }
           }
          ],
          "histogram": [
           {
            "marker": {
             "pattern": {
              "fillmode": "overlay",
              "size": 10,
              "solidity": 0.2
             }
            },
            "type": "histogram"
           }
          ],
          "scattergl": [
           {
            "type": "scattergl",
            "marker": {
             "colorbar": {
              "outlinewidth": 0,
              "ticks": ""
             }
            }
           }
          ],
          "scatter3d": [
           {
            "type": "scatter3d",
            "line": {
             "colorbar": {
              "outlinewidth": 0,
              "ticks": ""
             }
            },
            "marker": {
             "colorbar": {
              "outlinewidth": 0,
              "ticks": ""
             }
            }
           }
          ],
          "scattermapbox": [
           {
            "type": "scattermapbox",
            "marker": {
             "colorbar": {
              "outlinewidth": 0,
              "ticks": ""
             }
            }
           }
          ],
          "scatterternary": [
           {
            "type": "scatterternary",
            "marker": {
             "colorbar": {
              "outlinewidth": 0,
              "ticks": ""
             }
            }
           }
          ],
          "scattercarpet": [
           {
            "type": "scattercarpet",
            "marker": {
             "colorbar": {
              "outlinewidth": 0,
              "ticks": ""
             }
            }
           }
          ],
          "carpet": [
           {
            "aaxis": {
             "endlinecolor": "#2a3f5f",
             "gridcolor": "white",
             "linecolor": "white",
             "minorgridcolor": "white",
             "startlinecolor": "#2a3f5f"
            },
            "baxis": {
             "endlinecolor": "#2a3f5f",
             "gridcolor": "white",
             "linecolor": "white",
             "minorgridcolor": "white",
             "startlinecolor": "#2a3f5f"
            },
            "type": "carpet"
           }
          ],
          "table": [
           {
            "cells": {
             "fill": {
              "color": "#EBF0F8"
             },
             "line": {
              "color": "white"
             }
            },
            "header": {
             "fill": {
              "color": "#C8D4E3"
             },
             "line": {
              "color": "white"
             }
            },
            "type": "table"
           }
          ],
          "barpolar": [
           {
            "marker": {
             "line": {
              "color": "#E5ECF6",
              "width": 0.5
             },
             "pattern": {
              "fillmode": "overlay",
              "size": 10,
              "solidity": 0.2
             }
            },
            "type": "barpolar"
           }
          ],
          "pie": [
           {
            "automargin": true,
            "type": "pie"
           }
          ]
         },
         "layout": {
          "autotypenumbers": "strict",
          "colorway": [
           "#636efa",
           "#EF553B",
           "#00cc96",
           "#ab63fa",
           "#FFA15A",
           "#19d3f3",
           "#FF6692",
           "#B6E880",
           "#FF97FF",
           "#FECB52"
          ],
          "font": {
           "color": "#2a3f5f"
          },
          "hovermode": "closest",
          "hoverlabel": {
           "align": "left"
          },
          "paper_bgcolor": "white",
          "plot_bgcolor": "#E5ECF6",
          "polar": {
           "bgcolor": "#E5ECF6",
           "angularaxis": {
            "gridcolor": "white",
            "linecolor": "white",
            "ticks": ""
           },
           "radialaxis": {
            "gridcolor": "white",
            "linecolor": "white",
            "ticks": ""
           }
          },
          "ternary": {
           "bgcolor": "#E5ECF6",
           "aaxis": {
            "gridcolor": "white",
            "linecolor": "white",
            "ticks": ""
           },
           "baxis": {
            "gridcolor": "white",
            "linecolor": "white",
            "ticks": ""
           },
           "caxis": {
            "gridcolor": "white",
            "linecolor": "white",
            "ticks": ""
           }
          },
          "coloraxis": {
           "colorbar": {
            "outlinewidth": 0,
            "ticks": ""
           }
          },
          "colorscale": {
           "sequential": [
            [
             0.0,
             "#0d0887"
            ],
            [
             0.1111111111111111,
             "#46039f"
            ],
            [
             0.2222222222222222,
             "#7201a8"
            ],
            [
             0.3333333333333333,
             "#9c179e"
            ],
            [
             0.4444444444444444,
             "#bd3786"
            ],
            [
             0.5555555555555556,
             "#d8576b"
            ],
            [
             0.6666666666666666,
             "#ed7953"
            ],
            [
             0.7777777777777778,
             "#fb9f3a"
            ],
            [
             0.8888888888888888,
             "#fdca26"
            ],
            [
             1.0,
             "#f0f921"
            ]
           ],
           "sequentialminus": [
            [
             0.0,
             "#0d0887"
            ],
            [
             0.1111111111111111,
             "#46039f"
            ],
            [
             0.2222222222222222,
             "#7201a8"
            ],
            [
             0.3333333333333333,
             "#9c179e"
            ],
            [
             0.4444444444444444,
             "#bd3786"
            ],
            [
             0.5555555555555556,
             "#d8576b"
            ],
            [
             0.6666666666666666,
             "#ed7953"
            ],
            [
             0.7777777777777778,
             "#fb9f3a"
            ],
            [
             0.8888888888888888,
             "#fdca26"
            ],
            [
             1.0,
             "#f0f921"
            ]
           ],
           "diverging": [
            [
             0,
             "#8e0152"
            ],
            [
             0.1,
             "#c51b7d"
            ],
            [
             0.2,
             "#de77ae"
            ],
            [
             0.3,
             "#f1b6da"
            ],
            [
             0.4,
             "#fde0ef"
            ],
            [
             0.5,
             "#f7f7f7"
            ],
            [
             0.6,
             "#e6f5d0"
            ],
            [
             0.7,
             "#b8e186"
            ],
            [
             0.8,
             "#7fbc41"
            ],
            [
             0.9,
             "#4d9221"
            ],
            [
             1,
             "#276419"
            ]
           ]
          },
          "xaxis": {
           "gridcolor": "white",
           "linecolor": "white",
           "ticks": "",
           "title": {
            "standoff": 15
           },
           "zerolinecolor": "white",
           "automargin": true,
           "zerolinewidth": 2
          },
          "yaxis": {
           "gridcolor": "white",
           "linecolor": "white",
           "ticks": "",
           "title": {
            "standoff": 15
           },
           "zerolinecolor": "white",
           "automargin": true,
           "zerolinewidth": 2
          },
          "scene": {
           "xaxis": {
            "backgroundcolor": "#E5ECF6",
            "gridcolor": "white",
            "linecolor": "white",
            "showbackground": true,
            "ticks": "",
            "zerolinecolor": "white",
            "gridwidth": 2
           },
           "yaxis": {
            "backgroundcolor": "#E5ECF6",
            "gridcolor": "white",
            "linecolor": "white",
            "showbackground": true,
            "ticks": "",
            "zerolinecolor": "white",
            "gridwidth": 2
           },
           "zaxis": {
            "backgroundcolor": "#E5ECF6",
            "gridcolor": "white",
            "linecolor": "white",
            "showbackground": true,
            "ticks": "",
            "zerolinecolor": "white",
            "gridwidth": 2
           }
          },
          "shapedefaults": {
           "line": {
            "color": "#2a3f5f"
           }
          },
          "annotationdefaults": {
           "arrowcolor": "#2a3f5f",
           "arrowhead": 0,
           "arrowwidth": 1
          },
          "geo": {
           "bgcolor": "white",
           "landcolor": "#E5ECF6",
           "subunitcolor": "white",
           "showland": true,
           "showlakes": true,
           "lakecolor": "white"
          },
          "title": {
           "x": 0.05
          },
          "mapbox": {
           "style": "light"
          }
         }
        },
        "margin": {
         "l": 65,
         "r": 50,
         "b": 65,
         "t": 90
        },
        "title": {
         "text": "Surface of OptionPrices"
        },
        "autosize": false,
        "width": 500,
        "height": 500
       },
       "config": {
        "plotlyServerURL": "https://plot.ly"
       }
      },
      "text/html": "<div>                            <div id=\"c75e1c95-9f33-4cac-aaf4-7ea5cd0f1cc8\" class=\"plotly-graph-div\" style=\"height:500px; width:500px;\"></div>            <script type=\"text/javascript\">                require([\"plotly\"], function(Plotly) {                    window.PLOTLYENV=window.PLOTLYENV || {};                                    if (document.getElementById(\"c75e1c95-9f33-4cac-aaf4-7ea5cd0f1cc8\")) {                    Plotly.newPlot(                        \"c75e1c95-9f33-4cac-aaf4-7ea5cd0f1cc8\",                        [{\"x\":[5000.0,8000.0,10000.0,11000.0,12000.0,13000.0,14000.0,15000.0,16000.0,16500.0,17000.0,17500.0,18000.0,18500.0,19000.0,19500.0,19750.0,20000.0,20250.0,20500.0,20750.0,21000.0,21250.0,21500.0,22000.0,22500.0,23000.0,24000.0,25000.0,26000.0,27000.0,28000.0,29000.0,30000.0,31000.0,32000.0,33000.0,34000.0,35000.0,36000.0,38000.0,40000.0,42000.0,45000.0,50000.0,55000.0,60000.0,65000.0,70000.0,80000.0,90000.0,100000.0,120000.0,140000.0,150000.0,200000.0,250000.0,300000.0],\"y\":[\"2022-11-02T00:00:00\",\"2022-11-03T00:00:00\",\"2022-11-04T00:00:00\",\"2022-11-11T00:00:00\",\"2022-11-18T00:00:00\",\"2022-11-25T00:00:00\",\"2022-12-30T00:00:00\",\"2023-01-27T00:00:00\",\"2023-03-31T00:00:00\",\"2023-06-30T00:00:00\",\"2023-09-29T00:00:00\"],\"z\":[[null,null,null,null,null,null,0.753,null,0.739,null,0.771],[null,null,null,null,null,null,null,null,null,null,null],[null,null,null,null,null,null,0.5045,null,0.536,0.533,null],[null,null,null,null,null,null,null,null,0.492,null,null],[null,null,null,null,null,null,0.385,null,null,null,null],[null,null,null,null,null,null,null,null,0.5095,0.412,0.4315],[null,null,null,null,null,null,0.311,null,0.361,0.3885,0.415],[null,null,0.23,0.23,null,null,0.294,null,0.31,0.367,0.391],[null,null,null,null,null,null,0.24,null,0.2677,0.325,0.365],[null,null,null,null,null,null,null,null,null,null,null],[null,null,null,null,null,0.1435,0.201,null,0.24,0.368,0.3117],[null,null,null,null,null,null,null,null,null,null,null],[null,null,0.1285,0.144,null,0.1245,0.1652,null,0.2015,0.27,null],[null,null,0.116,0.1175,null,null,null,null,null,null,null],[null,null,0.0865,0.0859,0.0928,0.1087,0.134,0.1545,0.195,0.23,0.2585],[null,null,0.06,0.079,0.0675,null,null,null,null,null,null],[0.0375,null,null,null,null,null,null,null,null,null,null],[null,null,0.0315,0.0475,0.0555,0.0635,0.1025,0.137,0.173,0.2315,0.271],[0.0105,0.024,null,null,null,null,null,null,null,null,null],[0.0065,0.0165,0.0185,0.0365,0.0455,null,null,null,null,null,null],[0.0025,0.011,null,null,null,null,null,null,null,null,null],[0.001,0.0075,0.0105,0.024,0.037,0.0445,0.08,0.1055,0.156,0.2073,0.2425],[0.0005,0.0045,null,null,null,null,null,null,null,null,null],[0.0005,0.0035,0.005,0.018,0.027,null,null,null,null,null,null],[0.0005,0.0015,0.0025,0.011,0.021,0.026,0.0627,0.0854,0.1291,0.1805,0.2345],[0.0005,0.0005,null,null,null,null,null,null,null,null,null],[null,0.0005,0.001,0.0055,0.0115,0.016,0.047,0.069,0.1045,0.174,0.209],[null,0.0005,0.0005,0.0025,0.007,0.0095,0.036,0.0655,0.1,0.1573,0.19],[null,null,0.0005,0.001,0.0035,0.0065,0.0266,0.0455,0.091,0.133,0.19],[null,null,0.0005,0.001,0.0022,0.004,0.021,0.0381,0.075,0.126,null],[null,null,0.0005,0.0005,0.002,null,0.016,null,0.059,0.115,null],[null,null,0.0005,0.0005,0.001,0.002,0.013,0.025,0.058,0.112,null],[null,null,0.0005,0.0005,0.0005,null,null,null,0.0575,0.1,null],[null,null,null,0.0005,0.0005,0.001,0.0075,0.0185,0.0445,0.0885,0.1235],[null,null,null,0.0005,0.0005,null,null,null,null,null,null],[null,null,null,null,null,0.0005,0.0055,0.0125,0.038,null,null],[null,null,null,null,null,null,null,null,null,null,null],[null,null,null,null,null,0.0005,0.005,0.009,0.028,null,null],[null,null,null,null,null,0.0005,0.003,0.0075,0.025,0.0595,0.0895],[null,null,null,null,null,0.0005,0.0025,null,0.0235,null,null],[null,null,null,null,null,null,0.0015,null,0.0185,null,null],[null,null,null,null,null,0.0005,0.0015,0.0035,0.015,0.0395,0.0665],[null,null,null,null,null,null,null,null,0.0125,null,null],[null,null,null,null,null,0.0005,0.001,0.0025,0.0095,0.03,0.05],[null,null,null,null,null,null,0.0005,null,0.008,0.0235,null],[null,null,null,null,null,null,0.0005,null,0.005,null,null],[null,null,null,null,null,null,0.0005,null,0.0035,0.0145,0.027],[null,null,null,null,null,null,null,null,0.0025,null,null],[null,null,null,null,null,null,0.0005,null,0.0025,null,null],[null,null,null,null,null,null,0.0005,null,0.0015,0.0065,0.015],[null,null,null,null,null,null,0.0005,null,null,null,null],[null,null,null,null,null,null,0.0005,null,0.0005,0.0055,null],[null,null,null,null,null,null,0.0005,null,0.0005,null,null],[null,null,null,null,null,null,null,null,0.0005,null,null],[null,null,null,null,null,null,0.0005,null,0.0005,null,null],[null,null,null,null,null,null,0.0005,null,0.0005,null,null],[null,null,null,null,null,null,0.0005,null,0.0005,null,null],[null,null,null,null,null,null,0.0005,null,0.0005,null,null]],\"type\":\"surface\"}],                        {\"template\":{\"data\":{\"histogram2dcontour\":[{\"type\":\"histogram2dcontour\",\"colorbar\":{\"outlinewidth\":0,\"ticks\":\"\"},\"colorscale\":[[0.0,\"#0d0887\"],[0.1111111111111111,\"#46039f\"],[0.2222222222222222,\"#7201a8\"],[0.3333333333333333,\"#9c179e\"],[0.4444444444444444,\"#bd3786\"],[0.5555555555555556,\"#d8576b\"],[0.6666666666666666,\"#ed7953\"],[0.7777777777777778,\"#fb9f3a\"],[0.8888888888888888,\"#fdca26\"],[1.0,\"#f0f921\"]]}],\"choropleth\":[{\"type\":\"choropleth\",\"colorbar\":{\"outlinewidth\":0,\"ticks\":\"\"}}],\"histogram2d\":[{\"type\":\"histogram2d\",\"colorbar\":{\"outlinewidth\":0,\"ticks\":\"\"},\"colorscale\":[[0.0,\"#0d0887\"],[0.1111111111111111,\"#46039f\"],[0.2222222222222222,\"#7201a8\"],[0.3333333333333333,\"#9c179e\"],[0.4444444444444444,\"#bd3786\"],[0.5555555555555556,\"#d8576b\"],[0.6666666666666666,\"#ed7953\"],[0.7777777777777778,\"#fb9f3a\"],[0.8888888888888888,\"#fdca26\"],[1.0,\"#f0f921\"]]}],\"heatmap\":[{\"type\":\"heatmap\",\"colorbar\":{\"outlinewidth\":0,\"ticks\":\"\"},\"colorscale\":[[0.0,\"#0d0887\"],[0.1111111111111111,\"#46039f\"],[0.2222222222222222,\"#7201a8\"],[0.3333333333333333,\"#9c179e\"],[0.4444444444444444,\"#bd3786\"],[0.5555555555555556,\"#d8576b\"],[0.6666666666666666,\"#ed7953\"],[0.7777777777777778,\"#fb9f3a\"],[0.8888888888888888,\"#fdca26\"],[1.0,\"#f0f921\"]]}],\"heatmapgl\":[{\"type\":\"heatmapgl\",\"colorbar\":{\"outlinewidth\":0,\"ticks\":\"\"},\"colorscale\":[[0.0,\"#0d0887\"],[0.1111111111111111,\"#46039f\"],[0.2222222222222222,\"#7201a8\"],[0.3333333333333333,\"#9c179e\"],[0.4444444444444444,\"#bd3786\"],[0.5555555555555556,\"#d8576b\"],[0.6666666666666666,\"#ed7953\"],[0.7777777777777778,\"#fb9f3a\"],[0.8888888888888888,\"#fdca26\"],[1.0,\"#f0f921\"]]}],\"contourcarpet\":[{\"type\":\"contourcarpet\",\"colorbar\":{\"outlinewidth\":0,\"ticks\":\"\"}}],\"contour\":[{\"type\":\"contour\",\"colorbar\":{\"outlinewidth\":0,\"ticks\":\"\"},\"colorscale\":[[0.0,\"#0d0887\"],[0.1111111111111111,\"#46039f\"],[0.2222222222222222,\"#7201a8\"],[0.3333333333333333,\"#9c179e\"],[0.4444444444444444,\"#bd3786\"],[0.5555555555555556,\"#d8576b\"],[0.6666666666666666,\"#ed7953\"],[0.7777777777777778,\"#fb9f3a\"],[0.8888888888888888,\"#fdca26\"],[1.0,\"#f0f921\"]]}],\"surface\":[{\"type\":\"surface\",\"colorbar\":{\"outlinewidth\":0,\"ticks\":\"\"},\"colorscale\":[[0.0,\"#0d0887\"],[0.1111111111111111,\"#46039f\"],[0.2222222222222222,\"#7201a8\"],[0.3333333333333333,\"#9c179e\"],[0.4444444444444444,\"#bd3786\"],[0.5555555555555556,\"#d8576b\"],[0.6666666666666666,\"#ed7953\"],[0.7777777777777778,\"#fb9f3a\"],[0.8888888888888888,\"#fdca26\"],[1.0,\"#f0f921\"]]}],\"mesh3d\":[{\"type\":\"mesh3d\",\"colorbar\":{\"outlinewidth\":0,\"ticks\":\"\"}}],\"scatter\":[{\"fillpattern\":{\"fillmode\":\"overlay\",\"size\":10,\"solidity\":0.2},\"type\":\"scatter\"}],\"parcoords\":[{\"type\":\"parcoords\",\"line\":{\"colorbar\":{\"outlinewidth\":0,\"ticks\":\"\"}}}],\"scatterpolargl\":[{\"type\":\"scatterpolargl\",\"marker\":{\"colorbar\":{\"outlinewidth\":0,\"ticks\":\"\"}}}],\"bar\":[{\"error_x\":{\"color\":\"#2a3f5f\"},\"error_y\":{\"color\":\"#2a3f5f\"},\"marker\":{\"line\":{\"color\":\"#E5ECF6\",\"width\":0.5},\"pattern\":{\"fillmode\":\"overlay\",\"size\":10,\"solidity\":0.2}},\"type\":\"bar\"}],\"scattergeo\":[{\"type\":\"scattergeo\",\"marker\":{\"colorbar\":{\"outlinewidth\":0,\"ticks\":\"\"}}}],\"scatterpolar\":[{\"type\":\"scatterpolar\",\"marker\":{\"colorbar\":{\"outlinewidth\":0,\"ticks\":\"\"}}}],\"histogram\":[{\"marker\":{\"pattern\":{\"fillmode\":\"overlay\",\"size\":10,\"solidity\":0.2}},\"type\":\"histogram\"}],\"scattergl\":[{\"type\":\"scattergl\",\"marker\":{\"colorbar\":{\"outlinewidth\":0,\"ticks\":\"\"}}}],\"scatter3d\":[{\"type\":\"scatter3d\",\"line\":{\"colorbar\":{\"outlinewidth\":0,\"ticks\":\"\"}},\"marker\":{\"colorbar\":{\"outlinewidth\":0,\"ticks\":\"\"}}}],\"scattermapbox\":[{\"type\":\"scattermapbox\",\"marker\":{\"colorbar\":{\"outlinewidth\":0,\"ticks\":\"\"}}}],\"scatterternary\":[{\"type\":\"scatterternary\",\"marker\":{\"colorbar\":{\"outlinewidth\":0,\"ticks\":\"\"}}}],\"scattercarpet\":[{\"type\":\"scattercarpet\",\"marker\":{\"colorbar\":{\"outlinewidth\":0,\"ticks\":\"\"}}}],\"carpet\":[{\"aaxis\":{\"endlinecolor\":\"#2a3f5f\",\"gridcolor\":\"white\",\"linecolor\":\"white\",\"minorgridcolor\":\"white\",\"startlinecolor\":\"#2a3f5f\"},\"baxis\":{\"endlinecolor\":\"#2a3f5f\",\"gridcolor\":\"white\",\"linecolor\":\"white\",\"minorgridcolor\":\"white\",\"startlinecolor\":\"#2a3f5f\"},\"type\":\"carpet\"}],\"table\":[{\"cells\":{\"fill\":{\"color\":\"#EBF0F8\"},\"line\":{\"color\":\"white\"}},\"header\":{\"fill\":{\"color\":\"#C8D4E3\"},\"line\":{\"color\":\"white\"}},\"type\":\"table\"}],\"barpolar\":[{\"marker\":{\"line\":{\"color\":\"#E5ECF6\",\"width\":0.5},\"pattern\":{\"fillmode\":\"overlay\",\"size\":10,\"solidity\":0.2}},\"type\":\"barpolar\"}],\"pie\":[{\"automargin\":true,\"type\":\"pie\"}]},\"layout\":{\"autotypenumbers\":\"strict\",\"colorway\":[\"#636efa\",\"#EF553B\",\"#00cc96\",\"#ab63fa\",\"#FFA15A\",\"#19d3f3\",\"#FF6692\",\"#B6E880\",\"#FF97FF\",\"#FECB52\"],\"font\":{\"color\":\"#2a3f5f\"},\"hovermode\":\"closest\",\"hoverlabel\":{\"align\":\"left\"},\"paper_bgcolor\":\"white\",\"plot_bgcolor\":\"#E5ECF6\",\"polar\":{\"bgcolor\":\"#E5ECF6\",\"angularaxis\":{\"gridcolor\":\"white\",\"linecolor\":\"white\",\"ticks\":\"\"},\"radialaxis\":{\"gridcolor\":\"white\",\"linecolor\":\"white\",\"ticks\":\"\"}},\"ternary\":{\"bgcolor\":\"#E5ECF6\",\"aaxis\":{\"gridcolor\":\"white\",\"linecolor\":\"white\",\"ticks\":\"\"},\"baxis\":{\"gridcolor\":\"white\",\"linecolor\":\"white\",\"ticks\":\"\"},\"caxis\":{\"gridcolor\":\"white\",\"linecolor\":\"white\",\"ticks\":\"\"}},\"coloraxis\":{\"colorbar\":{\"outlinewidth\":0,\"ticks\":\"\"}},\"colorscale\":{\"sequential\":[[0.0,\"#0d0887\"],[0.1111111111111111,\"#46039f\"],[0.2222222222222222,\"#7201a8\"],[0.3333333333333333,\"#9c179e\"],[0.4444444444444444,\"#bd3786\"],[0.5555555555555556,\"#d8576b\"],[0.6666666666666666,\"#ed7953\"],[0.7777777777777778,\"#fb9f3a\"],[0.8888888888888888,\"#fdca26\"],[1.0,\"#f0f921\"]],\"sequentialminus\":[[0.0,\"#0d0887\"],[0.1111111111111111,\"#46039f\"],[0.2222222222222222,\"#7201a8\"],[0.3333333333333333,\"#9c179e\"],[0.4444444444444444,\"#bd3786\"],[0.5555555555555556,\"#d8576b\"],[0.6666666666666666,\"#ed7953\"],[0.7777777777777778,\"#fb9f3a\"],[0.8888888888888888,\"#fdca26\"],[1.0,\"#f0f921\"]],\"diverging\":[[0,\"#8e0152\"],[0.1,\"#c51b7d\"],[0.2,\"#de77ae\"],[0.3,\"#f1b6da\"],[0.4,\"#fde0ef\"],[0.5,\"#f7f7f7\"],[0.6,\"#e6f5d0\"],[0.7,\"#b8e186\"],[0.8,\"#7fbc41\"],[0.9,\"#4d9221\"],[1,\"#276419\"]]},\"xaxis\":{\"gridcolor\":\"white\",\"linecolor\":\"white\",\"ticks\":\"\",\"title\":{\"standoff\":15},\"zerolinecolor\":\"white\",\"automargin\":true,\"zerolinewidth\":2},\"yaxis\":{\"gridcolor\":\"white\",\"linecolor\":\"white\",\"ticks\":\"\",\"title\":{\"standoff\":15},\"zerolinecolor\":\"white\",\"automargin\":true,\"zerolinewidth\":2},\"scene\":{\"xaxis\":{\"backgroundcolor\":\"#E5ECF6\",\"gridcolor\":\"white\",\"linecolor\":\"white\",\"showbackground\":true,\"ticks\":\"\",\"zerolinecolor\":\"white\",\"gridwidth\":2},\"yaxis\":{\"backgroundcolor\":\"#E5ECF6\",\"gridcolor\":\"white\",\"linecolor\":\"white\",\"showbackground\":true,\"ticks\":\"\",\"zerolinecolor\":\"white\",\"gridwidth\":2},\"zaxis\":{\"backgroundcolor\":\"#E5ECF6\",\"gridcolor\":\"white\",\"linecolor\":\"white\",\"showbackground\":true,\"ticks\":\"\",\"zerolinecolor\":\"white\",\"gridwidth\":2}},\"shapedefaults\":{\"line\":{\"color\":\"#2a3f5f\"}},\"annotationdefaults\":{\"arrowcolor\":\"#2a3f5f\",\"arrowhead\":0,\"arrowwidth\":1},\"geo\":{\"bgcolor\":\"white\",\"landcolor\":\"#E5ECF6\",\"subunitcolor\":\"white\",\"showland\":true,\"showlakes\":true,\"lakecolor\":\"white\"},\"title\":{\"x\":0.05},\"mapbox\":{\"style\":\"light\"}}},\"margin\":{\"l\":65,\"r\":50,\"b\":65,\"t\":90},\"title\":{\"text\":\"Surface of OptionPrices\"},\"autosize\":false,\"width\":500,\"height\":500},                        {\"responsive\": true}                    ).then(function(){\n                            \nvar gd = document.getElementById('c75e1c95-9f33-4cac-aaf4-7ea5cd0f1cc8');\nvar x = new MutationObserver(function (mutations, observer) {{\n        var display = window.getComputedStyle(gd).display;\n        if (!display || display === 'none') {{\n            console.log([gd, 'removed!']);\n            Plotly.purge(gd);\n            observer.disconnect();\n        }}\n}});\n\n// Listen for the removal of the full notebook cells\nvar notebookContainer = gd.closest('#notebook-container');\nif (notebookContainer) {{\n    x.observe(notebookContainer, {childList: true});\n}}\n\n// Listen for the clearing of the current output cell\nvar outputEl = gd.closest('.output');\nif (outputEl) {{\n    x.observe(outputEl, {childList: true});\n}}\n\n                        })                };                });            </script>        </div>"
     },
     "metadata": {},
     "output_type": "display_data"
    }
   ],
   "source": [
    "def plot_function_surface(z_data):\n",
    "    import plotly.graph_objects as go\n",
    "    z = z_data.values\n",
    "    x, y = z_data.index, z_data.columns\n",
    "    fig = go.Figure(data=[go.Surface(z=z, x=x, y=y)])\n",
    "    fig.update_layout(title='Surface of OptionPrices', autosize=False,\n",
    "                      width=500, height=500,\n",
    "                      margin=dict(l=65, r=50, b=65, t=90))\n",
    "    fig.show()\n",
    "plot_function_surface(surface)"
   ],
   "metadata": {
    "collapsed": false,
    "pycharm": {
     "name": "#%%\n"
    }
   }
  },
  {
   "cell_type": "code",
   "execution_count": 11,
   "outputs": [
    {
     "data": {
      "application/vnd.plotly.v1+json": {
       "data": [
        {
         "marker": {
          "color": [
           null,
           null,
           null,
           null,
           null,
           null,
           0.753,
           null,
           0.739,
           null,
           0.771,
           null,
           null,
           null,
           null,
           null,
           null,
           null,
           null,
           null,
           null,
           null,
           null,
           null,
           null,
           null,
           null,
           null,
           0.5045,
           null,
           0.536,
           0.533,
           null,
           null,
           null,
           null,
           null,
           null,
           null,
           null,
           null,
           0.492,
           null,
           null,
           null,
           null,
           null,
           null,
           null,
           null,
           0.385,
           null,
           null,
           null,
           null,
           null,
           null,
           null,
           null,
           null,
           null,
           null,
           null,
           0.5095,
           0.412,
           0.4315,
           null,
           null,
           null,
           null,
           null,
           null,
           0.311,
           null,
           0.361,
           0.3885,
           0.415,
           null,
           null,
           0.23,
           0.23,
           null,
           null,
           0.294,
           null,
           0.31,
           0.367,
           0.391,
           null,
           null,
           null,
           null,
           null,
           null,
           0.24,
           null,
           0.2677,
           0.325,
           0.365,
           null,
           null,
           null,
           null,
           null,
           null,
           null,
           null,
           null,
           null,
           null,
           null,
           null,
           null,
           null,
           null,
           0.1435,
           0.201,
           null,
           0.24,
           0.368,
           0.3117,
           null,
           null,
           null,
           null,
           null,
           null,
           null,
           null,
           null,
           null,
           null,
           null,
           null,
           0.1285,
           0.144,
           null,
           0.1245,
           0.1652,
           null,
           0.2015,
           0.27,
           null,
           null,
           null,
           0.116,
           0.1175,
           null,
           null,
           null,
           null,
           null,
           null,
           null,
           null,
           null,
           0.0865,
           0.0859,
           0.0928,
           0.1087,
           0.134,
           0.1545,
           0.195,
           0.23,
           0.2585,
           null,
           null,
           0.06,
           0.079,
           0.0675,
           null,
           null,
           null,
           null,
           null,
           null,
           0.0375,
           null,
           null,
           null,
           null,
           null,
           null,
           null,
           null,
           null,
           null,
           null,
           null,
           0.0315,
           0.0475,
           0.0555,
           0.0635,
           0.1025,
           0.137,
           0.173,
           0.2315,
           0.271,
           0.0105,
           0.024,
           null,
           null,
           null,
           null,
           null,
           null,
           null,
           null,
           null,
           0.0065,
           0.0165,
           0.0185,
           0.0365,
           0.0455,
           null,
           null,
           null,
           null,
           null,
           null,
           0.0025,
           0.011,
           null,
           null,
           null,
           null,
           null,
           null,
           null,
           null,
           null,
           0.001,
           0.0075,
           0.0105,
           0.024,
           0.037,
           0.0445,
           0.08,
           0.1055,
           0.156,
           0.2073,
           0.2425,
           5.0E-4,
           0.0045,
           null,
           null,
           null,
           null,
           null,
           null,
           null,
           null,
           null,
           5.0E-4,
           0.0035,
           0.005,
           0.018,
           0.027,
           null,
           null,
           null,
           null,
           null,
           null,
           5.0E-4,
           0.0015,
           0.0025,
           0.011,
           0.021,
           0.026,
           0.0627,
           0.0854,
           0.1291,
           0.1805,
           0.2345,
           5.0E-4,
           5.0E-4,
           null,
           null,
           null,
           null,
           null,
           null,
           null,
           null,
           null,
           null,
           5.0E-4,
           0.001,
           0.0055,
           0.0115,
           0.016,
           0.047,
           0.069,
           0.1045,
           0.174,
           0.209,
           null,
           5.0E-4,
           5.0E-4,
           0.0025,
           0.007,
           0.0095,
           0.036,
           0.0655,
           0.1,
           0.1573,
           0.19,
           null,
           null,
           5.0E-4,
           0.001,
           0.0035,
           0.0065,
           0.0266,
           0.0455,
           0.091,
           0.133,
           0.19,
           null,
           null,
           5.0E-4,
           0.001,
           0.0022,
           0.004,
           0.021,
           0.0381,
           0.075,
           0.126,
           null,
           null,
           null,
           5.0E-4,
           5.0E-4,
           0.002,
           null,
           0.016,
           null,
           0.059,
           0.115,
           null,
           null,
           null,
           5.0E-4,
           5.0E-4,
           0.001,
           0.002,
           0.013,
           0.025,
           0.058,
           0.112,
           null,
           null,
           null,
           5.0E-4,
           5.0E-4,
           5.0E-4,
           null,
           null,
           null,
           0.0575,
           0.1,
           null,
           null,
           null,
           null,
           5.0E-4,
           5.0E-4,
           0.001,
           0.0075,
           0.0185,
           0.0445,
           0.0885,
           0.1235,
           null,
           null,
           null,
           5.0E-4,
           5.0E-4,
           null,
           null,
           null,
           null,
           null,
           null,
           null,
           null,
           null,
           null,
           null,
           5.0E-4,
           0.0055,
           0.0125,
           0.038,
           null,
           null,
           null,
           null,
           null,
           null,
           null,
           null,
           null,
           null,
           null,
           null,
           null,
           null,
           null,
           null,
           null,
           null,
           5.0E-4,
           0.005,
           0.009,
           0.028,
           null,
           null,
           null,
           null,
           null,
           null,
           null,
           5.0E-4,
           0.003,
           0.0075,
           0.025,
           0.0595,
           0.0895,
           null,
           null,
           null,
           null,
           null,
           5.0E-4,
           0.0025,
           null,
           0.0235,
           null,
           null,
           null,
           null,
           null,
           null,
           null,
           null,
           0.0015,
           null,
           0.0185,
           null,
           null,
           null,
           null,
           null,
           null,
           null,
           5.0E-4,
           0.0015,
           0.0035,
           0.015,
           0.0395,
           0.0665,
           null,
           null,
           null,
           null,
           null,
           null,
           null,
           null,
           0.0125,
           null,
           null,
           null,
           null,
           null,
           null,
           null,
           5.0E-4,
           0.001,
           0.0025,
           0.0095,
           0.03,
           0.05,
           null,
           null,
           null,
           null,
           null,
           null,
           5.0E-4,
           null,
           0.008,
           0.0235,
           null,
           null,
           null,
           null,
           null,
           null,
           null,
           5.0E-4,
           null,
           0.005,
           null,
           null,
           null,
           null,
           null,
           null,
           null,
           null,
           5.0E-4,
           null,
           0.0035,
           0.0145,
           0.027,
           null,
           null,
           null,
           null,
           null,
           null,
           null,
           null,
           0.0025,
           null,
           null
          ],
          "colorscale": [
           [
            0.0,
            "#440154"
           ],
           [
            0.1111111111111111,
            "#482878"
           ],
           [
            0.2222222222222222,
            "#3e4989"
           ],
           [
            0.3333333333333333,
            "#31688e"
           ],
           [
            0.4444444444444444,
            "#26828e"
           ],
           [
            0.5555555555555556,
            "#1f9e89"
           ],
           [
            0.6666666666666666,
            "#35b779"
           ],
           [
            0.7777777777777778,
            "#6ece58"
           ],
           [
            0.8888888888888888,
            "#b5de2b"
           ],
           [
            1.0,
            "#fde725"
           ]
          ],
          "opacity": 0.8,
          "size": 4
         },
         "mode": "markers",
         "x": [
          5000.0,
          5000.0,
          5000.0,
          5000.0,
          5000.0,
          5000.0,
          5000.0,
          5000.0,
          5000.0,
          5000.0,
          5000.0,
          8000.0,
          8000.0,
          8000.0,
          8000.0,
          8000.0,
          8000.0,
          8000.0,
          8000.0,
          8000.0,
          8000.0,
          8000.0,
          10000.0,
          10000.0,
          10000.0,
          10000.0,
          10000.0,
          10000.0,
          10000.0,
          10000.0,
          10000.0,
          10000.0,
          10000.0,
          11000.0,
          11000.0,
          11000.0,
          11000.0,
          11000.0,
          11000.0,
          11000.0,
          11000.0,
          11000.0,
          11000.0,
          11000.0,
          12000.0,
          12000.0,
          12000.0,
          12000.0,
          12000.0,
          12000.0,
          12000.0,
          12000.0,
          12000.0,
          12000.0,
          12000.0,
          13000.0,
          13000.0,
          13000.0,
          13000.0,
          13000.0,
          13000.0,
          13000.0,
          13000.0,
          13000.0,
          13000.0,
          13000.0,
          14000.0,
          14000.0,
          14000.0,
          14000.0,
          14000.0,
          14000.0,
          14000.0,
          14000.0,
          14000.0,
          14000.0,
          14000.0,
          15000.0,
          15000.0,
          15000.0,
          15000.0,
          15000.0,
          15000.0,
          15000.0,
          15000.0,
          15000.0,
          15000.0,
          15000.0,
          16000.0,
          16000.0,
          16000.0,
          16000.0,
          16000.0,
          16000.0,
          16000.0,
          16000.0,
          16000.0,
          16000.0,
          16000.0,
          16500.0,
          16500.0,
          16500.0,
          16500.0,
          16500.0,
          16500.0,
          16500.0,
          16500.0,
          16500.0,
          16500.0,
          16500.0,
          17000.0,
          17000.0,
          17000.0,
          17000.0,
          17000.0,
          17000.0,
          17000.0,
          17000.0,
          17000.0,
          17000.0,
          17000.0,
          17500.0,
          17500.0,
          17500.0,
          17500.0,
          17500.0,
          17500.0,
          17500.0,
          17500.0,
          17500.0,
          17500.0,
          17500.0,
          18000.0,
          18000.0,
          18000.0,
          18000.0,
          18000.0,
          18000.0,
          18000.0,
          18000.0,
          18000.0,
          18000.0,
          18000.0,
          18500.0,
          18500.0,
          18500.0,
          18500.0,
          18500.0,
          18500.0,
          18500.0,
          18500.0,
          18500.0,
          18500.0,
          18500.0,
          19000.0,
          19000.0,
          19000.0,
          19000.0,
          19000.0,
          19000.0,
          19000.0,
          19000.0,
          19000.0,
          19000.0,
          19000.0,
          19500.0,
          19500.0,
          19500.0,
          19500.0,
          19500.0,
          19500.0,
          19500.0,
          19500.0,
          19500.0,
          19500.0,
          19500.0,
          19750.0,
          19750.0,
          19750.0,
          19750.0,
          19750.0,
          19750.0,
          19750.0,
          19750.0,
          19750.0,
          19750.0,
          19750.0,
          20000.0,
          20000.0,
          20000.0,
          20000.0,
          20000.0,
          20000.0,
          20000.0,
          20000.0,
          20000.0,
          20000.0,
          20000.0,
          20250.0,
          20250.0,
          20250.0,
          20250.0,
          20250.0,
          20250.0,
          20250.0,
          20250.0,
          20250.0,
          20250.0,
          20250.0,
          20500.0,
          20500.0,
          20500.0,
          20500.0,
          20500.0,
          20500.0,
          20500.0,
          20500.0,
          20500.0,
          20500.0,
          20500.0,
          20750.0,
          20750.0,
          20750.0,
          20750.0,
          20750.0,
          20750.0,
          20750.0,
          20750.0,
          20750.0,
          20750.0,
          20750.0,
          21000.0,
          21000.0,
          21000.0,
          21000.0,
          21000.0,
          21000.0,
          21000.0,
          21000.0,
          21000.0,
          21000.0,
          21000.0,
          21250.0,
          21250.0,
          21250.0,
          21250.0,
          21250.0,
          21250.0,
          21250.0,
          21250.0,
          21250.0,
          21250.0,
          21250.0,
          21500.0,
          21500.0,
          21500.0,
          21500.0,
          21500.0,
          21500.0,
          21500.0,
          21500.0,
          21500.0,
          21500.0,
          21500.0,
          22000.0,
          22000.0,
          22000.0,
          22000.0,
          22000.0,
          22000.0,
          22000.0,
          22000.0,
          22000.0,
          22000.0,
          22000.0,
          22500.0,
          22500.0,
          22500.0,
          22500.0,
          22500.0,
          22500.0,
          22500.0,
          22500.0,
          22500.0,
          22500.0,
          22500.0,
          23000.0,
          23000.0,
          23000.0,
          23000.0,
          23000.0,
          23000.0,
          23000.0,
          23000.0,
          23000.0,
          23000.0,
          23000.0,
          24000.0,
          24000.0,
          24000.0,
          24000.0,
          24000.0,
          24000.0,
          24000.0,
          24000.0,
          24000.0,
          24000.0,
          24000.0,
          25000.0,
          25000.0,
          25000.0,
          25000.0,
          25000.0,
          25000.0,
          25000.0,
          25000.0,
          25000.0,
          25000.0,
          25000.0,
          26000.0,
          26000.0,
          26000.0,
          26000.0,
          26000.0,
          26000.0,
          26000.0,
          26000.0,
          26000.0,
          26000.0,
          26000.0,
          27000.0,
          27000.0,
          27000.0,
          27000.0,
          27000.0,
          27000.0,
          27000.0,
          27000.0,
          27000.0,
          27000.0,
          27000.0,
          28000.0,
          28000.0,
          28000.0,
          28000.0,
          28000.0,
          28000.0,
          28000.0,
          28000.0,
          28000.0,
          28000.0,
          28000.0,
          29000.0,
          29000.0,
          29000.0,
          29000.0,
          29000.0,
          29000.0,
          29000.0,
          29000.0,
          29000.0,
          29000.0,
          29000.0,
          30000.0,
          30000.0,
          30000.0,
          30000.0,
          30000.0,
          30000.0,
          30000.0,
          30000.0,
          30000.0,
          30000.0,
          30000.0,
          31000.0,
          31000.0,
          31000.0,
          31000.0,
          31000.0,
          31000.0,
          31000.0,
          31000.0,
          31000.0,
          31000.0,
          31000.0,
          32000.0,
          32000.0,
          32000.0,
          32000.0,
          32000.0,
          32000.0,
          32000.0,
          32000.0,
          32000.0,
          32000.0,
          32000.0,
          33000.0,
          33000.0,
          33000.0,
          33000.0,
          33000.0,
          33000.0,
          33000.0,
          33000.0,
          33000.0,
          33000.0,
          33000.0,
          34000.0,
          34000.0,
          34000.0,
          34000.0,
          34000.0,
          34000.0,
          34000.0,
          34000.0,
          34000.0,
          34000.0,
          34000.0,
          35000.0,
          35000.0,
          35000.0,
          35000.0,
          35000.0,
          35000.0,
          35000.0,
          35000.0,
          35000.0,
          35000.0,
          35000.0,
          36000.0,
          36000.0,
          36000.0,
          36000.0,
          36000.0,
          36000.0,
          36000.0,
          36000.0,
          36000.0,
          36000.0,
          36000.0,
          38000.0,
          38000.0,
          38000.0,
          38000.0,
          38000.0,
          38000.0,
          38000.0,
          38000.0,
          38000.0,
          38000.0,
          38000.0,
          40000.0,
          40000.0,
          40000.0,
          40000.0,
          40000.0,
          40000.0,
          40000.0,
          40000.0,
          40000.0,
          40000.0,
          40000.0,
          42000.0,
          42000.0,
          42000.0,
          42000.0,
          42000.0,
          42000.0,
          42000.0,
          42000.0,
          42000.0,
          42000.0,
          42000.0,
          45000.0,
          45000.0,
          45000.0,
          45000.0,
          45000.0,
          45000.0,
          45000.0,
          45000.0,
          45000.0,
          45000.0,
          45000.0,
          50000.0,
          50000.0,
          50000.0,
          50000.0,
          50000.0,
          50000.0,
          50000.0,
          50000.0,
          50000.0,
          50000.0,
          50000.0,
          55000.0,
          55000.0,
          55000.0,
          55000.0,
          55000.0,
          55000.0,
          55000.0,
          55000.0,
          55000.0,
          55000.0,
          55000.0,
          60000.0,
          60000.0,
          60000.0,
          60000.0,
          60000.0,
          60000.0,
          60000.0,
          60000.0,
          60000.0,
          60000.0,
          60000.0,
          65000.0,
          65000.0,
          65000.0,
          65000.0,
          65000.0,
          65000.0,
          65000.0,
          65000.0,
          65000.0,
          65000.0,
          65000.0
         ],
         "y": [
          "2022-11-02T00:00:00",
          "2022-11-03T00:00:00",
          "2022-11-04T00:00:00",
          "2022-11-11T00:00:00",
          "2022-11-18T00:00:00",
          "2022-11-25T00:00:00",
          "2022-12-30T00:00:00",
          "2023-01-27T00:00:00",
          "2023-03-31T00:00:00",
          "2023-06-30T00:00:00",
          "2023-09-29T00:00:00",
          "2022-11-02T00:00:00",
          "2022-11-03T00:00:00",
          "2022-11-04T00:00:00",
          "2022-11-11T00:00:00",
          "2022-11-18T00:00:00",
          "2022-11-25T00:00:00",
          "2022-12-30T00:00:00",
          "2023-01-27T00:00:00",
          "2023-03-31T00:00:00",
          "2023-06-30T00:00:00",
          "2023-09-29T00:00:00",
          "2022-11-02T00:00:00",
          "2022-11-03T00:00:00",
          "2022-11-04T00:00:00",
          "2022-11-11T00:00:00",
          "2022-11-18T00:00:00",
          "2022-11-25T00:00:00",
          "2022-12-30T00:00:00",
          "2023-01-27T00:00:00",
          "2023-03-31T00:00:00",
          "2023-06-30T00:00:00",
          "2023-09-29T00:00:00",
          "2022-11-02T00:00:00",
          "2022-11-03T00:00:00",
          "2022-11-04T00:00:00",
          "2022-11-11T00:00:00",
          "2022-11-18T00:00:00",
          "2022-11-25T00:00:00",
          "2022-12-30T00:00:00",
          "2023-01-27T00:00:00",
          "2023-03-31T00:00:00",
          "2023-06-30T00:00:00",
          "2023-09-29T00:00:00",
          "2022-11-02T00:00:00",
          "2022-11-03T00:00:00",
          "2022-11-04T00:00:00",
          "2022-11-11T00:00:00",
          "2022-11-18T00:00:00",
          "2022-11-25T00:00:00",
          "2022-12-30T00:00:00",
          "2023-01-27T00:00:00",
          "2023-03-31T00:00:00",
          "2023-06-30T00:00:00",
          "2023-09-29T00:00:00",
          "2022-11-02T00:00:00",
          "2022-11-03T00:00:00",
          "2022-11-04T00:00:00",
          "2022-11-11T00:00:00",
          "2022-11-18T00:00:00",
          "2022-11-25T00:00:00",
          "2022-12-30T00:00:00",
          "2023-01-27T00:00:00",
          "2023-03-31T00:00:00",
          "2023-06-30T00:00:00",
          "2023-09-29T00:00:00",
          "2022-11-02T00:00:00",
          "2022-11-03T00:00:00",
          "2022-11-04T00:00:00",
          "2022-11-11T00:00:00",
          "2022-11-18T00:00:00",
          "2022-11-25T00:00:00",
          "2022-12-30T00:00:00",
          "2023-01-27T00:00:00",
          "2023-03-31T00:00:00",
          "2023-06-30T00:00:00",
          "2023-09-29T00:00:00",
          "2022-11-02T00:00:00",
          "2022-11-03T00:00:00",
          "2022-11-04T00:00:00",
          "2022-11-11T00:00:00",
          "2022-11-18T00:00:00",
          "2022-11-25T00:00:00",
          "2022-12-30T00:00:00",
          "2023-01-27T00:00:00",
          "2023-03-31T00:00:00",
          "2023-06-30T00:00:00",
          "2023-09-29T00:00:00",
          "2022-11-02T00:00:00",
          "2022-11-03T00:00:00",
          "2022-11-04T00:00:00",
          "2022-11-11T00:00:00",
          "2022-11-18T00:00:00",
          "2022-11-25T00:00:00",
          "2022-12-30T00:00:00",
          "2023-01-27T00:00:00",
          "2023-03-31T00:00:00",
          "2023-06-30T00:00:00",
          "2023-09-29T00:00:00",
          "2022-11-02T00:00:00",
          "2022-11-03T00:00:00",
          "2022-11-04T00:00:00",
          "2022-11-11T00:00:00",
          "2022-11-18T00:00:00",
          "2022-11-25T00:00:00",
          "2022-12-30T00:00:00",
          "2023-01-27T00:00:00",
          "2023-03-31T00:00:00",
          "2023-06-30T00:00:00",
          "2023-09-29T00:00:00",
          "2022-11-02T00:00:00",
          "2022-11-03T00:00:00",
          "2022-11-04T00:00:00",
          "2022-11-11T00:00:00",
          "2022-11-18T00:00:00",
          "2022-11-25T00:00:00",
          "2022-12-30T00:00:00",
          "2023-01-27T00:00:00",
          "2023-03-31T00:00:00",
          "2023-06-30T00:00:00",
          "2023-09-29T00:00:00",
          "2022-11-02T00:00:00",
          "2022-11-03T00:00:00",
          "2022-11-04T00:00:00",
          "2022-11-11T00:00:00",
          "2022-11-18T00:00:00",
          "2022-11-25T00:00:00",
          "2022-12-30T00:00:00",
          "2023-01-27T00:00:00",
          "2023-03-31T00:00:00",
          "2023-06-30T00:00:00",
          "2023-09-29T00:00:00",
          "2022-11-02T00:00:00",
          "2022-11-03T00:00:00",
          "2022-11-04T00:00:00",
          "2022-11-11T00:00:00",
          "2022-11-18T00:00:00",
          "2022-11-25T00:00:00",
          "2022-12-30T00:00:00",
          "2023-01-27T00:00:00",
          "2023-03-31T00:00:00",
          "2023-06-30T00:00:00",
          "2023-09-29T00:00:00",
          "2022-11-02T00:00:00",
          "2022-11-03T00:00:00",
          "2022-11-04T00:00:00",
          "2022-11-11T00:00:00",
          "2022-11-18T00:00:00",
          "2022-11-25T00:00:00",
          "2022-12-30T00:00:00",
          "2023-01-27T00:00:00",
          "2023-03-31T00:00:00",
          "2023-06-30T00:00:00",
          "2023-09-29T00:00:00",
          "2022-11-02T00:00:00",
          "2022-11-03T00:00:00",
          "2022-11-04T00:00:00",
          "2022-11-11T00:00:00",
          "2022-11-18T00:00:00",
          "2022-11-25T00:00:00",
          "2022-12-30T00:00:00",
          "2023-01-27T00:00:00",
          "2023-03-31T00:00:00",
          "2023-06-30T00:00:00",
          "2023-09-29T00:00:00",
          "2022-11-02T00:00:00",
          "2022-11-03T00:00:00",
          "2022-11-04T00:00:00",
          "2022-11-11T00:00:00",
          "2022-11-18T00:00:00",
          "2022-11-25T00:00:00",
          "2022-12-30T00:00:00",
          "2023-01-27T00:00:00",
          "2023-03-31T00:00:00",
          "2023-06-30T00:00:00",
          "2023-09-29T00:00:00",
          "2022-11-02T00:00:00",
          "2022-11-03T00:00:00",
          "2022-11-04T00:00:00",
          "2022-11-11T00:00:00",
          "2022-11-18T00:00:00",
          "2022-11-25T00:00:00",
          "2022-12-30T00:00:00",
          "2023-01-27T00:00:00",
          "2023-03-31T00:00:00",
          "2023-06-30T00:00:00",
          "2023-09-29T00:00:00",
          "2022-11-02T00:00:00",
          "2022-11-03T00:00:00",
          "2022-11-04T00:00:00",
          "2022-11-11T00:00:00",
          "2022-11-18T00:00:00",
          "2022-11-25T00:00:00",
          "2022-12-30T00:00:00",
          "2023-01-27T00:00:00",
          "2023-03-31T00:00:00",
          "2023-06-30T00:00:00",
          "2023-09-29T00:00:00",
          "2022-11-02T00:00:00",
          "2022-11-03T00:00:00",
          "2022-11-04T00:00:00",
          "2022-11-11T00:00:00",
          "2022-11-18T00:00:00",
          "2022-11-25T00:00:00",
          "2022-12-30T00:00:00",
          "2023-01-27T00:00:00",
          "2023-03-31T00:00:00",
          "2023-06-30T00:00:00",
          "2023-09-29T00:00:00",
          "2022-11-02T00:00:00",
          "2022-11-03T00:00:00",
          "2022-11-04T00:00:00",
          "2022-11-11T00:00:00",
          "2022-11-18T00:00:00",
          "2022-11-25T00:00:00",
          "2022-12-30T00:00:00",
          "2023-01-27T00:00:00",
          "2023-03-31T00:00:00",
          "2023-06-30T00:00:00",
          "2023-09-29T00:00:00",
          "2022-11-02T00:00:00",
          "2022-11-03T00:00:00",
          "2022-11-04T00:00:00",
          "2022-11-11T00:00:00",
          "2022-11-18T00:00:00",
          "2022-11-25T00:00:00",
          "2022-12-30T00:00:00",
          "2023-01-27T00:00:00",
          "2023-03-31T00:00:00",
          "2023-06-30T00:00:00",
          "2023-09-29T00:00:00",
          "2022-11-02T00:00:00",
          "2022-11-03T00:00:00",
          "2022-11-04T00:00:00",
          "2022-11-11T00:00:00",
          "2022-11-18T00:00:00",
          "2022-11-25T00:00:00",
          "2022-12-30T00:00:00",
          "2023-01-27T00:00:00",
          "2023-03-31T00:00:00",
          "2023-06-30T00:00:00",
          "2023-09-29T00:00:00",
          "2022-11-02T00:00:00",
          "2022-11-03T00:00:00",
          "2022-11-04T00:00:00",
          "2022-11-11T00:00:00",
          "2022-11-18T00:00:00",
          "2022-11-25T00:00:00",
          "2022-12-30T00:00:00",
          "2023-01-27T00:00:00",
          "2023-03-31T00:00:00",
          "2023-06-30T00:00:00",
          "2023-09-29T00:00:00",
          "2022-11-02T00:00:00",
          "2022-11-03T00:00:00",
          "2022-11-04T00:00:00",
          "2022-11-11T00:00:00",
          "2022-11-18T00:00:00",
          "2022-11-25T00:00:00",
          "2022-12-30T00:00:00",
          "2023-01-27T00:00:00",
          "2023-03-31T00:00:00",
          "2023-06-30T00:00:00",
          "2023-09-29T00:00:00",
          "2022-11-02T00:00:00",
          "2022-11-03T00:00:00",
          "2022-11-04T00:00:00",
          "2022-11-11T00:00:00",
          "2022-11-18T00:00:00",
          "2022-11-25T00:00:00",
          "2022-12-30T00:00:00",
          "2023-01-27T00:00:00",
          "2023-03-31T00:00:00",
          "2023-06-30T00:00:00",
          "2023-09-29T00:00:00",
          "2022-11-02T00:00:00",
          "2022-11-03T00:00:00",
          "2022-11-04T00:00:00",
          "2022-11-11T00:00:00",
          "2022-11-18T00:00:00",
          "2022-11-25T00:00:00",
          "2022-12-30T00:00:00",
          "2023-01-27T00:00:00",
          "2023-03-31T00:00:00",
          "2023-06-30T00:00:00",
          "2023-09-29T00:00:00",
          "2022-11-02T00:00:00",
          "2022-11-03T00:00:00",
          "2022-11-04T00:00:00",
          "2022-11-11T00:00:00",
          "2022-11-18T00:00:00",
          "2022-11-25T00:00:00",
          "2022-12-30T00:00:00",
          "2023-01-27T00:00:00",
          "2023-03-31T00:00:00",
          "2023-06-30T00:00:00",
          "2023-09-29T00:00:00",
          "2022-11-02T00:00:00",
          "2022-11-03T00:00:00",
          "2022-11-04T00:00:00",
          "2022-11-11T00:00:00",
          "2022-11-18T00:00:00",
          "2022-11-25T00:00:00",
          "2022-12-30T00:00:00",
          "2023-01-27T00:00:00",
          "2023-03-31T00:00:00",
          "2023-06-30T00:00:00",
          "2023-09-29T00:00:00",
          "2022-11-02T00:00:00",
          "2022-11-03T00:00:00",
          "2022-11-04T00:00:00",
          "2022-11-11T00:00:00",
          "2022-11-18T00:00:00",
          "2022-11-25T00:00:00",
          "2022-12-30T00:00:00",
          "2023-01-27T00:00:00",
          "2023-03-31T00:00:00",
          "2023-06-30T00:00:00",
          "2023-09-29T00:00:00",
          "2022-11-02T00:00:00",
          "2022-11-03T00:00:00",
          "2022-11-04T00:00:00",
          "2022-11-11T00:00:00",
          "2022-11-18T00:00:00",
          "2022-11-25T00:00:00",
          "2022-12-30T00:00:00",
          "2023-01-27T00:00:00",
          "2023-03-31T00:00:00",
          "2023-06-30T00:00:00",
          "2023-09-29T00:00:00",
          "2022-11-02T00:00:00",
          "2022-11-03T00:00:00",
          "2022-11-04T00:00:00",
          "2022-11-11T00:00:00",
          "2022-11-18T00:00:00",
          "2022-11-25T00:00:00",
          "2022-12-30T00:00:00",
          "2023-01-27T00:00:00",
          "2023-03-31T00:00:00",
          "2023-06-30T00:00:00",
          "2023-09-29T00:00:00",
          "2022-11-02T00:00:00",
          "2022-11-03T00:00:00",
          "2022-11-04T00:00:00",
          "2022-11-11T00:00:00",
          "2022-11-18T00:00:00",
          "2022-11-25T00:00:00",
          "2022-12-30T00:00:00",
          "2023-01-27T00:00:00",
          "2023-03-31T00:00:00",
          "2023-06-30T00:00:00",
          "2023-09-29T00:00:00",
          "2022-11-02T00:00:00",
          "2022-11-03T00:00:00",
          "2022-11-04T00:00:00",
          "2022-11-11T00:00:00",
          "2022-11-18T00:00:00",
          "2022-11-25T00:00:00",
          "2022-12-30T00:00:00",
          "2023-01-27T00:00:00",
          "2023-03-31T00:00:00",
          "2023-06-30T00:00:00",
          "2023-09-29T00:00:00",
          "2022-11-02T00:00:00",
          "2022-11-03T00:00:00",
          "2022-11-04T00:00:00",
          "2022-11-11T00:00:00",
          "2022-11-18T00:00:00",
          "2022-11-25T00:00:00",
          "2022-12-30T00:00:00",
          "2023-01-27T00:00:00",
          "2023-03-31T00:00:00",
          "2023-06-30T00:00:00",
          "2023-09-29T00:00:00",
          "2022-11-02T00:00:00",
          "2022-11-03T00:00:00",
          "2022-11-04T00:00:00",
          "2022-11-11T00:00:00",
          "2022-11-18T00:00:00",
          "2022-11-25T00:00:00",
          "2022-12-30T00:00:00",
          "2023-01-27T00:00:00",
          "2023-03-31T00:00:00",
          "2023-06-30T00:00:00",
          "2023-09-29T00:00:00",
          "2022-11-02T00:00:00",
          "2022-11-03T00:00:00",
          "2022-11-04T00:00:00",
          "2022-11-11T00:00:00",
          "2022-11-18T00:00:00",
          "2022-11-25T00:00:00",
          "2022-12-30T00:00:00",
          "2023-01-27T00:00:00",
          "2023-03-31T00:00:00",
          "2023-06-30T00:00:00",
          "2023-09-29T00:00:00",
          "2022-11-02T00:00:00",
          "2022-11-03T00:00:00",
          "2022-11-04T00:00:00",
          "2022-11-11T00:00:00",
          "2022-11-18T00:00:00",
          "2022-11-25T00:00:00",
          "2022-12-30T00:00:00",
          "2023-01-27T00:00:00",
          "2023-03-31T00:00:00",
          "2023-06-30T00:00:00",
          "2023-09-29T00:00:00",
          "2022-11-02T00:00:00",
          "2022-11-03T00:00:00",
          "2022-11-04T00:00:00",
          "2022-11-11T00:00:00",
          "2022-11-18T00:00:00",
          "2022-11-25T00:00:00",
          "2022-12-30T00:00:00",
          "2023-01-27T00:00:00",
          "2023-03-31T00:00:00",
          "2023-06-30T00:00:00",
          "2023-09-29T00:00:00",
          "2022-11-02T00:00:00",
          "2022-11-03T00:00:00",
          "2022-11-04T00:00:00",
          "2022-11-11T00:00:00",
          "2022-11-18T00:00:00",
          "2022-11-25T00:00:00",
          "2022-12-30T00:00:00",
          "2023-01-27T00:00:00",
          "2023-03-31T00:00:00",
          "2023-06-30T00:00:00",
          "2023-09-29T00:00:00",
          "2022-11-02T00:00:00",
          "2022-11-03T00:00:00",
          "2022-11-04T00:00:00",
          "2022-11-11T00:00:00",
          "2022-11-18T00:00:00",
          "2022-11-25T00:00:00",
          "2022-12-30T00:00:00",
          "2023-01-27T00:00:00",
          "2023-03-31T00:00:00",
          "2023-06-30T00:00:00",
          "2023-09-29T00:00:00",
          "2022-11-02T00:00:00",
          "2022-11-03T00:00:00",
          "2022-11-04T00:00:00",
          "2022-11-11T00:00:00",
          "2022-11-18T00:00:00",
          "2022-11-25T00:00:00",
          "2022-12-30T00:00:00",
          "2023-01-27T00:00:00",
          "2023-03-31T00:00:00",
          "2023-06-30T00:00:00",
          "2023-09-29T00:00:00",
          "2022-11-02T00:00:00",
          "2022-11-03T00:00:00",
          "2022-11-04T00:00:00",
          "2022-11-11T00:00:00",
          "2022-11-18T00:00:00",
          "2022-11-25T00:00:00",
          "2022-12-30T00:00:00",
          "2023-01-27T00:00:00",
          "2023-03-31T00:00:00",
          "2023-06-30T00:00:00",
          "2023-09-29T00:00:00",
          "2022-11-02T00:00:00",
          "2022-11-03T00:00:00",
          "2022-11-04T00:00:00",
          "2022-11-11T00:00:00",
          "2022-11-18T00:00:00",
          "2022-11-25T00:00:00",
          "2022-12-30T00:00:00",
          "2023-01-27T00:00:00",
          "2023-03-31T00:00:00",
          "2023-06-30T00:00:00",
          "2023-09-29T00:00:00",
          "2022-11-02T00:00:00",
          "2022-11-03T00:00:00",
          "2022-11-04T00:00:00",
          "2022-11-11T00:00:00",
          "2022-11-18T00:00:00",
          "2022-11-25T00:00:00",
          "2022-12-30T00:00:00",
          "2023-01-27T00:00:00",
          "2023-03-31T00:00:00",
          "2023-06-30T00:00:00",
          "2023-09-29T00:00:00",
          "2022-11-02T00:00:00",
          "2022-11-03T00:00:00",
          "2022-11-04T00:00:00",
          "2022-11-11T00:00:00",
          "2022-11-18T00:00:00",
          "2022-11-25T00:00:00",
          "2022-12-30T00:00:00",
          "2023-01-27T00:00:00",
          "2023-03-31T00:00:00",
          "2023-06-30T00:00:00",
          "2023-09-29T00:00:00",
          "2022-11-02T00:00:00",
          "2022-11-03T00:00:00",
          "2022-11-04T00:00:00",
          "2022-11-11T00:00:00",
          "2022-11-18T00:00:00",
          "2022-11-25T00:00:00",
          "2022-12-30T00:00:00",
          "2023-01-27T00:00:00",
          "2023-03-31T00:00:00",
          "2023-06-30T00:00:00",
          "2023-09-29T00:00:00",
          "2022-11-02T00:00:00",
          "2022-11-03T00:00:00",
          "2022-11-04T00:00:00",
          "2022-11-11T00:00:00",
          "2022-11-18T00:00:00",
          "2022-11-25T00:00:00",
          "2022-12-30T00:00:00",
          "2023-01-27T00:00:00",
          "2023-03-31T00:00:00",
          "2023-06-30T00:00:00",
          "2023-09-29T00:00:00",
          "2022-11-02T00:00:00",
          "2022-11-03T00:00:00",
          "2022-11-04T00:00:00",
          "2022-11-11T00:00:00",
          "2022-11-18T00:00:00",
          "2022-11-25T00:00:00",
          "2022-12-30T00:00:00",
          "2023-01-27T00:00:00",
          "2023-03-31T00:00:00",
          "2023-06-30T00:00:00",
          "2023-09-29T00:00:00"
         ],
         "z": [
          null,
          null,
          null,
          null,
          null,
          null,
          0.753,
          null,
          0.739,
          null,
          0.771,
          null,
          null,
          null,
          null,
          null,
          null,
          null,
          null,
          null,
          null,
          null,
          null,
          null,
          null,
          null,
          null,
          null,
          0.5045,
          null,
          0.536,
          0.533,
          null,
          null,
          null,
          null,
          null,
          null,
          null,
          null,
          null,
          0.492,
          null,
          null,
          null,
          null,
          null,
          null,
          null,
          null,
          0.385,
          null,
          null,
          null,
          null,
          null,
          null,
          null,
          null,
          null,
          null,
          null,
          null,
          0.5095,
          0.412,
          0.4315,
          null,
          null,
          null,
          null,
          null,
          null,
          0.311,
          null,
          0.361,
          0.3885,
          0.415,
          null,
          null,
          0.23,
          0.23,
          null,
          null,
          0.294,
          null,
          0.31,
          0.367,
          0.391,
          null,
          null,
          null,
          null,
          null,
          null,
          0.24,
          null,
          0.2677,
          0.325,
          0.365,
          null,
          null,
          null,
          null,
          null,
          null,
          null,
          null,
          null,
          null,
          null,
          null,
          null,
          null,
          null,
          null,
          0.1435,
          0.201,
          null,
          0.24,
          0.368,
          0.3117,
          null,
          null,
          null,
          null,
          null,
          null,
          null,
          null,
          null,
          null,
          null,
          null,
          null,
          0.1285,
          0.144,
          null,
          0.1245,
          0.1652,
          null,
          0.2015,
          0.27,
          null,
          null,
          null,
          0.116,
          0.1175,
          null,
          null,
          null,
          null,
          null,
          null,
          null,
          null,
          null,
          0.0865,
          0.0859,
          0.0928,
          0.1087,
          0.134,
          0.1545,
          0.195,
          0.23,
          0.2585,
          null,
          null,
          0.06,
          0.079,
          0.0675,
          null,
          null,
          null,
          null,
          null,
          null,
          0.0375,
          null,
          null,
          null,
          null,
          null,
          null,
          null,
          null,
          null,
          null,
          null,
          null,
          0.0315,
          0.0475,
          0.0555,
          0.0635,
          0.1025,
          0.137,
          0.173,
          0.2315,
          0.271,
          0.0105,
          0.024,
          null,
          null,
          null,
          null,
          null,
          null,
          null,
          null,
          null,
          0.0065,
          0.0165,
          0.0185,
          0.0365,
          0.0455,
          null,
          null,
          null,
          null,
          null,
          null,
          0.0025,
          0.011,
          null,
          null,
          null,
          null,
          null,
          null,
          null,
          null,
          null,
          0.001,
          0.0075,
          0.0105,
          0.024,
          0.037,
          0.0445,
          0.08,
          0.1055,
          0.156,
          0.2073,
          0.2425,
          5.0E-4,
          0.0045,
          null,
          null,
          null,
          null,
          null,
          null,
          null,
          null,
          null,
          5.0E-4,
          0.0035,
          0.005,
          0.018,
          0.027,
          null,
          null,
          null,
          null,
          null,
          null,
          5.0E-4,
          0.0015,
          0.0025,
          0.011,
          0.021,
          0.026,
          0.0627,
          0.0854,
          0.1291,
          0.1805,
          0.2345,
          5.0E-4,
          5.0E-4,
          null,
          null,
          null,
          null,
          null,
          null,
          null,
          null,
          null,
          null,
          5.0E-4,
          0.001,
          0.0055,
          0.0115,
          0.016,
          0.047,
          0.069,
          0.1045,
          0.174,
          0.209,
          null,
          5.0E-4,
          5.0E-4,
          0.0025,
          0.007,
          0.0095,
          0.036,
          0.0655,
          0.1,
          0.1573,
          0.19,
          null,
          null,
          5.0E-4,
          0.001,
          0.0035,
          0.0065,
          0.0266,
          0.0455,
          0.091,
          0.133,
          0.19,
          null,
          null,
          5.0E-4,
          0.001,
          0.0022,
          0.004,
          0.021,
          0.0381,
          0.075,
          0.126,
          null,
          null,
          null,
          5.0E-4,
          5.0E-4,
          0.002,
          null,
          0.016,
          null,
          0.059,
          0.115,
          null,
          null,
          null,
          5.0E-4,
          5.0E-4,
          0.001,
          0.002,
          0.013,
          0.025,
          0.058,
          0.112,
          null,
          null,
          null,
          5.0E-4,
          5.0E-4,
          5.0E-4,
          null,
          null,
          null,
          0.0575,
          0.1,
          null,
          null,
          null,
          null,
          5.0E-4,
          5.0E-4,
          0.001,
          0.0075,
          0.0185,
          0.0445,
          0.0885,
          0.1235,
          null,
          null,
          null,
          5.0E-4,
          5.0E-4,
          null,
          null,
          null,
          null,
          null,
          null,
          null,
          null,
          null,
          null,
          null,
          5.0E-4,
          0.0055,
          0.0125,
          0.038,
          null,
          null,
          null,
          null,
          null,
          null,
          null,
          null,
          null,
          null,
          null,
          null,
          null,
          null,
          null,
          null,
          null,
          null,
          5.0E-4,
          0.005,
          0.009,
          0.028,
          null,
          null,
          null,
          null,
          null,
          null,
          null,
          5.0E-4,
          0.003,
          0.0075,
          0.025,
          0.0595,
          0.0895,
          null,
          null,
          null,
          null,
          null,
          5.0E-4,
          0.0025,
          null,
          0.0235,
          null,
          null,
          null,
          null,
          null,
          null,
          null,
          null,
          0.0015,
          null,
          0.0185,
          null,
          null,
          null,
          null,
          null,
          null,
          null,
          5.0E-4,
          0.0015,
          0.0035,
          0.015,
          0.0395,
          0.0665,
          null,
          null,
          null,
          null,
          null,
          null,
          null,
          null,
          0.0125,
          null,
          null,
          null,
          null,
          null,
          null,
          null,
          5.0E-4,
          0.001,
          0.0025,
          0.0095,
          0.03,
          0.05,
          null,
          null,
          null,
          null,
          null,
          null,
          5.0E-4,
          null,
          0.008,
          0.0235,
          null,
          null,
          null,
          null,
          null,
          null,
          null,
          5.0E-4,
          null,
          0.005,
          null,
          null,
          null,
          null,
          null,
          null,
          null,
          null,
          5.0E-4,
          null,
          0.0035,
          0.0145,
          0.027,
          null,
          null,
          null,
          null,
          null,
          null,
          null,
          null,
          0.0025,
          null,
          null
         ],
         "type": "scatter3d"
        }
       ],
       "layout": {
        "template": {
         "data": {
          "histogram2dcontour": [
           {
            "type": "histogram2dcontour",
            "colorbar": {
             "outlinewidth": 0,
             "ticks": ""
            },
            "colorscale": [
             [
              0.0,
              "#0d0887"
             ],
             [
              0.1111111111111111,
              "#46039f"
             ],
             [
              0.2222222222222222,
              "#7201a8"
             ],
             [
              0.3333333333333333,
              "#9c179e"
             ],
             [
              0.4444444444444444,
              "#bd3786"
             ],
             [
              0.5555555555555556,
              "#d8576b"
             ],
             [
              0.6666666666666666,
              "#ed7953"
             ],
             [
              0.7777777777777778,
              "#fb9f3a"
             ],
             [
              0.8888888888888888,
              "#fdca26"
             ],
             [
              1.0,
              "#f0f921"
             ]
            ]
           }
          ],
          "choropleth": [
           {
            "type": "choropleth",
            "colorbar": {
             "outlinewidth": 0,
             "ticks": ""
            }
           }
          ],
          "histogram2d": [
           {
            "type": "histogram2d",
            "colorbar": {
             "outlinewidth": 0,
             "ticks": ""
            },
            "colorscale": [
             [
              0.0,
              "#0d0887"
             ],
             [
              0.1111111111111111,
              "#46039f"
             ],
             [
              0.2222222222222222,
              "#7201a8"
             ],
             [
              0.3333333333333333,
              "#9c179e"
             ],
             [
              0.4444444444444444,
              "#bd3786"
             ],
             [
              0.5555555555555556,
              "#d8576b"
             ],
             [
              0.6666666666666666,
              "#ed7953"
             ],
             [
              0.7777777777777778,
              "#fb9f3a"
             ],
             [
              0.8888888888888888,
              "#fdca26"
             ],
             [
              1.0,
              "#f0f921"
             ]
            ]
           }
          ],
          "heatmap": [
           {
            "type": "heatmap",
            "colorbar": {
             "outlinewidth": 0,
             "ticks": ""
            },
            "colorscale": [
             [
              0.0,
              "#0d0887"
             ],
             [
              0.1111111111111111,
              "#46039f"
             ],
             [
              0.2222222222222222,
              "#7201a8"
             ],
             [
              0.3333333333333333,
              "#9c179e"
             ],
             [
              0.4444444444444444,
              "#bd3786"
             ],
             [
              0.5555555555555556,
              "#d8576b"
             ],
             [
              0.6666666666666666,
              "#ed7953"
             ],
             [
              0.7777777777777778,
              "#fb9f3a"
             ],
             [
              0.8888888888888888,
              "#fdca26"
             ],
             [
              1.0,
              "#f0f921"
             ]
            ]
           }
          ],
          "heatmapgl": [
           {
            "type": "heatmapgl",
            "colorbar": {
             "outlinewidth": 0,
             "ticks": ""
            },
            "colorscale": [
             [
              0.0,
              "#0d0887"
             ],
             [
              0.1111111111111111,
              "#46039f"
             ],
             [
              0.2222222222222222,
              "#7201a8"
             ],
             [
              0.3333333333333333,
              "#9c179e"
             ],
             [
              0.4444444444444444,
              "#bd3786"
             ],
             [
              0.5555555555555556,
              "#d8576b"
             ],
             [
              0.6666666666666666,
              "#ed7953"
             ],
             [
              0.7777777777777778,
              "#fb9f3a"
             ],
             [
              0.8888888888888888,
              "#fdca26"
             ],
             [
              1.0,
              "#f0f921"
             ]
            ]
           }
          ],
          "contourcarpet": [
           {
            "type": "contourcarpet",
            "colorbar": {
             "outlinewidth": 0,
             "ticks": ""
            }
           }
          ],
          "contour": [
           {
            "type": "contour",
            "colorbar": {
             "outlinewidth": 0,
             "ticks": ""
            },
            "colorscale": [
             [
              0.0,
              "#0d0887"
             ],
             [
              0.1111111111111111,
              "#46039f"
             ],
             [
              0.2222222222222222,
              "#7201a8"
             ],
             [
              0.3333333333333333,
              "#9c179e"
             ],
             [
              0.4444444444444444,
              "#bd3786"
             ],
             [
              0.5555555555555556,
              "#d8576b"
             ],
             [
              0.6666666666666666,
              "#ed7953"
             ],
             [
              0.7777777777777778,
              "#fb9f3a"
             ],
             [
              0.8888888888888888,
              "#fdca26"
             ],
             [
              1.0,
              "#f0f921"
             ]
            ]
           }
          ],
          "surface": [
           {
            "type": "surface",
            "colorbar": {
             "outlinewidth": 0,
             "ticks": ""
            },
            "colorscale": [
             [
              0.0,
              "#0d0887"
             ],
             [
              0.1111111111111111,
              "#46039f"
             ],
             [
              0.2222222222222222,
              "#7201a8"
             ],
             [
              0.3333333333333333,
              "#9c179e"
             ],
             [
              0.4444444444444444,
              "#bd3786"
             ],
             [
              0.5555555555555556,
              "#d8576b"
             ],
             [
              0.6666666666666666,
              "#ed7953"
             ],
             [
              0.7777777777777778,
              "#fb9f3a"
             ],
             [
              0.8888888888888888,
              "#fdca26"
             ],
             [
              1.0,
              "#f0f921"
             ]
            ]
           }
          ],
          "mesh3d": [
           {
            "type": "mesh3d",
            "colorbar": {
             "outlinewidth": 0,
             "ticks": ""
            }
           }
          ],
          "scatter": [
           {
            "fillpattern": {
             "fillmode": "overlay",
             "size": 10,
             "solidity": 0.2
            },
            "type": "scatter"
           }
          ],
          "parcoords": [
           {
            "type": "parcoords",
            "line": {
             "colorbar": {
              "outlinewidth": 0,
              "ticks": ""
             }
            }
           }
          ],
          "scatterpolargl": [
           {
            "type": "scatterpolargl",
            "marker": {
             "colorbar": {
              "outlinewidth": 0,
              "ticks": ""
             }
            }
           }
          ],
          "bar": [
           {
            "error_x": {
             "color": "#2a3f5f"
            },
            "error_y": {
             "color": "#2a3f5f"
            },
            "marker": {
             "line": {
              "color": "#E5ECF6",
              "width": 0.5
             },
             "pattern": {
              "fillmode": "overlay",
              "size": 10,
              "solidity": 0.2
             }
            },
            "type": "bar"
           }
          ],
          "scattergeo": [
           {
            "type": "scattergeo",
            "marker": {
             "colorbar": {
              "outlinewidth": 0,
              "ticks": ""
             }
            }
           }
          ],
          "scatterpolar": [
           {
            "type": "scatterpolar",
            "marker": {
             "colorbar": {
              "outlinewidth": 0,
              "ticks": ""
             }
            }
           }
          ],
          "histogram": [
           {
            "marker": {
             "pattern": {
              "fillmode": "overlay",
              "size": 10,
              "solidity": 0.2
             }
            },
            "type": "histogram"
           }
          ],
          "scattergl": [
           {
            "type": "scattergl",
            "marker": {
             "colorbar": {
              "outlinewidth": 0,
              "ticks": ""
             }
            }
           }
          ],
          "scatter3d": [
           {
            "type": "scatter3d",
            "line": {
             "colorbar": {
              "outlinewidth": 0,
              "ticks": ""
             }
            },
            "marker": {
             "colorbar": {
              "outlinewidth": 0,
              "ticks": ""
             }
            }
           }
          ],
          "scattermapbox": [
           {
            "type": "scattermapbox",
            "marker": {
             "colorbar": {
              "outlinewidth": 0,
              "ticks": ""
             }
            }
           }
          ],
          "scatterternary": [
           {
            "type": "scatterternary",
            "marker": {
             "colorbar": {
              "outlinewidth": 0,
              "ticks": ""
             }
            }
           }
          ],
          "scattercarpet": [
           {
            "type": "scattercarpet",
            "marker": {
             "colorbar": {
              "outlinewidth": 0,
              "ticks": ""
             }
            }
           }
          ],
          "carpet": [
           {
            "aaxis": {
             "endlinecolor": "#2a3f5f",
             "gridcolor": "white",
             "linecolor": "white",
             "minorgridcolor": "white",
             "startlinecolor": "#2a3f5f"
            },
            "baxis": {
             "endlinecolor": "#2a3f5f",
             "gridcolor": "white",
             "linecolor": "white",
             "minorgridcolor": "white",
             "startlinecolor": "#2a3f5f"
            },
            "type": "carpet"
           }
          ],
          "table": [
           {
            "cells": {
             "fill": {
              "color": "#EBF0F8"
             },
             "line": {
              "color": "white"
             }
            },
            "header": {
             "fill": {
              "color": "#C8D4E3"
             },
             "line": {
              "color": "white"
             }
            },
            "type": "table"
           }
          ],
          "barpolar": [
           {
            "marker": {
             "line": {
              "color": "#E5ECF6",
              "width": 0.5
             },
             "pattern": {
              "fillmode": "overlay",
              "size": 10,
              "solidity": 0.2
             }
            },
            "type": "barpolar"
           }
          ],
          "pie": [
           {
            "automargin": true,
            "type": "pie"
           }
          ]
         },
         "layout": {
          "autotypenumbers": "strict",
          "colorway": [
           "#636efa",
           "#EF553B",
           "#00cc96",
           "#ab63fa",
           "#FFA15A",
           "#19d3f3",
           "#FF6692",
           "#B6E880",
           "#FF97FF",
           "#FECB52"
          ],
          "font": {
           "color": "#2a3f5f"
          },
          "hovermode": "closest",
          "hoverlabel": {
           "align": "left"
          },
          "paper_bgcolor": "white",
          "plot_bgcolor": "#E5ECF6",
          "polar": {
           "bgcolor": "#E5ECF6",
           "angularaxis": {
            "gridcolor": "white",
            "linecolor": "white",
            "ticks": ""
           },
           "radialaxis": {
            "gridcolor": "white",
            "linecolor": "white",
            "ticks": ""
           }
          },
          "ternary": {
           "bgcolor": "#E5ECF6",
           "aaxis": {
            "gridcolor": "white",
            "linecolor": "white",
            "ticks": ""
           },
           "baxis": {
            "gridcolor": "white",
            "linecolor": "white",
            "ticks": ""
           },
           "caxis": {
            "gridcolor": "white",
            "linecolor": "white",
            "ticks": ""
           }
          },
          "coloraxis": {
           "colorbar": {
            "outlinewidth": 0,
            "ticks": ""
           }
          },
          "colorscale": {
           "sequential": [
            [
             0.0,
             "#0d0887"
            ],
            [
             0.1111111111111111,
             "#46039f"
            ],
            [
             0.2222222222222222,
             "#7201a8"
            ],
            [
             0.3333333333333333,
             "#9c179e"
            ],
            [
             0.4444444444444444,
             "#bd3786"
            ],
            [
             0.5555555555555556,
             "#d8576b"
            ],
            [
             0.6666666666666666,
             "#ed7953"
            ],
            [
             0.7777777777777778,
             "#fb9f3a"
            ],
            [
             0.8888888888888888,
             "#fdca26"
            ],
            [
             1.0,
             "#f0f921"
            ]
           ],
           "sequentialminus": [
            [
             0.0,
             "#0d0887"
            ],
            [
             0.1111111111111111,
             "#46039f"
            ],
            [
             0.2222222222222222,
             "#7201a8"
            ],
            [
             0.3333333333333333,
             "#9c179e"
            ],
            [
             0.4444444444444444,
             "#bd3786"
            ],
            [
             0.5555555555555556,
             "#d8576b"
            ],
            [
             0.6666666666666666,
             "#ed7953"
            ],
            [
             0.7777777777777778,
             "#fb9f3a"
            ],
            [
             0.8888888888888888,
             "#fdca26"
            ],
            [
             1.0,
             "#f0f921"
            ]
           ],
           "diverging": [
            [
             0,
             "#8e0152"
            ],
            [
             0.1,
             "#c51b7d"
            ],
            [
             0.2,
             "#de77ae"
            ],
            [
             0.3,
             "#f1b6da"
            ],
            [
             0.4,
             "#fde0ef"
            ],
            [
             0.5,
             "#f7f7f7"
            ],
            [
             0.6,
             "#e6f5d0"
            ],
            [
             0.7,
             "#b8e186"
            ],
            [
             0.8,
             "#7fbc41"
            ],
            [
             0.9,
             "#4d9221"
            ],
            [
             1,
             "#276419"
            ]
           ]
          },
          "xaxis": {
           "gridcolor": "white",
           "linecolor": "white",
           "ticks": "",
           "title": {
            "standoff": 15
           },
           "zerolinecolor": "white",
           "automargin": true,
           "zerolinewidth": 2
          },
          "yaxis": {
           "gridcolor": "white",
           "linecolor": "white",
           "ticks": "",
           "title": {
            "standoff": 15
           },
           "zerolinecolor": "white",
           "automargin": true,
           "zerolinewidth": 2
          },
          "scene": {
           "xaxis": {
            "backgroundcolor": "#E5ECF6",
            "gridcolor": "white",
            "linecolor": "white",
            "showbackground": true,
            "ticks": "",
            "zerolinecolor": "white",
            "gridwidth": 2
           },
           "yaxis": {
            "backgroundcolor": "#E5ECF6",
            "gridcolor": "white",
            "linecolor": "white",
            "showbackground": true,
            "ticks": "",
            "zerolinecolor": "white",
            "gridwidth": 2
           },
           "zaxis": {
            "backgroundcolor": "#E5ECF6",
            "gridcolor": "white",
            "linecolor": "white",
            "showbackground": true,
            "ticks": "",
            "zerolinecolor": "white",
            "gridwidth": 2
           }
          },
          "shapedefaults": {
           "line": {
            "color": "#2a3f5f"
           }
          },
          "annotationdefaults": {
           "arrowcolor": "#2a3f5f",
           "arrowhead": 0,
           "arrowwidth": 1
          },
          "geo": {
           "bgcolor": "white",
           "landcolor": "#E5ECF6",
           "subunitcolor": "white",
           "showland": true,
           "showlakes": true,
           "lakecolor": "white"
          },
          "title": {
           "x": 0.05
          },
          "mapbox": {
           "style": "light"
          }
         }
        },
        "margin": {
         "l": 25,
         "r": 25,
         "b": 25,
         "t": 30
        },
        "font": {
         "family": "Courier New, monospace",
         "size": 12,
         "color": "RebeccaPurple"
        },
        "scene": {
         "xaxis": {
          "title": {
           "text": "Strike"
          }
         },
         "yaxis": {
          "title": {
           "text": "Maturity"
          }
         },
         "zaxis": {
          "title": {
           "text": "Price"
          }
         }
        },
        "width": 400,
        "height": 400
       },
       "config": {
        "plotlyServerURL": "https://plot.ly"
       }
      },
      "text/html": "<div>                            <div id=\"a3d69c42-ad72-4057-9790-f74c85396deb\" class=\"plotly-graph-div\" style=\"height:400px; width:400px;\"></div>            <script type=\"text/javascript\">                require([\"plotly\"], function(Plotly) {                    window.PLOTLYENV=window.PLOTLYENV || {};                                    if (document.getElementById(\"a3d69c42-ad72-4057-9790-f74c85396deb\")) {                    Plotly.newPlot(                        \"a3d69c42-ad72-4057-9790-f74c85396deb\",                        [{\"marker\":{\"color\":[null,null,null,null,null,null,0.753,null,0.739,null,0.771,null,null,null,null,null,null,null,null,null,null,null,null,null,null,null,null,null,0.5045,null,0.536,0.533,null,null,null,null,null,null,null,null,null,0.492,null,null,null,null,null,null,null,null,0.385,null,null,null,null,null,null,null,null,null,null,null,null,0.5095,0.412,0.4315,null,null,null,null,null,null,0.311,null,0.361,0.3885,0.415,null,null,0.23,0.23,null,null,0.294,null,0.31,0.367,0.391,null,null,null,null,null,null,0.24,null,0.2677,0.325,0.365,null,null,null,null,null,null,null,null,null,null,null,null,null,null,null,null,0.1435,0.201,null,0.24,0.368,0.3117,null,null,null,null,null,null,null,null,null,null,null,null,null,0.1285,0.144,null,0.1245,0.1652,null,0.2015,0.27,null,null,null,0.116,0.1175,null,null,null,null,null,null,null,null,null,0.0865,0.0859,0.0928,0.1087,0.134,0.1545,0.195,0.23,0.2585,null,null,0.06,0.079,0.0675,null,null,null,null,null,null,0.0375,null,null,null,null,null,null,null,null,null,null,null,null,0.0315,0.0475,0.0555,0.0635,0.1025,0.137,0.173,0.2315,0.271,0.0105,0.024,null,null,null,null,null,null,null,null,null,0.0065,0.0165,0.0185,0.0365,0.0455,null,null,null,null,null,null,0.0025,0.011,null,null,null,null,null,null,null,null,null,0.001,0.0075,0.0105,0.024,0.037,0.0445,0.08,0.1055,0.156,0.2073,0.2425,0.0005,0.0045,null,null,null,null,null,null,null,null,null,0.0005,0.0035,0.005,0.018,0.027,null,null,null,null,null,null,0.0005,0.0015,0.0025,0.011,0.021,0.026,0.0627,0.0854,0.1291,0.1805,0.2345,0.0005,0.0005,null,null,null,null,null,null,null,null,null,null,0.0005,0.001,0.0055,0.0115,0.016,0.047,0.069,0.1045,0.174,0.209,null,0.0005,0.0005,0.0025,0.007,0.0095,0.036,0.0655,0.1,0.1573,0.19,null,null,0.0005,0.001,0.0035,0.0065,0.0266,0.0455,0.091,0.133,0.19,null,null,0.0005,0.001,0.0022,0.004,0.021,0.0381,0.075,0.126,null,null,null,0.0005,0.0005,0.002,null,0.016,null,0.059,0.115,null,null,null,0.0005,0.0005,0.001,0.002,0.013,0.025,0.058,0.112,null,null,null,0.0005,0.0005,0.0005,null,null,null,0.0575,0.1,null,null,null,null,0.0005,0.0005,0.001,0.0075,0.0185,0.0445,0.0885,0.1235,null,null,null,0.0005,0.0005,null,null,null,null,null,null,null,null,null,null,null,0.0005,0.0055,0.0125,0.038,null,null,null,null,null,null,null,null,null,null,null,null,null,null,null,null,null,null,0.0005,0.005,0.009,0.028,null,null,null,null,null,null,null,0.0005,0.003,0.0075,0.025,0.0595,0.0895,null,null,null,null,null,0.0005,0.0025,null,0.0235,null,null,null,null,null,null,null,null,0.0015,null,0.0185,null,null,null,null,null,null,null,0.0005,0.0015,0.0035,0.015,0.0395,0.0665,null,null,null,null,null,null,null,null,0.0125,null,null,null,null,null,null,null,0.0005,0.001,0.0025,0.0095,0.03,0.05,null,null,null,null,null,null,0.0005,null,0.008,0.0235,null,null,null,null,null,null,null,0.0005,null,0.005,null,null,null,null,null,null,null,null,0.0005,null,0.0035,0.0145,0.027,null,null,null,null,null,null,null,null,0.0025,null,null],\"colorscale\":[[0.0,\"#440154\"],[0.1111111111111111,\"#482878\"],[0.2222222222222222,\"#3e4989\"],[0.3333333333333333,\"#31688e\"],[0.4444444444444444,\"#26828e\"],[0.5555555555555556,\"#1f9e89\"],[0.6666666666666666,\"#35b779\"],[0.7777777777777778,\"#6ece58\"],[0.8888888888888888,\"#b5de2b\"],[1.0,\"#fde725\"]],\"opacity\":0.8,\"size\":4},\"mode\":\"markers\",\"x\":[5000.0,5000.0,5000.0,5000.0,5000.0,5000.0,5000.0,5000.0,5000.0,5000.0,5000.0,8000.0,8000.0,8000.0,8000.0,8000.0,8000.0,8000.0,8000.0,8000.0,8000.0,8000.0,10000.0,10000.0,10000.0,10000.0,10000.0,10000.0,10000.0,10000.0,10000.0,10000.0,10000.0,11000.0,11000.0,11000.0,11000.0,11000.0,11000.0,11000.0,11000.0,11000.0,11000.0,11000.0,12000.0,12000.0,12000.0,12000.0,12000.0,12000.0,12000.0,12000.0,12000.0,12000.0,12000.0,13000.0,13000.0,13000.0,13000.0,13000.0,13000.0,13000.0,13000.0,13000.0,13000.0,13000.0,14000.0,14000.0,14000.0,14000.0,14000.0,14000.0,14000.0,14000.0,14000.0,14000.0,14000.0,15000.0,15000.0,15000.0,15000.0,15000.0,15000.0,15000.0,15000.0,15000.0,15000.0,15000.0,16000.0,16000.0,16000.0,16000.0,16000.0,16000.0,16000.0,16000.0,16000.0,16000.0,16000.0,16500.0,16500.0,16500.0,16500.0,16500.0,16500.0,16500.0,16500.0,16500.0,16500.0,16500.0,17000.0,17000.0,17000.0,17000.0,17000.0,17000.0,17000.0,17000.0,17000.0,17000.0,17000.0,17500.0,17500.0,17500.0,17500.0,17500.0,17500.0,17500.0,17500.0,17500.0,17500.0,17500.0,18000.0,18000.0,18000.0,18000.0,18000.0,18000.0,18000.0,18000.0,18000.0,18000.0,18000.0,18500.0,18500.0,18500.0,18500.0,18500.0,18500.0,18500.0,18500.0,18500.0,18500.0,18500.0,19000.0,19000.0,19000.0,19000.0,19000.0,19000.0,19000.0,19000.0,19000.0,19000.0,19000.0,19500.0,19500.0,19500.0,19500.0,19500.0,19500.0,19500.0,19500.0,19500.0,19500.0,19500.0,19750.0,19750.0,19750.0,19750.0,19750.0,19750.0,19750.0,19750.0,19750.0,19750.0,19750.0,20000.0,20000.0,20000.0,20000.0,20000.0,20000.0,20000.0,20000.0,20000.0,20000.0,20000.0,20250.0,20250.0,20250.0,20250.0,20250.0,20250.0,20250.0,20250.0,20250.0,20250.0,20250.0,20500.0,20500.0,20500.0,20500.0,20500.0,20500.0,20500.0,20500.0,20500.0,20500.0,20500.0,20750.0,20750.0,20750.0,20750.0,20750.0,20750.0,20750.0,20750.0,20750.0,20750.0,20750.0,21000.0,21000.0,21000.0,21000.0,21000.0,21000.0,21000.0,21000.0,21000.0,21000.0,21000.0,21250.0,21250.0,21250.0,21250.0,21250.0,21250.0,21250.0,21250.0,21250.0,21250.0,21250.0,21500.0,21500.0,21500.0,21500.0,21500.0,21500.0,21500.0,21500.0,21500.0,21500.0,21500.0,22000.0,22000.0,22000.0,22000.0,22000.0,22000.0,22000.0,22000.0,22000.0,22000.0,22000.0,22500.0,22500.0,22500.0,22500.0,22500.0,22500.0,22500.0,22500.0,22500.0,22500.0,22500.0,23000.0,23000.0,23000.0,23000.0,23000.0,23000.0,23000.0,23000.0,23000.0,23000.0,23000.0,24000.0,24000.0,24000.0,24000.0,24000.0,24000.0,24000.0,24000.0,24000.0,24000.0,24000.0,25000.0,25000.0,25000.0,25000.0,25000.0,25000.0,25000.0,25000.0,25000.0,25000.0,25000.0,26000.0,26000.0,26000.0,26000.0,26000.0,26000.0,26000.0,26000.0,26000.0,26000.0,26000.0,27000.0,27000.0,27000.0,27000.0,27000.0,27000.0,27000.0,27000.0,27000.0,27000.0,27000.0,28000.0,28000.0,28000.0,28000.0,28000.0,28000.0,28000.0,28000.0,28000.0,28000.0,28000.0,29000.0,29000.0,29000.0,29000.0,29000.0,29000.0,29000.0,29000.0,29000.0,29000.0,29000.0,30000.0,30000.0,30000.0,30000.0,30000.0,30000.0,30000.0,30000.0,30000.0,30000.0,30000.0,31000.0,31000.0,31000.0,31000.0,31000.0,31000.0,31000.0,31000.0,31000.0,31000.0,31000.0,32000.0,32000.0,32000.0,32000.0,32000.0,32000.0,32000.0,32000.0,32000.0,32000.0,32000.0,33000.0,33000.0,33000.0,33000.0,33000.0,33000.0,33000.0,33000.0,33000.0,33000.0,33000.0,34000.0,34000.0,34000.0,34000.0,34000.0,34000.0,34000.0,34000.0,34000.0,34000.0,34000.0,35000.0,35000.0,35000.0,35000.0,35000.0,35000.0,35000.0,35000.0,35000.0,35000.0,35000.0,36000.0,36000.0,36000.0,36000.0,36000.0,36000.0,36000.0,36000.0,36000.0,36000.0,36000.0,38000.0,38000.0,38000.0,38000.0,38000.0,38000.0,38000.0,38000.0,38000.0,38000.0,38000.0,40000.0,40000.0,40000.0,40000.0,40000.0,40000.0,40000.0,40000.0,40000.0,40000.0,40000.0,42000.0,42000.0,42000.0,42000.0,42000.0,42000.0,42000.0,42000.0,42000.0,42000.0,42000.0,45000.0,45000.0,45000.0,45000.0,45000.0,45000.0,45000.0,45000.0,45000.0,45000.0,45000.0,50000.0,50000.0,50000.0,50000.0,50000.0,50000.0,50000.0,50000.0,50000.0,50000.0,50000.0,55000.0,55000.0,55000.0,55000.0,55000.0,55000.0,55000.0,55000.0,55000.0,55000.0,55000.0,60000.0,60000.0,60000.0,60000.0,60000.0,60000.0,60000.0,60000.0,60000.0,60000.0,60000.0,65000.0,65000.0,65000.0,65000.0,65000.0,65000.0,65000.0,65000.0,65000.0,65000.0,65000.0],\"y\":[\"2022-11-02T00:00:00\",\"2022-11-03T00:00:00\",\"2022-11-04T00:00:00\",\"2022-11-11T00:00:00\",\"2022-11-18T00:00:00\",\"2022-11-25T00:00:00\",\"2022-12-30T00:00:00\",\"2023-01-27T00:00:00\",\"2023-03-31T00:00:00\",\"2023-06-30T00:00:00\",\"2023-09-29T00:00:00\",\"2022-11-02T00:00:00\",\"2022-11-03T00:00:00\",\"2022-11-04T00:00:00\",\"2022-11-11T00:00:00\",\"2022-11-18T00:00:00\",\"2022-11-25T00:00:00\",\"2022-12-30T00:00:00\",\"2023-01-27T00:00:00\",\"2023-03-31T00:00:00\",\"2023-06-30T00:00:00\",\"2023-09-29T00:00:00\",\"2022-11-02T00:00:00\",\"2022-11-03T00:00:00\",\"2022-11-04T00:00:00\",\"2022-11-11T00:00:00\",\"2022-11-18T00:00:00\",\"2022-11-25T00:00:00\",\"2022-12-30T00:00:00\",\"2023-01-27T00:00:00\",\"2023-03-31T00:00:00\",\"2023-06-30T00:00:00\",\"2023-09-29T00:00:00\",\"2022-11-02T00:00:00\",\"2022-11-03T00:00:00\",\"2022-11-04T00:00:00\",\"2022-11-11T00:00:00\",\"2022-11-18T00:00:00\",\"2022-11-25T00:00:00\",\"2022-12-30T00:00:00\",\"2023-01-27T00:00:00\",\"2023-03-31T00:00:00\",\"2023-06-30T00:00:00\",\"2023-09-29T00:00:00\",\"2022-11-02T00:00:00\",\"2022-11-03T00:00:00\",\"2022-11-04T00:00:00\",\"2022-11-11T00:00:00\",\"2022-11-18T00:00:00\",\"2022-11-25T00:00:00\",\"2022-12-30T00:00:00\",\"2023-01-27T00:00:00\",\"2023-03-31T00:00:00\",\"2023-06-30T00:00:00\",\"2023-09-29T00:00:00\",\"2022-11-02T00:00:00\",\"2022-11-03T00:00:00\",\"2022-11-04T00:00:00\",\"2022-11-11T00:00:00\",\"2022-11-18T00:00:00\",\"2022-11-25T00:00:00\",\"2022-12-30T00:00:00\",\"2023-01-27T00:00:00\",\"2023-03-31T00:00:00\",\"2023-06-30T00:00:00\",\"2023-09-29T00:00:00\",\"2022-11-02T00:00:00\",\"2022-11-03T00:00:00\",\"2022-11-04T00:00:00\",\"2022-11-11T00:00:00\",\"2022-11-18T00:00:00\",\"2022-11-25T00:00:00\",\"2022-12-30T00:00:00\",\"2023-01-27T00:00:00\",\"2023-03-31T00:00:00\",\"2023-06-30T00:00:00\",\"2023-09-29T00:00:00\",\"2022-11-02T00:00:00\",\"2022-11-03T00:00:00\",\"2022-11-04T00:00:00\",\"2022-11-11T00:00:00\",\"2022-11-18T00:00:00\",\"2022-11-25T00:00:00\",\"2022-12-30T00:00:00\",\"2023-01-27T00:00:00\",\"2023-03-31T00:00:00\",\"2023-06-30T00:00:00\",\"2023-09-29T00:00:00\",\"2022-11-02T00:00:00\",\"2022-11-03T00:00:00\",\"2022-11-04T00:00:00\",\"2022-11-11T00:00:00\",\"2022-11-18T00:00:00\",\"2022-11-25T00:00:00\",\"2022-12-30T00:00:00\",\"2023-01-27T00:00:00\",\"2023-03-31T00:00:00\",\"2023-06-30T00:00:00\",\"2023-09-29T00:00:00\",\"2022-11-02T00:00:00\",\"2022-11-03T00:00:00\",\"2022-11-04T00:00:00\",\"2022-11-11T00:00:00\",\"2022-11-18T00:00:00\",\"2022-11-25T00:00:00\",\"2022-12-30T00:00:00\",\"2023-01-27T00:00:00\",\"2023-03-31T00:00:00\",\"2023-06-30T00:00:00\",\"2023-09-29T00:00:00\",\"2022-11-02T00:00:00\",\"2022-11-03T00:00:00\",\"2022-11-04T00:00:00\",\"2022-11-11T00:00:00\",\"2022-11-18T00:00:00\",\"2022-11-25T00:00:00\",\"2022-12-30T00:00:00\",\"2023-01-27T00:00:00\",\"2023-03-31T00:00:00\",\"2023-06-30T00:00:00\",\"2023-09-29T00:00:00\",\"2022-11-02T00:00:00\",\"2022-11-03T00:00:00\",\"2022-11-04T00:00:00\",\"2022-11-11T00:00:00\",\"2022-11-18T00:00:00\",\"2022-11-25T00:00:00\",\"2022-12-30T00:00:00\",\"2023-01-27T00:00:00\",\"2023-03-31T00:00:00\",\"2023-06-30T00:00:00\",\"2023-09-29T00:00:00\",\"2022-11-02T00:00:00\",\"2022-11-03T00:00:00\",\"2022-11-04T00:00:00\",\"2022-11-11T00:00:00\",\"2022-11-18T00:00:00\",\"2022-11-25T00:00:00\",\"2022-12-30T00:00:00\",\"2023-01-27T00:00:00\",\"2023-03-31T00:00:00\",\"2023-06-30T00:00:00\",\"2023-09-29T00:00:00\",\"2022-11-02T00:00:00\",\"2022-11-03T00:00:00\",\"2022-11-04T00:00:00\",\"2022-11-11T00:00:00\",\"2022-11-18T00:00:00\",\"2022-11-25T00:00:00\",\"2022-12-30T00:00:00\",\"2023-01-27T00:00:00\",\"2023-03-31T00:00:00\",\"2023-06-30T00:00:00\",\"2023-09-29T00:00:00\",\"2022-11-02T00:00:00\",\"2022-11-03T00:00:00\",\"2022-11-04T00:00:00\",\"2022-11-11T00:00:00\",\"2022-11-18T00:00:00\",\"2022-11-25T00:00:00\",\"2022-12-30T00:00:00\",\"2023-01-27T00:00:00\",\"2023-03-31T00:00:00\",\"2023-06-30T00:00:00\",\"2023-09-29T00:00:00\",\"2022-11-02T00:00:00\",\"2022-11-03T00:00:00\",\"2022-11-04T00:00:00\",\"2022-11-11T00:00:00\",\"2022-11-18T00:00:00\",\"2022-11-25T00:00:00\",\"2022-12-30T00:00:00\",\"2023-01-27T00:00:00\",\"2023-03-31T00:00:00\",\"2023-06-30T00:00:00\",\"2023-09-29T00:00:00\",\"2022-11-02T00:00:00\",\"2022-11-03T00:00:00\",\"2022-11-04T00:00:00\",\"2022-11-11T00:00:00\",\"2022-11-18T00:00:00\",\"2022-11-25T00:00:00\",\"2022-12-30T00:00:00\",\"2023-01-27T00:00:00\",\"2023-03-31T00:00:00\",\"2023-06-30T00:00:00\",\"2023-09-29T00:00:00\",\"2022-11-02T00:00:00\",\"2022-11-03T00:00:00\",\"2022-11-04T00:00:00\",\"2022-11-11T00:00:00\",\"2022-11-18T00:00:00\",\"2022-11-25T00:00:00\",\"2022-12-30T00:00:00\",\"2023-01-27T00:00:00\",\"2023-03-31T00:00:00\",\"2023-06-30T00:00:00\",\"2023-09-29T00:00:00\",\"2022-11-02T00:00:00\",\"2022-11-03T00:00:00\",\"2022-11-04T00:00:00\",\"2022-11-11T00:00:00\",\"2022-11-18T00:00:00\",\"2022-11-25T00:00:00\",\"2022-12-30T00:00:00\",\"2023-01-27T00:00:00\",\"2023-03-31T00:00:00\",\"2023-06-30T00:00:00\",\"2023-09-29T00:00:00\",\"2022-11-02T00:00:00\",\"2022-11-03T00:00:00\",\"2022-11-04T00:00:00\",\"2022-11-11T00:00:00\",\"2022-11-18T00:00:00\",\"2022-11-25T00:00:00\",\"2022-12-30T00:00:00\",\"2023-01-27T00:00:00\",\"2023-03-31T00:00:00\",\"2023-06-30T00:00:00\",\"2023-09-29T00:00:00\",\"2022-11-02T00:00:00\",\"2022-11-03T00:00:00\",\"2022-11-04T00:00:00\",\"2022-11-11T00:00:00\",\"2022-11-18T00:00:00\",\"2022-11-25T00:00:00\",\"2022-12-30T00:00:00\",\"2023-01-27T00:00:00\",\"2023-03-31T00:00:00\",\"2023-06-30T00:00:00\",\"2023-09-29T00:00:00\",\"2022-11-02T00:00:00\",\"2022-11-03T00:00:00\",\"2022-11-04T00:00:00\",\"2022-11-11T00:00:00\",\"2022-11-18T00:00:00\",\"2022-11-25T00:00:00\",\"2022-12-30T00:00:00\",\"2023-01-27T00:00:00\",\"2023-03-31T00:00:00\",\"2023-06-30T00:00:00\",\"2023-09-29T00:00:00\",\"2022-11-02T00:00:00\",\"2022-11-03T00:00:00\",\"2022-11-04T00:00:00\",\"2022-11-11T00:00:00\",\"2022-11-18T00:00:00\",\"2022-11-25T00:00:00\",\"2022-12-30T00:00:00\",\"2023-01-27T00:00:00\",\"2023-03-31T00:00:00\",\"2023-06-30T00:00:00\",\"2023-09-29T00:00:00\",\"2022-11-02T00:00:00\",\"2022-11-03T00:00:00\",\"2022-11-04T00:00:00\",\"2022-11-11T00:00:00\",\"2022-11-18T00:00:00\",\"2022-11-25T00:00:00\",\"2022-12-30T00:00:00\",\"2023-01-27T00:00:00\",\"2023-03-31T00:00:00\",\"2023-06-30T00:00:00\",\"2023-09-29T00:00:00\",\"2022-11-02T00:00:00\",\"2022-11-03T00:00:00\",\"2022-11-04T00:00:00\",\"2022-11-11T00:00:00\",\"2022-11-18T00:00:00\",\"2022-11-25T00:00:00\",\"2022-12-30T00:00:00\",\"2023-01-27T00:00:00\",\"2023-03-31T00:00:00\",\"2023-06-30T00:00:00\",\"2023-09-29T00:00:00\",\"2022-11-02T00:00:00\",\"2022-11-03T00:00:00\",\"2022-11-04T00:00:00\",\"2022-11-11T00:00:00\",\"2022-11-18T00:00:00\",\"2022-11-25T00:00:00\",\"2022-12-30T00:00:00\",\"2023-01-27T00:00:00\",\"2023-03-31T00:00:00\",\"2023-06-30T00:00:00\",\"2023-09-29T00:00:00\",\"2022-11-02T00:00:00\",\"2022-11-03T00:00:00\",\"2022-11-04T00:00:00\",\"2022-11-11T00:00:00\",\"2022-11-18T00:00:00\",\"2022-11-25T00:00:00\",\"2022-12-30T00:00:00\",\"2023-01-27T00:00:00\",\"2023-03-31T00:00:00\",\"2023-06-30T00:00:00\",\"2023-09-29T00:00:00\",\"2022-11-02T00:00:00\",\"2022-11-03T00:00:00\",\"2022-11-04T00:00:00\",\"2022-11-11T00:00:00\",\"2022-11-18T00:00:00\",\"2022-11-25T00:00:00\",\"2022-12-30T00:00:00\",\"2023-01-27T00:00:00\",\"2023-03-31T00:00:00\",\"2023-06-30T00:00:00\",\"2023-09-29T00:00:00\",\"2022-11-02T00:00:00\",\"2022-11-03T00:00:00\",\"2022-11-04T00:00:00\",\"2022-11-11T00:00:00\",\"2022-11-18T00:00:00\",\"2022-11-25T00:00:00\",\"2022-12-30T00:00:00\",\"2023-01-27T00:00:00\",\"2023-03-31T00:00:00\",\"2023-06-30T00:00:00\",\"2023-09-29T00:00:00\",\"2022-11-02T00:00:00\",\"2022-11-03T00:00:00\",\"2022-11-04T00:00:00\",\"2022-11-11T00:00:00\",\"2022-11-18T00:00:00\",\"2022-11-25T00:00:00\",\"2022-12-30T00:00:00\",\"2023-01-27T00:00:00\",\"2023-03-31T00:00:00\",\"2023-06-30T00:00:00\",\"2023-09-29T00:00:00\",\"2022-11-02T00:00:00\",\"2022-11-03T00:00:00\",\"2022-11-04T00:00:00\",\"2022-11-11T00:00:00\",\"2022-11-18T00:00:00\",\"2022-11-25T00:00:00\",\"2022-12-30T00:00:00\",\"2023-01-27T00:00:00\",\"2023-03-31T00:00:00\",\"2023-06-30T00:00:00\",\"2023-09-29T00:00:00\",\"2022-11-02T00:00:00\",\"2022-11-03T00:00:00\",\"2022-11-04T00:00:00\",\"2022-11-11T00:00:00\",\"2022-11-18T00:00:00\",\"2022-11-25T00:00:00\",\"2022-12-30T00:00:00\",\"2023-01-27T00:00:00\",\"2023-03-31T00:00:00\",\"2023-06-30T00:00:00\",\"2023-09-29T00:00:00\",\"2022-11-02T00:00:00\",\"2022-11-03T00:00:00\",\"2022-11-04T00:00:00\",\"2022-11-11T00:00:00\",\"2022-11-18T00:00:00\",\"2022-11-25T00:00:00\",\"2022-12-30T00:00:00\",\"2023-01-27T00:00:00\",\"2023-03-31T00:00:00\",\"2023-06-30T00:00:00\",\"2023-09-29T00:00:00\",\"2022-11-02T00:00:00\",\"2022-11-03T00:00:00\",\"2022-11-04T00:00:00\",\"2022-11-11T00:00:00\",\"2022-11-18T00:00:00\",\"2022-11-25T00:00:00\",\"2022-12-30T00:00:00\",\"2023-01-27T00:00:00\",\"2023-03-31T00:00:00\",\"2023-06-30T00:00:00\",\"2023-09-29T00:00:00\",\"2022-11-02T00:00:00\",\"2022-11-03T00:00:00\",\"2022-11-04T00:00:00\",\"2022-11-11T00:00:00\",\"2022-11-18T00:00:00\",\"2022-11-25T00:00:00\",\"2022-12-30T00:00:00\",\"2023-01-27T00:00:00\",\"2023-03-31T00:00:00\",\"2023-06-30T00:00:00\",\"2023-09-29T00:00:00\",\"2022-11-02T00:00:00\",\"2022-11-03T00:00:00\",\"2022-11-04T00:00:00\",\"2022-11-11T00:00:00\",\"2022-11-18T00:00:00\",\"2022-11-25T00:00:00\",\"2022-12-30T00:00:00\",\"2023-01-27T00:00:00\",\"2023-03-31T00:00:00\",\"2023-06-30T00:00:00\",\"2023-09-29T00:00:00\",\"2022-11-02T00:00:00\",\"2022-11-03T00:00:00\",\"2022-11-04T00:00:00\",\"2022-11-11T00:00:00\",\"2022-11-18T00:00:00\",\"2022-11-25T00:00:00\",\"2022-12-30T00:00:00\",\"2023-01-27T00:00:00\",\"2023-03-31T00:00:00\",\"2023-06-30T00:00:00\",\"2023-09-29T00:00:00\",\"2022-11-02T00:00:00\",\"2022-11-03T00:00:00\",\"2022-11-04T00:00:00\",\"2022-11-11T00:00:00\",\"2022-11-18T00:00:00\",\"2022-11-25T00:00:00\",\"2022-12-30T00:00:00\",\"2023-01-27T00:00:00\",\"2023-03-31T00:00:00\",\"2023-06-30T00:00:00\",\"2023-09-29T00:00:00\",\"2022-11-02T00:00:00\",\"2022-11-03T00:00:00\",\"2022-11-04T00:00:00\",\"2022-11-11T00:00:00\",\"2022-11-18T00:00:00\",\"2022-11-25T00:00:00\",\"2022-12-30T00:00:00\",\"2023-01-27T00:00:00\",\"2023-03-31T00:00:00\",\"2023-06-30T00:00:00\",\"2023-09-29T00:00:00\",\"2022-11-02T00:00:00\",\"2022-11-03T00:00:00\",\"2022-11-04T00:00:00\",\"2022-11-11T00:00:00\",\"2022-11-18T00:00:00\",\"2022-11-25T00:00:00\",\"2022-12-30T00:00:00\",\"2023-01-27T00:00:00\",\"2023-03-31T00:00:00\",\"2023-06-30T00:00:00\",\"2023-09-29T00:00:00\",\"2022-11-02T00:00:00\",\"2022-11-03T00:00:00\",\"2022-11-04T00:00:00\",\"2022-11-11T00:00:00\",\"2022-11-18T00:00:00\",\"2022-11-25T00:00:00\",\"2022-12-30T00:00:00\",\"2023-01-27T00:00:00\",\"2023-03-31T00:00:00\",\"2023-06-30T00:00:00\",\"2023-09-29T00:00:00\",\"2022-11-02T00:00:00\",\"2022-11-03T00:00:00\",\"2022-11-04T00:00:00\",\"2022-11-11T00:00:00\",\"2022-11-18T00:00:00\",\"2022-11-25T00:00:00\",\"2022-12-30T00:00:00\",\"2023-01-27T00:00:00\",\"2023-03-31T00:00:00\",\"2023-06-30T00:00:00\",\"2023-09-29T00:00:00\",\"2022-11-02T00:00:00\",\"2022-11-03T00:00:00\",\"2022-11-04T00:00:00\",\"2022-11-11T00:00:00\",\"2022-11-18T00:00:00\",\"2022-11-25T00:00:00\",\"2022-12-30T00:00:00\",\"2023-01-27T00:00:00\",\"2023-03-31T00:00:00\",\"2023-06-30T00:00:00\",\"2023-09-29T00:00:00\",\"2022-11-02T00:00:00\",\"2022-11-03T00:00:00\",\"2022-11-04T00:00:00\",\"2022-11-11T00:00:00\",\"2022-11-18T00:00:00\",\"2022-11-25T00:00:00\",\"2022-12-30T00:00:00\",\"2023-01-27T00:00:00\",\"2023-03-31T00:00:00\",\"2023-06-30T00:00:00\",\"2023-09-29T00:00:00\",\"2022-11-02T00:00:00\",\"2022-11-03T00:00:00\",\"2022-11-04T00:00:00\",\"2022-11-11T00:00:00\",\"2022-11-18T00:00:00\",\"2022-11-25T00:00:00\",\"2022-12-30T00:00:00\",\"2023-01-27T00:00:00\",\"2023-03-31T00:00:00\",\"2023-06-30T00:00:00\",\"2023-09-29T00:00:00\",\"2022-11-02T00:00:00\",\"2022-11-03T00:00:00\",\"2022-11-04T00:00:00\",\"2022-11-11T00:00:00\",\"2022-11-18T00:00:00\",\"2022-11-25T00:00:00\",\"2022-12-30T00:00:00\",\"2023-01-27T00:00:00\",\"2023-03-31T00:00:00\",\"2023-06-30T00:00:00\",\"2023-09-29T00:00:00\",\"2022-11-02T00:00:00\",\"2022-11-03T00:00:00\",\"2022-11-04T00:00:00\",\"2022-11-11T00:00:00\",\"2022-11-18T00:00:00\",\"2022-11-25T00:00:00\",\"2022-12-30T00:00:00\",\"2023-01-27T00:00:00\",\"2023-03-31T00:00:00\",\"2023-06-30T00:00:00\",\"2023-09-29T00:00:00\",\"2022-11-02T00:00:00\",\"2022-11-03T00:00:00\",\"2022-11-04T00:00:00\",\"2022-11-11T00:00:00\",\"2022-11-18T00:00:00\",\"2022-11-25T00:00:00\",\"2022-12-30T00:00:00\",\"2023-01-27T00:00:00\",\"2023-03-31T00:00:00\",\"2023-06-30T00:00:00\",\"2023-09-29T00:00:00\"],\"z\":[null,null,null,null,null,null,0.753,null,0.739,null,0.771,null,null,null,null,null,null,null,null,null,null,null,null,null,null,null,null,null,0.5045,null,0.536,0.533,null,null,null,null,null,null,null,null,null,0.492,null,null,null,null,null,null,null,null,0.385,null,null,null,null,null,null,null,null,null,null,null,null,0.5095,0.412,0.4315,null,null,null,null,null,null,0.311,null,0.361,0.3885,0.415,null,null,0.23,0.23,null,null,0.294,null,0.31,0.367,0.391,null,null,null,null,null,null,0.24,null,0.2677,0.325,0.365,null,null,null,null,null,null,null,null,null,null,null,null,null,null,null,null,0.1435,0.201,null,0.24,0.368,0.3117,null,null,null,null,null,null,null,null,null,null,null,null,null,0.1285,0.144,null,0.1245,0.1652,null,0.2015,0.27,null,null,null,0.116,0.1175,null,null,null,null,null,null,null,null,null,0.0865,0.0859,0.0928,0.1087,0.134,0.1545,0.195,0.23,0.2585,null,null,0.06,0.079,0.0675,null,null,null,null,null,null,0.0375,null,null,null,null,null,null,null,null,null,null,null,null,0.0315,0.0475,0.0555,0.0635,0.1025,0.137,0.173,0.2315,0.271,0.0105,0.024,null,null,null,null,null,null,null,null,null,0.0065,0.0165,0.0185,0.0365,0.0455,null,null,null,null,null,null,0.0025,0.011,null,null,null,null,null,null,null,null,null,0.001,0.0075,0.0105,0.024,0.037,0.0445,0.08,0.1055,0.156,0.2073,0.2425,0.0005,0.0045,null,null,null,null,null,null,null,null,null,0.0005,0.0035,0.005,0.018,0.027,null,null,null,null,null,null,0.0005,0.0015,0.0025,0.011,0.021,0.026,0.0627,0.0854,0.1291,0.1805,0.2345,0.0005,0.0005,null,null,null,null,null,null,null,null,null,null,0.0005,0.001,0.0055,0.0115,0.016,0.047,0.069,0.1045,0.174,0.209,null,0.0005,0.0005,0.0025,0.007,0.0095,0.036,0.0655,0.1,0.1573,0.19,null,null,0.0005,0.001,0.0035,0.0065,0.0266,0.0455,0.091,0.133,0.19,null,null,0.0005,0.001,0.0022,0.004,0.021,0.0381,0.075,0.126,null,null,null,0.0005,0.0005,0.002,null,0.016,null,0.059,0.115,null,null,null,0.0005,0.0005,0.001,0.002,0.013,0.025,0.058,0.112,null,null,null,0.0005,0.0005,0.0005,null,null,null,0.0575,0.1,null,null,null,null,0.0005,0.0005,0.001,0.0075,0.0185,0.0445,0.0885,0.1235,null,null,null,0.0005,0.0005,null,null,null,null,null,null,null,null,null,null,null,0.0005,0.0055,0.0125,0.038,null,null,null,null,null,null,null,null,null,null,null,null,null,null,null,null,null,null,0.0005,0.005,0.009,0.028,null,null,null,null,null,null,null,0.0005,0.003,0.0075,0.025,0.0595,0.0895,null,null,null,null,null,0.0005,0.0025,null,0.0235,null,null,null,null,null,null,null,null,0.0015,null,0.0185,null,null,null,null,null,null,null,0.0005,0.0015,0.0035,0.015,0.0395,0.0665,null,null,null,null,null,null,null,null,0.0125,null,null,null,null,null,null,null,0.0005,0.001,0.0025,0.0095,0.03,0.05,null,null,null,null,null,null,0.0005,null,0.008,0.0235,null,null,null,null,null,null,null,0.0005,null,0.005,null,null,null,null,null,null,null,null,0.0005,null,0.0035,0.0145,0.027,null,null,null,null,null,null,null,null,0.0025,null,null],\"type\":\"scatter3d\"}],                        {\"template\":{\"data\":{\"histogram2dcontour\":[{\"type\":\"histogram2dcontour\",\"colorbar\":{\"outlinewidth\":0,\"ticks\":\"\"},\"colorscale\":[[0.0,\"#0d0887\"],[0.1111111111111111,\"#46039f\"],[0.2222222222222222,\"#7201a8\"],[0.3333333333333333,\"#9c179e\"],[0.4444444444444444,\"#bd3786\"],[0.5555555555555556,\"#d8576b\"],[0.6666666666666666,\"#ed7953\"],[0.7777777777777778,\"#fb9f3a\"],[0.8888888888888888,\"#fdca26\"],[1.0,\"#f0f921\"]]}],\"choropleth\":[{\"type\":\"choropleth\",\"colorbar\":{\"outlinewidth\":0,\"ticks\":\"\"}}],\"histogram2d\":[{\"type\":\"histogram2d\",\"colorbar\":{\"outlinewidth\":0,\"ticks\":\"\"},\"colorscale\":[[0.0,\"#0d0887\"],[0.1111111111111111,\"#46039f\"],[0.2222222222222222,\"#7201a8\"],[0.3333333333333333,\"#9c179e\"],[0.4444444444444444,\"#bd3786\"],[0.5555555555555556,\"#d8576b\"],[0.6666666666666666,\"#ed7953\"],[0.7777777777777778,\"#fb9f3a\"],[0.8888888888888888,\"#fdca26\"],[1.0,\"#f0f921\"]]}],\"heatmap\":[{\"type\":\"heatmap\",\"colorbar\":{\"outlinewidth\":0,\"ticks\":\"\"},\"colorscale\":[[0.0,\"#0d0887\"],[0.1111111111111111,\"#46039f\"],[0.2222222222222222,\"#7201a8\"],[0.3333333333333333,\"#9c179e\"],[0.4444444444444444,\"#bd3786\"],[0.5555555555555556,\"#d8576b\"],[0.6666666666666666,\"#ed7953\"],[0.7777777777777778,\"#fb9f3a\"],[0.8888888888888888,\"#fdca26\"],[1.0,\"#f0f921\"]]}],\"heatmapgl\":[{\"type\":\"heatmapgl\",\"colorbar\":{\"outlinewidth\":0,\"ticks\":\"\"},\"colorscale\":[[0.0,\"#0d0887\"],[0.1111111111111111,\"#46039f\"],[0.2222222222222222,\"#7201a8\"],[0.3333333333333333,\"#9c179e\"],[0.4444444444444444,\"#bd3786\"],[0.5555555555555556,\"#d8576b\"],[0.6666666666666666,\"#ed7953\"],[0.7777777777777778,\"#fb9f3a\"],[0.8888888888888888,\"#fdca26\"],[1.0,\"#f0f921\"]]}],\"contourcarpet\":[{\"type\":\"contourcarpet\",\"colorbar\":{\"outlinewidth\":0,\"ticks\":\"\"}}],\"contour\":[{\"type\":\"contour\",\"colorbar\":{\"outlinewidth\":0,\"ticks\":\"\"},\"colorscale\":[[0.0,\"#0d0887\"],[0.1111111111111111,\"#46039f\"],[0.2222222222222222,\"#7201a8\"],[0.3333333333333333,\"#9c179e\"],[0.4444444444444444,\"#bd3786\"],[0.5555555555555556,\"#d8576b\"],[0.6666666666666666,\"#ed7953\"],[0.7777777777777778,\"#fb9f3a\"],[0.8888888888888888,\"#fdca26\"],[1.0,\"#f0f921\"]]}],\"surface\":[{\"type\":\"surface\",\"colorbar\":{\"outlinewidth\":0,\"ticks\":\"\"},\"colorscale\":[[0.0,\"#0d0887\"],[0.1111111111111111,\"#46039f\"],[0.2222222222222222,\"#7201a8\"],[0.3333333333333333,\"#9c179e\"],[0.4444444444444444,\"#bd3786\"],[0.5555555555555556,\"#d8576b\"],[0.6666666666666666,\"#ed7953\"],[0.7777777777777778,\"#fb9f3a\"],[0.8888888888888888,\"#fdca26\"],[1.0,\"#f0f921\"]]}],\"mesh3d\":[{\"type\":\"mesh3d\",\"colorbar\":{\"outlinewidth\":0,\"ticks\":\"\"}}],\"scatter\":[{\"fillpattern\":{\"fillmode\":\"overlay\",\"size\":10,\"solidity\":0.2},\"type\":\"scatter\"}],\"parcoords\":[{\"type\":\"parcoords\",\"line\":{\"colorbar\":{\"outlinewidth\":0,\"ticks\":\"\"}}}],\"scatterpolargl\":[{\"type\":\"scatterpolargl\",\"marker\":{\"colorbar\":{\"outlinewidth\":0,\"ticks\":\"\"}}}],\"bar\":[{\"error_x\":{\"color\":\"#2a3f5f\"},\"error_y\":{\"color\":\"#2a3f5f\"},\"marker\":{\"line\":{\"color\":\"#E5ECF6\",\"width\":0.5},\"pattern\":{\"fillmode\":\"overlay\",\"size\":10,\"solidity\":0.2}},\"type\":\"bar\"}],\"scattergeo\":[{\"type\":\"scattergeo\",\"marker\":{\"colorbar\":{\"outlinewidth\":0,\"ticks\":\"\"}}}],\"scatterpolar\":[{\"type\":\"scatterpolar\",\"marker\":{\"colorbar\":{\"outlinewidth\":0,\"ticks\":\"\"}}}],\"histogram\":[{\"marker\":{\"pattern\":{\"fillmode\":\"overlay\",\"size\":10,\"solidity\":0.2}},\"type\":\"histogram\"}],\"scattergl\":[{\"type\":\"scattergl\",\"marker\":{\"colorbar\":{\"outlinewidth\":0,\"ticks\":\"\"}}}],\"scatter3d\":[{\"type\":\"scatter3d\",\"line\":{\"colorbar\":{\"outlinewidth\":0,\"ticks\":\"\"}},\"marker\":{\"colorbar\":{\"outlinewidth\":0,\"ticks\":\"\"}}}],\"scattermapbox\":[{\"type\":\"scattermapbox\",\"marker\":{\"colorbar\":{\"outlinewidth\":0,\"ticks\":\"\"}}}],\"scatterternary\":[{\"type\":\"scatterternary\",\"marker\":{\"colorbar\":{\"outlinewidth\":0,\"ticks\":\"\"}}}],\"scattercarpet\":[{\"type\":\"scattercarpet\",\"marker\":{\"colorbar\":{\"outlinewidth\":0,\"ticks\":\"\"}}}],\"carpet\":[{\"aaxis\":{\"endlinecolor\":\"#2a3f5f\",\"gridcolor\":\"white\",\"linecolor\":\"white\",\"minorgridcolor\":\"white\",\"startlinecolor\":\"#2a3f5f\"},\"baxis\":{\"endlinecolor\":\"#2a3f5f\",\"gridcolor\":\"white\",\"linecolor\":\"white\",\"minorgridcolor\":\"white\",\"startlinecolor\":\"#2a3f5f\"},\"type\":\"carpet\"}],\"table\":[{\"cells\":{\"fill\":{\"color\":\"#EBF0F8\"},\"line\":{\"color\":\"white\"}},\"header\":{\"fill\":{\"color\":\"#C8D4E3\"},\"line\":{\"color\":\"white\"}},\"type\":\"table\"}],\"barpolar\":[{\"marker\":{\"line\":{\"color\":\"#E5ECF6\",\"width\":0.5},\"pattern\":{\"fillmode\":\"overlay\",\"size\":10,\"solidity\":0.2}},\"type\":\"barpolar\"}],\"pie\":[{\"automargin\":true,\"type\":\"pie\"}]},\"layout\":{\"autotypenumbers\":\"strict\",\"colorway\":[\"#636efa\",\"#EF553B\",\"#00cc96\",\"#ab63fa\",\"#FFA15A\",\"#19d3f3\",\"#FF6692\",\"#B6E880\",\"#FF97FF\",\"#FECB52\"],\"font\":{\"color\":\"#2a3f5f\"},\"hovermode\":\"closest\",\"hoverlabel\":{\"align\":\"left\"},\"paper_bgcolor\":\"white\",\"plot_bgcolor\":\"#E5ECF6\",\"polar\":{\"bgcolor\":\"#E5ECF6\",\"angularaxis\":{\"gridcolor\":\"white\",\"linecolor\":\"white\",\"ticks\":\"\"},\"radialaxis\":{\"gridcolor\":\"white\",\"linecolor\":\"white\",\"ticks\":\"\"}},\"ternary\":{\"bgcolor\":\"#E5ECF6\",\"aaxis\":{\"gridcolor\":\"white\",\"linecolor\":\"white\",\"ticks\":\"\"},\"baxis\":{\"gridcolor\":\"white\",\"linecolor\":\"white\",\"ticks\":\"\"},\"caxis\":{\"gridcolor\":\"white\",\"linecolor\":\"white\",\"ticks\":\"\"}},\"coloraxis\":{\"colorbar\":{\"outlinewidth\":0,\"ticks\":\"\"}},\"colorscale\":{\"sequential\":[[0.0,\"#0d0887\"],[0.1111111111111111,\"#46039f\"],[0.2222222222222222,\"#7201a8\"],[0.3333333333333333,\"#9c179e\"],[0.4444444444444444,\"#bd3786\"],[0.5555555555555556,\"#d8576b\"],[0.6666666666666666,\"#ed7953\"],[0.7777777777777778,\"#fb9f3a\"],[0.8888888888888888,\"#fdca26\"],[1.0,\"#f0f921\"]],\"sequentialminus\":[[0.0,\"#0d0887\"],[0.1111111111111111,\"#46039f\"],[0.2222222222222222,\"#7201a8\"],[0.3333333333333333,\"#9c179e\"],[0.4444444444444444,\"#bd3786\"],[0.5555555555555556,\"#d8576b\"],[0.6666666666666666,\"#ed7953\"],[0.7777777777777778,\"#fb9f3a\"],[0.8888888888888888,\"#fdca26\"],[1.0,\"#f0f921\"]],\"diverging\":[[0,\"#8e0152\"],[0.1,\"#c51b7d\"],[0.2,\"#de77ae\"],[0.3,\"#f1b6da\"],[0.4,\"#fde0ef\"],[0.5,\"#f7f7f7\"],[0.6,\"#e6f5d0\"],[0.7,\"#b8e186\"],[0.8,\"#7fbc41\"],[0.9,\"#4d9221\"],[1,\"#276419\"]]},\"xaxis\":{\"gridcolor\":\"white\",\"linecolor\":\"white\",\"ticks\":\"\",\"title\":{\"standoff\":15},\"zerolinecolor\":\"white\",\"automargin\":true,\"zerolinewidth\":2},\"yaxis\":{\"gridcolor\":\"white\",\"linecolor\":\"white\",\"ticks\":\"\",\"title\":{\"standoff\":15},\"zerolinecolor\":\"white\",\"automargin\":true,\"zerolinewidth\":2},\"scene\":{\"xaxis\":{\"backgroundcolor\":\"#E5ECF6\",\"gridcolor\":\"white\",\"linecolor\":\"white\",\"showbackground\":true,\"ticks\":\"\",\"zerolinecolor\":\"white\",\"gridwidth\":2},\"yaxis\":{\"backgroundcolor\":\"#E5ECF6\",\"gridcolor\":\"white\",\"linecolor\":\"white\",\"showbackground\":true,\"ticks\":\"\",\"zerolinecolor\":\"white\",\"gridwidth\":2},\"zaxis\":{\"backgroundcolor\":\"#E5ECF6\",\"gridcolor\":\"white\",\"linecolor\":\"white\",\"showbackground\":true,\"ticks\":\"\",\"zerolinecolor\":\"white\",\"gridwidth\":2}},\"shapedefaults\":{\"line\":{\"color\":\"#2a3f5f\"}},\"annotationdefaults\":{\"arrowcolor\":\"#2a3f5f\",\"arrowhead\":0,\"arrowwidth\":1},\"geo\":{\"bgcolor\":\"white\",\"landcolor\":\"#E5ECF6\",\"subunitcolor\":\"white\",\"showland\":true,\"showlakes\":true,\"lakecolor\":\"white\"},\"title\":{\"x\":0.05},\"mapbox\":{\"style\":\"light\"}}},\"margin\":{\"l\":25,\"r\":25,\"b\":25,\"t\":30},\"font\":{\"family\":\"Courier New, monospace\",\"size\":12,\"color\":\"RebeccaPurple\"},\"scene\":{\"xaxis\":{\"title\":{\"text\":\"Strike\"}},\"yaxis\":{\"title\":{\"text\":\"Maturity\"}},\"zaxis\":{\"title\":{\"text\":\"Price\"}}},\"width\":400,\"height\":400},                        {\"responsive\": true}                    ).then(function(){\n                            \nvar gd = document.getElementById('a3d69c42-ad72-4057-9790-f74c85396deb');\nvar x = new MutationObserver(function (mutations, observer) {{\n        var display = window.getComputedStyle(gd).display;\n        if (!display || display === 'none') {{\n            console.log([gd, 'removed!']);\n            Plotly.purge(gd);\n            observer.disconnect();\n        }}\n}});\n\n// Listen for the removal of the full notebook cells\nvar notebookContainer = gd.closest('#notebook-container');\nif (notebookContainer) {{\n    x.observe(notebookContainer, {childList: true});\n}}\n\n// Listen for the clearing of the current output cell\nvar outputEl = gd.closest('.output');\nif (outputEl) {{\n    x.observe(outputEl, {childList: true});\n}}\n\n                        })                };                });            </script>        </div>"
     },
     "metadata": {},
     "output_type": "display_data"
    }
   ],
   "source": [
    "X = []\n",
    "Y = []\n",
    "Z = []\n",
    "rows = surface.shape[1]\n",
    "lines = surface.shape[0]\n",
    "for index in surface.index[:-10]:\n",
    "    line = surface.loc[index, :]\n",
    "    X.extend(rows * [index])\n",
    "    Y.extend(surface.columns)\n",
    "    Z.extend(line.values)\n",
    "\n",
    "fig = go.Figure(data=[go.Scatter3d(\n",
    "    x=X,\n",
    "    y=Y,\n",
    "    z=Z,\n",
    "    mode='markers',\n",
    "    marker=dict(\n",
    "        size=4,\n",
    "        color=Z,                # set color to an array/list of desired values\n",
    "        colorscale='Viridis',   # choose a colorscale\n",
    "        opacity=0.8\n",
    "    )\n",
    ")])\n",
    "\n",
    "# tight layout\n",
    "fig.update_layout(margin=dict(l=0, r=0, b=0, t=0))\n",
    "fig.update_layout(scene= dict(\n",
    "                          xaxis_title=\"Strike\",\n",
    "                          yaxis_title=\"Maturity\",\n",
    "                          zaxis_title=\"Price\",\n",
    "                          ),\n",
    "                          width=400, height=400,\n",
    "                          margin=dict(l=25, r=25, b=25, t=30),\n",
    "                              font=dict(\n",
    "        family=\"Courier New, monospace\",\n",
    "        size=12,\n",
    "        color=\"RebeccaPurple\"\n",
    "    )\n",
    ")\n",
    "fig.show()"
   ],
   "metadata": {
    "collapsed": false,
    "pycharm": {
     "name": "#%%\n"
    }
   }
  },
  {
   "cell_type": "code",
   "execution_count": 5,
   "outputs": [
    {
     "data": {
      "text/plain": "DatetimeIndex(['2022-10-30', '2022-10-31', '2022-11-04', '2022-11-11',\n               '2022-11-18', '2022-11-25', '2022-12-30', '2023-01-27',\n               '2023-03-31', '2023-06-30', '2023-09-29'],\n              dtype='datetime64[ns]', freq=None)"
     },
     "execution_count": 5,
     "metadata": {},
     "output_type": "execute_result"
    }
   ],
   "source": [
    "surface.columns"
   ],
   "metadata": {
    "collapsed": false,
    "pycharm": {
     "name": "#%%\n"
    }
   }
  },
  {
   "cell_type": "code",
   "execution_count": 6,
   "outputs": [
    {
     "data": {
      "text/plain": "<Figure size 600x400 with 1 Axes>",
      "image/png": "[encoded data removed]"
     },
     "metadata": {},
     "output_type": "display_data"
    },
    {
     "data": {
      "text/plain": "<Figure size 600x400 with 1 Axes>",
      "image/png": "[encoded data removed]"
     },
     "metadata": {},
     "output_type": "display_data"
    },
    {
     "data": {
      "text/plain": "<Figure size 600x400 with 1 Axes>",
      "image/png": "[encoded data removed]"
     },
     "metadata": {},
     "output_type": "display_data"
    },
    {
     "data": {
      "text/plain": "<Figure size 600x400 with 1 Axes>",
      "image/png": "[encoded data removed]"
     },
     "metadata": {},
     "output_type": "display_data"
    },
    {
     "data": {
      "text/plain": "<Figure size 600x400 with 1 Axes>",
      "image/png": "[encoded data removed]"
     },
     "metadata": {},
     "output_type": "display_data"
    },
    {
     "data": {
      "text/plain": "<Figure size 600x400 with 1 Axes>",
      "image/png": "[encoded data removed]"
     },
     "metadata": {},
     "output_type": "display_data"
    },
    {
     "data": {
      "text/plain": "<Figure size 600x400 with 1 Axes>",
      "image/png": "[encoded data removed]"
     },
     "metadata": {},
     "output_type": "display_data"
    },
    {
     "data": {
      "text/plain": "<Figure size 600x400 with 1 Axes>",
      "image/png": "[encoded data removed]"
     },
     "metadata": {},
     "output_type": "display_data"
    },
    {
     "data": {
      "text/plain": "<Figure size 600x400 with 1 Axes>",
      "image/png": "[encoded data removed]"
     },
     "metadata": {},
     "output_type": "display_data"
    },
    {
     "data": {
      "text/plain": "<Figure size 600x400 with 1 Axes>",
      "image/png": "[encoded data removed]"
     },
     "metadata": {},
     "output_type": "display_data"
    },
    {
     "data": {
      "text/plain": "<Figure size 600x400 with 1 Axes>",
      "image/png": "[encoded data removed]"
     },
     "metadata": {},
     "output_type": "display_data"
    }
   ],
   "source": [
    "for column in surface.columns:\n",
    "    plt.figure(figsize=(6, 4))\n",
    "    plt.title(f\"Maturity = {column}\")\n",
    "    surface.loc[:,column].dropna().plot()\n",
    "    plt.show()"
   ],
   "metadata": {
    "collapsed": false,
    "pycharm": {
     "name": "#%%\n"
    }
   }
  }
 ],
 "metadata": {
  "kernelspec": {
   "display_name": "Python 3",
   "language": "python",
   "name": "python3"
  },
  "language_info": {
   "codemirror_mode": {
    "name": "ipython",
    "version": 2
   },
   "file_extension": ".py",
   "mimetype": "text/x-python",
   "name": "python",
   "nbconvert_exporter": "python",
   "pygments_lexer": "ipython2",
   "version": "2.7.6"
  }
 },
 "nbformat": 4,
 "nbformat_minor": 0
}