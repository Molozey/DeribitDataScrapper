{
 "cells": [
  {
   "cell_type": "code",
   "execution_count": 1,
   "metadata": {
    "collapsed": true
   },
   "outputs": [],
   "source": [
    "from oldDeribitAPI import DeribitConnectionOld\n",
    "from AvailableInstruments import Instrument\n",
    "import pandas as pd\n",
    "import datetime"
   ]
  },
  {
   "cell_type": "code",
   "execution_count": 6,
   "outputs": [
    {
     "name": "stderr",
     "output_type": "stream",
     "text": [
      "100%|██████████| 5/5 [00:05<00:00,  1.14s/it]\n"
     ]
    }
   ],
   "source": [
    "FROM_NOW = True\n",
    "deribit = DeribitConnectionOld(\"\")\n",
    "# Way to create start loading data\n",
    "if FROM_NOW:\n",
    "    start_load = int(datetime.datetime.now().timestamp() * 1000)\n",
    "else:\n",
    "    start_load = int(datetime.datetime(year=2021, month=1, day=1, hour=1, minute=1, second=1).timestamp() * 1000)\n",
    "# Sample to get information about BTC-PERPETUAL.\n",
    "df = deribit.get_instrument_last_prices(Instrument.BTC_PERPETUAL, 10_00, number_of_requests=5, date_of_start_loading_data=start_load)\n",
    "df.index = pd.to_datetime(df.timestamp * 10 ** 6)\n",
    "df.to_csv(\"loaded_data_ticks.csv\")"
   ],
   "metadata": {
    "collapsed": false,
    "pycharm": {
     "name": "#%%\n"
    }
   }
  },
  {
   "cell_type": "code",
   "execution_count": 5,
   "outputs": [
    {
     "data": {
      "text/plain": "                         trade_seq   trade_id      timestamp  tick_direction  \\\ntimestamp                                                                      \n2020-12-31 22:00:59.396   74720821  112114741  1609452059396               1   \n2020-12-31 22:00:59.396   74720820  112114740  1609452059396               1   \n2020-12-31 22:00:59.396   74720819  112114739  1609452059396               1   \n2020-12-31 22:00:59.387   74720818  112114738  1609452059387               1   \n2020-12-31 22:00:59.264   74720817  112114737  1609452059264               0   \n...                            ...        ...            ...             ...   \n2020-12-31 20:44:12.206   74714845  112105317  1609447452206               2   \n2020-12-31 20:44:03.568   74714844  112105316  1609447443568               0   \n2020-12-31 20:44:02.982   74714843  112105312  1609447442982               2   \n2020-12-31 20:44:02.982   74714842  112105311  1609447442982               3   \n2020-12-31 20:44:02.974   74714841  112105310  1609447442974               2   \n\n                           price  mark_price instrument_name  index_price  \\\ntimestamp                                                                   \n2020-12-31 22:00:59.396  29026.5    29024.36   BTC-PERPETUAL     29026.63   \n2020-12-31 22:00:59.396  29026.5    29024.36   BTC-PERPETUAL     29026.63   \n2020-12-31 22:00:59.396  29026.5    29024.36   BTC-PERPETUAL     29026.63   \n2020-12-31 22:00:59.387  29026.5    29024.36   BTC-PERPETUAL     29026.63   \n2020-12-31 22:00:59.264  29026.5    29024.10   BTC-PERPETUAL     29026.63   \n...                          ...         ...             ...          ...   \n2020-12-31 20:44:12.206  28980.5    28983.49   BTC-PERPETUAL     28994.80   \n2020-12-31 20:44:03.568  28987.0    28992.70   BTC-PERPETUAL     29001.08   \n2020-12-31 20:44:02.982  28985.0    28994.37   BTC-PERPETUAL     29002.75   \n2020-12-31 20:44:02.982  28985.5    28994.37   BTC-PERPETUAL     29002.75   \n2020-12-31 20:44:02.974  28985.5    28994.37   BTC-PERPETUAL     29002.75   \n\n                        direction   amount block_trade_id liquidation  \ntimestamp                                                              \n2020-12-31 22:00:59.396       buy    120.0            NaN         NaN  \n2020-12-31 22:00:59.396       buy     50.0            NaN         NaN  \n2020-12-31 22:00:59.396       buy   2170.0            NaN         NaN  \n2020-12-31 22:00:59.387       buy    830.0            NaN         NaN  \n2020-12-31 22:00:59.264       buy     20.0            NaN         NaN  \n...                           ...      ...            ...         ...  \n2020-12-31 20:44:12.206       buy     40.0            NaN         NaN  \n2020-12-31 20:44:03.568      sell    310.0            NaN         NaN  \n2020-12-31 20:44:02.982      sell     10.0            NaN         NaN  \n2020-12-31 20:44:02.982      sell     10.0            NaN         NaN  \n2020-12-31 20:44:02.974      sell  29990.0            NaN         NaN  \n\n[5981 rows x 12 columns]",
      "text/html": "<div>\n<style scoped>\n    .dataframe tbody tr th:only-of-type {\n        vertical-align: middle;\n    }\n\n    .dataframe tbody tr th {\n        vertical-align: top;\n    }\n\n    .dataframe thead th {\n        text-align: right;\n    }\n</style>\n<table border=\"1\" class=\"dataframe\">\n  <thead>\n    <tr style=\"text-align: right;\">\n      <th></th>\n      <th>trade_seq</th>\n      <th>trade_id</th>\n      <th>timestamp</th>\n      <th>tick_direction</th>\n      <th>price</th>\n      <th>mark_price</th>\n      <th>instrument_name</th>\n      <th>index_price</th>\n      <th>direction</th>\n      <th>amount</th>\n      <th>block_trade_id</th>\n      <th>liquidation</th>\n    </tr>\n    <tr>\n      <th>timestamp</th>\n      <th></th>\n      <th></th>\n      <th></th>\n      <th></th>\n      <th></th>\n      <th></th>\n      <th></th>\n      <th></th>\n      <th></th>\n      <th></th>\n      <th></th>\n      <th></th>\n    </tr>\n  </thead>\n  <tbody>\n    <tr>\n      <th>2020-12-31 22:00:59.396</th>\n      <td>74720821</td>\n      <td>112114741</td>\n      <td>1609452059396</td>\n      <td>1</td>\n      <td>29026.5</td>\n      <td>29024.36</td>\n      <td>BTC-PERPETUAL</td>\n      <td>29026.63</td>\n      <td>buy</td>\n      <td>120.0</td>\n      <td>NaN</td>\n      <td>NaN</td>\n    </tr>\n    <tr>\n      <th>2020-12-31 22:00:59.396</th>\n      <td>74720820</td>\n      <td>112114740</td>\n      <td>1609452059396</td>\n      <td>1</td>\n      <td>29026.5</td>\n      <td>29024.36</td>\n      <td>BTC-PERPETUAL</td>\n      <td>29026.63</td>\n      <td>buy</td>\n      <td>50.0</td>\n      <td>NaN</td>\n      <td>NaN</td>\n    </tr>\n    <tr>\n      <th>2020-12-31 22:00:59.396</th>\n      <td>74720819</td>\n      <td>112114739</td>\n      <td>1609452059396</td>\n      <td>1</td>\n      <td>29026.5</td>\n      <td>29024.36</td>\n      <td>BTC-PERPETUAL</td>\n      <td>29026.63</td>\n      <td>buy</td>\n      <td>2170.0</td>\n      <td>NaN</td>\n      <td>NaN</td>\n    </tr>\n    <tr>\n      <th>2020-12-31 22:00:59.387</th>\n      <td>74720818</td>\n      <td>112114738</td>\n      <td>1609452059387</td>\n      <td>1</td>\n      <td>29026.5</td>\n      <td>29024.36</td>\n      <td>BTC-PERPETUAL</td>\n      <td>29026.63</td>\n      <td>buy</td>\n      <td>830.0</td>\n      <td>NaN</td>\n      <td>NaN</td>\n    </tr>\n    <tr>\n      <th>2020-12-31 22:00:59.264</th>\n      <td>74720817</td>\n      <td>112114737</td>\n      <td>1609452059264</td>\n      <td>0</td>\n      <td>29026.5</td>\n      <td>29024.10</td>\n      <td>BTC-PERPETUAL</td>\n      <td>29026.63</td>\n      <td>buy</td>\n      <td>20.0</td>\n      <td>NaN</td>\n      <td>NaN</td>\n    </tr>\n    <tr>\n      <th>...</th>\n      <td>...</td>\n      <td>...</td>\n      <td>...</td>\n      <td>...</td>\n      <td>...</td>\n      <td>...</td>\n      <td>...</td>\n      <td>...</td>\n      <td>...</td>\n      <td>...</td>\n      <td>...</td>\n      <td>...</td>\n    </tr>\n    <tr>\n      <th>2020-12-31 20:44:12.206</th>\n      <td>74714845</td>\n      <td>112105317</td>\n      <td>1609447452206</td>\n      <td>2</td>\n      <td>28980.5</td>\n      <td>28983.49</td>\n      <td>BTC-PERPETUAL</td>\n      <td>28994.80</td>\n      <td>buy</td>\n      <td>40.0</td>\n      <td>NaN</td>\n      <td>NaN</td>\n    </tr>\n    <tr>\n      <th>2020-12-31 20:44:03.568</th>\n      <td>74714844</td>\n      <td>112105316</td>\n      <td>1609447443568</td>\n      <td>0</td>\n      <td>28987.0</td>\n      <td>28992.70</td>\n      <td>BTC-PERPETUAL</td>\n      <td>29001.08</td>\n      <td>sell</td>\n      <td>310.0</td>\n      <td>NaN</td>\n      <td>NaN</td>\n    </tr>\n    <tr>\n      <th>2020-12-31 20:44:02.982</th>\n      <td>74714843</td>\n      <td>112105312</td>\n      <td>1609447442982</td>\n      <td>2</td>\n      <td>28985.0</td>\n      <td>28994.37</td>\n      <td>BTC-PERPETUAL</td>\n      <td>29002.75</td>\n      <td>sell</td>\n      <td>10.0</td>\n      <td>NaN</td>\n      <td>NaN</td>\n    </tr>\n    <tr>\n      <th>2020-12-31 20:44:02.982</th>\n      <td>74714842</td>\n      <td>112105311</td>\n      <td>1609447442982</td>\n      <td>3</td>\n      <td>28985.5</td>\n      <td>28994.37</td>\n      <td>BTC-PERPETUAL</td>\n      <td>29002.75</td>\n      <td>sell</td>\n      <td>10.0</td>\n      <td>NaN</td>\n      <td>NaN</td>\n    </tr>\n    <tr>\n      <th>2020-12-31 20:44:02.974</th>\n      <td>74714841</td>\n      <td>112105310</td>\n      <td>1609447442974</td>\n      <td>2</td>\n      <td>28985.5</td>\n      <td>28994.37</td>\n      <td>BTC-PERPETUAL</td>\n      <td>29002.75</td>\n      <td>sell</td>\n      <td>29990.0</td>\n      <td>NaN</td>\n      <td>NaN</td>\n    </tr>\n  </tbody>\n</table>\n<p>5981 rows × 12 columns</p>\n</div>"
     },
     "execution_count": 5,
     "metadata": {},
     "output_type": "execute_result"
    }
   ],
   "source": [
    "df"
   ],
   "metadata": {
    "collapsed": false,
    "pycharm": {
     "name": "#%%\n"
    }
   }
  },
  {
   "cell_type": "code",
   "execution_count": null,
   "outputs": [],
   "source": [
    "bars = DeribitConnectionOld.create_bars(df)\n",
    "bars.to_csv(\"minute_bars.csv\")"
   ],
   "metadata": {
    "collapsed": false,
    "pycharm": {
     "name": "#%%\n"
    }
   }
  },
  {
   "cell_type": "code",
   "execution_count": null,
   "outputs": [],
   "source": [
    "bars"
   ],
   "metadata": {
    "collapsed": false,
    "pycharm": {
     "name": "#%%\n"
    }
   }
  }
 ],
 "metadata": {
  "kernelspec": {
   "display_name": "Python 3",
   "language": "python",
   "name": "python3"
  },
  "language_info": {
   "codemirror_mode": {
    "name": "ipython",
    "version": 2
   },
   "file_extension": ".py",
   "mimetype": "text/x-python",
   "name": "python",
   "nbconvert_exporter": "python",
   "pygments_lexer": "ipython2",
   "version": "2.7.6"
  }
 },
 "nbformat": 4,
 "nbformat_minor": 0
}